{
  "nbformat": 4,
  "nbformat_minor": 0,
  "metadata": {
    "colab": {
      "provenance": [],
      "gpuType": "T4"
    },
    "kernelspec": {
      "name": "python3",
      "display_name": "Python 3"
    },
    "language_info": {
      "name": "python"
    },
    "accelerator": "GPU"
  },
  "cells": [
    {
      "cell_type": "markdown",
      "source": [
        "**Install PySpark**"
      ],
      "metadata": {
        "id": "0Fdl5TfCTwC6"
      }
    },
    {
      "cell_type": "code",
      "execution_count": null,
      "metadata": {
        "colab": {
          "base_uri": "https://localhost:8080/"
        },
        "id": "fhpH7Mqij7bM",
        "outputId": "22b17289-b9cf-4c87-d330-96823ae0f06f"
      },
      "outputs": [
        {
          "output_type": "stream",
          "name": "stdout",
          "text": [
            "Collecting pyspark\n",
            "  Downloading pyspark-3.4.1.tar.gz (310.8 MB)\n",
            "\u001b[2K     \u001b[90m━━━━━━━━━━━━━━━━━━━━━━━━━━━━━━━━━━━━━━━\u001b[0m \u001b[32m310.8/310.8 MB\u001b[0m \u001b[31m4.9 MB/s\u001b[0m eta \u001b[36m0:00:00\u001b[0m\n",
            "\u001b[?25h  Preparing metadata (setup.py) ... \u001b[?25l\u001b[?25hdone\n",
            "Requirement already satisfied: py4j==0.10.9.7 in /usr/local/lib/python3.10/dist-packages (from pyspark) (0.10.9.7)\n",
            "Building wheels for collected packages: pyspark\n",
            "  Building wheel for pyspark (setup.py) ... \u001b[?25l\u001b[?25hdone\n",
            "  Created wheel for pyspark: filename=pyspark-3.4.1-py2.py3-none-any.whl size=311285387 sha256=b63b0db75e49dc328c03788582c1bb295b17cb141c879d7d4e7d929537a064b3\n",
            "  Stored in directory: /root/.cache/pip/wheels/0d/77/a3/ff2f74cc9ab41f8f594dabf0579c2a7c6de920d584206e0834\n",
            "Successfully built pyspark\n",
            "Installing collected packages: pyspark\n",
            "Successfully installed pyspark-3.4.1\n"
          ]
        }
      ],
      "source": [
        "!pip install pyspark"
      ]
    },
    {
      "cell_type": "code",
      "source": [
        "from pyspark.sql import SparkSession\n",
        "spark = SparkSession.builder.appName(\"SalesAnalysis\").getOrCreate()"
      ],
      "metadata": {
        "id": "5DD1XFyWj8-G"
      },
      "execution_count": null,
      "outputs": []
    },
    {
      "cell_type": "markdown",
      "source": [
        "**Loading the data from google drive**"
      ],
      "metadata": {
        "id": "IH6UWJLST2Ah"
      }
    },
    {
      "cell_type": "code",
      "source": [
        "from google.colab import drive\n",
        "drive.mount('/content/drive')"
      ],
      "metadata": {
        "colab": {
          "base_uri": "https://localhost:8080/"
        },
        "id": "UZR440NXkOpa",
        "outputId": "70413afc-8a1d-47b4-e3bc-70ba6fa8da47"
      },
      "execution_count": null,
      "outputs": [
        {
          "output_type": "stream",
          "name": "stdout",
          "text": [
            "Mounted at /content/drive\n"
          ]
        }
      ]
    },
    {
      "cell_type": "code",
      "source": [
        "!pip install openpyxl"
      ],
      "metadata": {
        "colab": {
          "base_uri": "https://localhost:8080/"
        },
        "id": "ol4orExtA9bY",
        "outputId": "5f49ad84-8371-482e-8d26-8281f9fa1939"
      },
      "execution_count": null,
      "outputs": [
        {
          "output_type": "stream",
          "name": "stdout",
          "text": [
            "Requirement already satisfied: openpyxl in /usr/local/lib/python3.10/dist-packages (3.1.2)\n",
            "Requirement already satisfied: et-xmlfile in /usr/local/lib/python3.10/dist-packages (from openpyxl) (1.1.0)\n"
          ]
        }
      ]
    },
    {
      "cell_type": "code",
      "source": [
        "path = \"/content/drive/MyDrive/Surge Global/DS_DE Internship - GS Sales Data 2022.v2.xlsx\""
      ],
      "metadata": {
        "id": "MBaAjixJK1Fw"
      },
      "execution_count": null,
      "outputs": []
    },
    {
      "cell_type": "code",
      "source": [
        "import pandas as pd\n",
        "from pandas import ExcelFile\n",
        "df = pd.ExcelFile('/content/drive/MyDrive/Surge Global/DS_DE Internship - GS Sales Data 2022.v2.xlsx', engine ='openpyxl')\n",
        "print(df)"
      ],
      "metadata": {
        "colab": {
          "base_uri": "https://localhost:8080/"
        },
        "id": "DgcY6icwK_cu",
        "outputId": "45caa66b-141f-4d10-d82e-a69a4f1fbe2d"
      },
      "execution_count": null,
      "outputs": [
        {
          "output_type": "stream",
          "name": "stdout",
          "text": [
            "<pandas.io.excel._base.ExcelFile object at 0x785902311b70>\n"
          ]
        }
      ]
    },
    {
      "cell_type": "code",
      "source": [
        "df.sheet_names"
      ],
      "metadata": {
        "colab": {
          "base_uri": "https://localhost:8080/"
        },
        "id": "BocQDcfiLLS2",
        "outputId": "14d08c42-a685-4cfd-81bf-9c0b9ee6e4bc"
      },
      "execution_count": null,
      "outputs": [
        {
          "output_type": "execute_result",
          "data": {
            "text/plain": [
              "['Task', 'GS Sales Data', 'Daily Target']"
            ]
          },
          "metadata": {},
          "execution_count": 7
        }
      ]
    },
    {
      "cell_type": "markdown",
      "source": [
        "*Load GS Sales Data Sheet*"
      ],
      "metadata": {
        "id": "UecgXqR_gGJU"
      }
    },
    {
      "cell_type": "code",
      "source": [
        "gs_sales_df = df.parse(\"GS Sales Data\")\n",
        "display(gs_sales_df.head(5))"
      ],
      "metadata": {
        "colab": {
          "base_uri": "https://localhost:8080/",
          "height": 620
        },
        "id": "WpzM82w6MGxj",
        "outputId": "30c79311-21c9-4af6-e4ac-9d34279159a2"
      },
      "execution_count": null,
      "outputs": [
        {
          "output_type": "display_data",
          "data": {
            "text/plain": [
              "   Row ID        Order ID Order Date Order_Week  Ship Date Ship_Week  \\\n",
              "0       1  US-2019-103800 2019-01-03     2019-1 2019-01-07    2019-2   \n",
              "1       2  US-2019-112326 2019-01-04     2019-1 2019-01-08    2019-2   \n",
              "2       3  US-2019-112326 2019-01-04     2019-1 2019-01-08    2019-2   \n",
              "3       4  US-2019-112326 2019-01-04     2019-1 2019-01-08    2019-2   \n",
              "4       5  US-2019-141817 2019-01-05     2019-1 2019-01-12    2019-2   \n",
              "\n",
              "        Ship Mode Customer ID  Customer Name      Segment  ...  \\\n",
              "0  Standard Class    DP-13000  Darren Powers     Consumer  ...   \n",
              "1  Standard Class    PO-19195  Phillina Ober  Home Office  ...   \n",
              "2  Standard Class    PO-19195  Phillina Ober  Home Office  ...   \n",
              "3  Standard Class    PO-19195  Phillina Ober  Home Office  ...   \n",
              "4  Standard Class    MB-18085     Mick Brown     Consumer  ...   \n",
              "\n",
              "    Regional Manager       Product ID         Category Sub-Category  \\\n",
              "0  Roxanne Rodriguez  OFF-PA-10000174  Office Supplies        Paper   \n",
              "1  Roxanne Rodriguez  OFF-BI-10004094  Office Supplies      Binders   \n",
              "2  Roxanne Rodriguez  OFF-LA-10003223  Office Supplies       Labels   \n",
              "3  Roxanne Rodriguez  OFF-ST-10002743  Office Supplies      Storage   \n",
              "4        Chuck Magee  OFF-AR-10003478  Office Supplies          Art   \n",
              "\n",
              "                                        Product Name    Sales Quantity  \\\n",
              "0  Message Book, Wirebound, Four 5 1/2\" X 4\" Form...   16.448        2   \n",
              "1         GBC Standard Plastic Binding Systems Combs    3.540        2   \n",
              "2                                          Avery 508   11.784        3   \n",
              "3                      SAFCO Boltless Steel Shelving  272.736        3   \n",
              "4  Avery Hi-Liter EverBold Pen Style Fluorescent ...   19.536        3   \n",
              "\n",
              "  Discount   Profit Returned  \n",
              "0      0.2   5.5512      NaN  \n",
              "1      0.8  -5.4870      NaN  \n",
              "2      0.2   4.2717      NaN  \n",
              "3      0.2 -64.7748      NaN  \n",
              "4      0.2   4.8840      NaN  \n",
              "\n",
              "[5 rows x 25 columns]"
            ],
            "text/html": [
              "\n",
              "  <div id=\"df-caac0939-ca50-45a4-bee0-4a0fc94182a0\" class=\"colab-df-container\">\n",
              "    <div>\n",
              "<style scoped>\n",
              "    .dataframe tbody tr th:only-of-type {\n",
              "        vertical-align: middle;\n",
              "    }\n",
              "\n",
              "    .dataframe tbody tr th {\n",
              "        vertical-align: top;\n",
              "    }\n",
              "\n",
              "    .dataframe thead th {\n",
              "        text-align: right;\n",
              "    }\n",
              "</style>\n",
              "<table border=\"1\" class=\"dataframe\">\n",
              "  <thead>\n",
              "    <tr style=\"text-align: right;\">\n",
              "      <th></th>\n",
              "      <th>Row ID</th>\n",
              "      <th>Order ID</th>\n",
              "      <th>Order Date</th>\n",
              "      <th>Order_Week</th>\n",
              "      <th>Ship Date</th>\n",
              "      <th>Ship_Week</th>\n",
              "      <th>Ship Mode</th>\n",
              "      <th>Customer ID</th>\n",
              "      <th>Customer Name</th>\n",
              "      <th>Segment</th>\n",
              "      <th>...</th>\n",
              "      <th>Regional Manager</th>\n",
              "      <th>Product ID</th>\n",
              "      <th>Category</th>\n",
              "      <th>Sub-Category</th>\n",
              "      <th>Product Name</th>\n",
              "      <th>Sales</th>\n",
              "      <th>Quantity</th>\n",
              "      <th>Discount</th>\n",
              "      <th>Profit</th>\n",
              "      <th>Returned</th>\n",
              "    </tr>\n",
              "  </thead>\n",
              "  <tbody>\n",
              "    <tr>\n",
              "      <th>0</th>\n",
              "      <td>1</td>\n",
              "      <td>US-2019-103800</td>\n",
              "      <td>2019-01-03</td>\n",
              "      <td>2019-1</td>\n",
              "      <td>2019-01-07</td>\n",
              "      <td>2019-2</td>\n",
              "      <td>Standard Class</td>\n",
              "      <td>DP-13000</td>\n",
              "      <td>Darren Powers</td>\n",
              "      <td>Consumer</td>\n",
              "      <td>...</td>\n",
              "      <td>Roxanne Rodriguez</td>\n",
              "      <td>OFF-PA-10000174</td>\n",
              "      <td>Office Supplies</td>\n",
              "      <td>Paper</td>\n",
              "      <td>Message Book, Wirebound, Four 5 1/2\" X 4\" Form...</td>\n",
              "      <td>16.448</td>\n",
              "      <td>2</td>\n",
              "      <td>0.2</td>\n",
              "      <td>5.5512</td>\n",
              "      <td>NaN</td>\n",
              "    </tr>\n",
              "    <tr>\n",
              "      <th>1</th>\n",
              "      <td>2</td>\n",
              "      <td>US-2019-112326</td>\n",
              "      <td>2019-01-04</td>\n",
              "      <td>2019-1</td>\n",
              "      <td>2019-01-08</td>\n",
              "      <td>2019-2</td>\n",
              "      <td>Standard Class</td>\n",
              "      <td>PO-19195</td>\n",
              "      <td>Phillina Ober</td>\n",
              "      <td>Home Office</td>\n",
              "      <td>...</td>\n",
              "      <td>Roxanne Rodriguez</td>\n",
              "      <td>OFF-BI-10004094</td>\n",
              "      <td>Office Supplies</td>\n",
              "      <td>Binders</td>\n",
              "      <td>GBC Standard Plastic Binding Systems Combs</td>\n",
              "      <td>3.540</td>\n",
              "      <td>2</td>\n",
              "      <td>0.8</td>\n",
              "      <td>-5.4870</td>\n",
              "      <td>NaN</td>\n",
              "    </tr>\n",
              "    <tr>\n",
              "      <th>2</th>\n",
              "      <td>3</td>\n",
              "      <td>US-2019-112326</td>\n",
              "      <td>2019-01-04</td>\n",
              "      <td>2019-1</td>\n",
              "      <td>2019-01-08</td>\n",
              "      <td>2019-2</td>\n",
              "      <td>Standard Class</td>\n",
              "      <td>PO-19195</td>\n",
              "      <td>Phillina Ober</td>\n",
              "      <td>Home Office</td>\n",
              "      <td>...</td>\n",
              "      <td>Roxanne Rodriguez</td>\n",
              "      <td>OFF-LA-10003223</td>\n",
              "      <td>Office Supplies</td>\n",
              "      <td>Labels</td>\n",
              "      <td>Avery 508</td>\n",
              "      <td>11.784</td>\n",
              "      <td>3</td>\n",
              "      <td>0.2</td>\n",
              "      <td>4.2717</td>\n",
              "      <td>NaN</td>\n",
              "    </tr>\n",
              "    <tr>\n",
              "      <th>3</th>\n",
              "      <td>4</td>\n",
              "      <td>US-2019-112326</td>\n",
              "      <td>2019-01-04</td>\n",
              "      <td>2019-1</td>\n",
              "      <td>2019-01-08</td>\n",
              "      <td>2019-2</td>\n",
              "      <td>Standard Class</td>\n",
              "      <td>PO-19195</td>\n",
              "      <td>Phillina Ober</td>\n",
              "      <td>Home Office</td>\n",
              "      <td>...</td>\n",
              "      <td>Roxanne Rodriguez</td>\n",
              "      <td>OFF-ST-10002743</td>\n",
              "      <td>Office Supplies</td>\n",
              "      <td>Storage</td>\n",
              "      <td>SAFCO Boltless Steel Shelving</td>\n",
              "      <td>272.736</td>\n",
              "      <td>3</td>\n",
              "      <td>0.2</td>\n",
              "      <td>-64.7748</td>\n",
              "      <td>NaN</td>\n",
              "    </tr>\n",
              "    <tr>\n",
              "      <th>4</th>\n",
              "      <td>5</td>\n",
              "      <td>US-2019-141817</td>\n",
              "      <td>2019-01-05</td>\n",
              "      <td>2019-1</td>\n",
              "      <td>2019-01-12</td>\n",
              "      <td>2019-2</td>\n",
              "      <td>Standard Class</td>\n",
              "      <td>MB-18085</td>\n",
              "      <td>Mick Brown</td>\n",
              "      <td>Consumer</td>\n",
              "      <td>...</td>\n",
              "      <td>Chuck Magee</td>\n",
              "      <td>OFF-AR-10003478</td>\n",
              "      <td>Office Supplies</td>\n",
              "      <td>Art</td>\n",
              "      <td>Avery Hi-Liter EverBold Pen Style Fluorescent ...</td>\n",
              "      <td>19.536</td>\n",
              "      <td>3</td>\n",
              "      <td>0.2</td>\n",
              "      <td>4.8840</td>\n",
              "      <td>NaN</td>\n",
              "    </tr>\n",
              "  </tbody>\n",
              "</table>\n",
              "<p>5 rows × 25 columns</p>\n",
              "</div>\n",
              "    <div class=\"colab-df-buttons\">\n",
              "\n",
              "  <div class=\"colab-df-container\">\n",
              "    <button class=\"colab-df-convert\" onclick=\"convertToInteractive('df-caac0939-ca50-45a4-bee0-4a0fc94182a0')\"\n",
              "            title=\"Convert this dataframe to an interactive table.\"\n",
              "            style=\"display:none;\">\n",
              "\n",
              "  <svg xmlns=\"http://www.w3.org/2000/svg\" height=\"24px\" viewBox=\"0 -960 960 960\">\n",
              "    <path d=\"M120-120v-720h720v720H120Zm60-500h600v-160H180v160Zm220 220h160v-160H400v160Zm0 220h160v-160H400v160ZM180-400h160v-160H180v160Zm440 0h160v-160H620v160ZM180-180h160v-160H180v160Zm440 0h160v-160H620v160Z\"/>\n",
              "  </svg>\n",
              "    </button>\n",
              "\n",
              "  <style>\n",
              "    .colab-df-container {\n",
              "      display:flex;\n",
              "      gap: 12px;\n",
              "    }\n",
              "\n",
              "    .colab-df-convert {\n",
              "      background-color: #E8F0FE;\n",
              "      border: none;\n",
              "      border-radius: 50%;\n",
              "      cursor: pointer;\n",
              "      display: none;\n",
              "      fill: #1967D2;\n",
              "      height: 32px;\n",
              "      padding: 0 0 0 0;\n",
              "      width: 32px;\n",
              "    }\n",
              "\n",
              "    .colab-df-convert:hover {\n",
              "      background-color: #E2EBFA;\n",
              "      box-shadow: 0px 1px 2px rgba(60, 64, 67, 0.3), 0px 1px 3px 1px rgba(60, 64, 67, 0.15);\n",
              "      fill: #174EA6;\n",
              "    }\n",
              "\n",
              "    .colab-df-buttons div {\n",
              "      margin-bottom: 4px;\n",
              "    }\n",
              "\n",
              "    [theme=dark] .colab-df-convert {\n",
              "      background-color: #3B4455;\n",
              "      fill: #D2E3FC;\n",
              "    }\n",
              "\n",
              "    [theme=dark] .colab-df-convert:hover {\n",
              "      background-color: #434B5C;\n",
              "      box-shadow: 0px 1px 3px 1px rgba(0, 0, 0, 0.15);\n",
              "      filter: drop-shadow(0px 1px 2px rgba(0, 0, 0, 0.3));\n",
              "      fill: #FFFFFF;\n",
              "    }\n",
              "  </style>\n",
              "\n",
              "    <script>\n",
              "      const buttonEl =\n",
              "        document.querySelector('#df-caac0939-ca50-45a4-bee0-4a0fc94182a0 button.colab-df-convert');\n",
              "      buttonEl.style.display =\n",
              "        google.colab.kernel.accessAllowed ? 'block' : 'none';\n",
              "\n",
              "      async function convertToInteractive(key) {\n",
              "        const element = document.querySelector('#df-caac0939-ca50-45a4-bee0-4a0fc94182a0');\n",
              "        const dataTable =\n",
              "          await google.colab.kernel.invokeFunction('convertToInteractive',\n",
              "                                                    [key], {});\n",
              "        if (!dataTable) return;\n",
              "\n",
              "        const docLinkHtml = 'Like what you see? Visit the ' +\n",
              "          '<a target=\"_blank\" href=https://colab.research.google.com/notebooks/data_table.ipynb>data table notebook</a>'\n",
              "          + ' to learn more about interactive tables.';\n",
              "        element.innerHTML = '';\n",
              "        dataTable['output_type'] = 'display_data';\n",
              "        await google.colab.output.renderOutput(dataTable, element);\n",
              "        const docLink = document.createElement('div');\n",
              "        docLink.innerHTML = docLinkHtml;\n",
              "        element.appendChild(docLink);\n",
              "      }\n",
              "    </script>\n",
              "  </div>\n",
              "\n",
              "\n",
              "<div id=\"df-3a8002c3-f147-4c2a-962f-f08337279833\">\n",
              "  <button class=\"colab-df-quickchart\" onclick=\"quickchart('df-3a8002c3-f147-4c2a-962f-f08337279833')\"\n",
              "            title=\"Suggest charts.\"\n",
              "            style=\"display:none;\">\n",
              "\n",
              "<svg xmlns=\"http://www.w3.org/2000/svg\" height=\"24px\"viewBox=\"0 0 24 24\"\n",
              "     width=\"24px\">\n",
              "    <g>\n",
              "        <path d=\"M19 3H5c-1.1 0-2 .9-2 2v14c0 1.1.9 2 2 2h14c1.1 0 2-.9 2-2V5c0-1.1-.9-2-2-2zM9 17H7v-7h2v7zm4 0h-2V7h2v10zm4 0h-2v-4h2v4z\"/>\n",
              "    </g>\n",
              "</svg>\n",
              "  </button>\n",
              "\n",
              "<style>\n",
              "  .colab-df-quickchart {\n",
              "      --bg-color: #E8F0FE;\n",
              "      --fill-color: #1967D2;\n",
              "      --hover-bg-color: #E2EBFA;\n",
              "      --hover-fill-color: #174EA6;\n",
              "      --disabled-fill-color: #AAA;\n",
              "      --disabled-bg-color: #DDD;\n",
              "  }\n",
              "\n",
              "  [theme=dark] .colab-df-quickchart {\n",
              "      --bg-color: #3B4455;\n",
              "      --fill-color: #D2E3FC;\n",
              "      --hover-bg-color: #434B5C;\n",
              "      --hover-fill-color: #FFFFFF;\n",
              "      --disabled-bg-color: #3B4455;\n",
              "      --disabled-fill-color: #666;\n",
              "  }\n",
              "\n",
              "  .colab-df-quickchart {\n",
              "    background-color: var(--bg-color);\n",
              "    border: none;\n",
              "    border-radius: 50%;\n",
              "    cursor: pointer;\n",
              "    display: none;\n",
              "    fill: var(--fill-color);\n",
              "    height: 32px;\n",
              "    padding: 0;\n",
              "    width: 32px;\n",
              "  }\n",
              "\n",
              "  .colab-df-quickchart:hover {\n",
              "    background-color: var(--hover-bg-color);\n",
              "    box-shadow: 0 1px 2px rgba(60, 64, 67, 0.3), 0 1px 3px 1px rgba(60, 64, 67, 0.15);\n",
              "    fill: var(--button-hover-fill-color);\n",
              "  }\n",
              "\n",
              "  .colab-df-quickchart-complete:disabled,\n",
              "  .colab-df-quickchart-complete:disabled:hover {\n",
              "    background-color: var(--disabled-bg-color);\n",
              "    fill: var(--disabled-fill-color);\n",
              "    box-shadow: none;\n",
              "  }\n",
              "\n",
              "  .colab-df-spinner {\n",
              "    border: 2px solid var(--fill-color);\n",
              "    border-color: transparent;\n",
              "    border-bottom-color: var(--fill-color);\n",
              "    animation:\n",
              "      spin 1s steps(1) infinite;\n",
              "  }\n",
              "\n",
              "  @keyframes spin {\n",
              "    0% {\n",
              "      border-color: transparent;\n",
              "      border-bottom-color: var(--fill-color);\n",
              "      border-left-color: var(--fill-color);\n",
              "    }\n",
              "    20% {\n",
              "      border-color: transparent;\n",
              "      border-left-color: var(--fill-color);\n",
              "      border-top-color: var(--fill-color);\n",
              "    }\n",
              "    30% {\n",
              "      border-color: transparent;\n",
              "      border-left-color: var(--fill-color);\n",
              "      border-top-color: var(--fill-color);\n",
              "      border-right-color: var(--fill-color);\n",
              "    }\n",
              "    40% {\n",
              "      border-color: transparent;\n",
              "      border-right-color: var(--fill-color);\n",
              "      border-top-color: var(--fill-color);\n",
              "    }\n",
              "    60% {\n",
              "      border-color: transparent;\n",
              "      border-right-color: var(--fill-color);\n",
              "    }\n",
              "    80% {\n",
              "      border-color: transparent;\n",
              "      border-right-color: var(--fill-color);\n",
              "      border-bottom-color: var(--fill-color);\n",
              "    }\n",
              "    90% {\n",
              "      border-color: transparent;\n",
              "      border-bottom-color: var(--fill-color);\n",
              "    }\n",
              "  }\n",
              "</style>\n",
              "\n",
              "  <script>\n",
              "    async function quickchart(key) {\n",
              "      const quickchartButtonEl =\n",
              "        document.querySelector('#' + key + ' button');\n",
              "      quickchartButtonEl.disabled = true;  // To prevent multiple clicks.\n",
              "      quickchartButtonEl.classList.add('colab-df-spinner');\n",
              "      try {\n",
              "        const charts = await google.colab.kernel.invokeFunction(\n",
              "            'suggestCharts', [key], {});\n",
              "      } catch (error) {\n",
              "        console.error('Error during call to suggestCharts:', error);\n",
              "      }\n",
              "      quickchartButtonEl.classList.remove('colab-df-spinner');\n",
              "      quickchartButtonEl.classList.add('colab-df-quickchart-complete');\n",
              "    }\n",
              "    (() => {\n",
              "      let quickchartButtonEl =\n",
              "        document.querySelector('#df-3a8002c3-f147-4c2a-962f-f08337279833 button');\n",
              "      quickchartButtonEl.style.display =\n",
              "        google.colab.kernel.accessAllowed ? 'block' : 'none';\n",
              "    })();\n",
              "  </script>\n",
              "</div>\n",
              "    </div>\n",
              "  </div>\n"
            ]
          },
          "metadata": {}
        }
      ]
    },
    {
      "cell_type": "code",
      "source": [
        "gs_sales_df = spark.createDataFrame(gs_sales_df)\n",
        "display(gs_sales_df)"
      ],
      "metadata": {
        "colab": {
          "base_uri": "https://localhost:8080/",
          "height": 69
        },
        "id": "2h4mg88HMgEG",
        "outputId": "523a2396-1db4-49d3-ae2c-e2014f46794e"
      },
      "execution_count": null,
      "outputs": [
        {
          "output_type": "display_data",
          "data": {
            "text/plain": [
              "DataFrame[Row ID: bigint, Order ID: string, Order Date: timestamp, Order_Week: string, Ship Date: timestamp, Ship_Week: string, Ship Mode: string, Customer ID: string, Customer Name: string, Segment: string, Country/Region: string, City: string, State/Province: string, Postal Code: string, Region: string, Regional Manager: string, Product ID: string, Category: string, Sub-Category: string, Product Name: string, Sales: double, Quantity: bigint, Discount: double, Profit: double, Returned: string]"
            ]
          },
          "metadata": {}
        }
      ]
    },
    {
      "cell_type": "markdown",
      "source": [
        "*Load Daily target Sheet*"
      ],
      "metadata": {
        "id": "rVj1VvVTgN-K"
      }
    },
    {
      "cell_type": "code",
      "source": [
        "target_df = df.parse(\"Daily Target\")\n",
        "display(target_df.head(5))"
      ],
      "metadata": {
        "colab": {
          "base_uri": "https://localhost:8080/",
          "height": 206
        },
        "id": "iFPaHnGlfVvg",
        "outputId": "c112ea5e-ed58-4e0c-eccc-3aa336bce3a9"
      },
      "execution_count": null,
      "outputs": [
        {
          "output_type": "display_data",
          "data": {
            "text/plain": [
              "          Category Order Date      Segment  Sales Target\n",
              "0  Office Supplies 2019-01-03     Consumer            15\n",
              "1  Office Supplies 2019-01-04  Home Office           300\n",
              "2  Office Supplies 2019-01-05     Consumer            21\n",
              "3        Furniture 2019-01-06  Home Office          2316\n",
              "4  Office Supplies 2019-01-06     Consumer            17"
            ],
            "text/html": [
              "\n",
              "  <div id=\"df-55e6bb20-10b5-42a8-a22b-3b6f240d6872\" class=\"colab-df-container\">\n",
              "    <div>\n",
              "<style scoped>\n",
              "    .dataframe tbody tr th:only-of-type {\n",
              "        vertical-align: middle;\n",
              "    }\n",
              "\n",
              "    .dataframe tbody tr th {\n",
              "        vertical-align: top;\n",
              "    }\n",
              "\n",
              "    .dataframe thead th {\n",
              "        text-align: right;\n",
              "    }\n",
              "</style>\n",
              "<table border=\"1\" class=\"dataframe\">\n",
              "  <thead>\n",
              "    <tr style=\"text-align: right;\">\n",
              "      <th></th>\n",
              "      <th>Category</th>\n",
              "      <th>Order Date</th>\n",
              "      <th>Segment</th>\n",
              "      <th>Sales Target</th>\n",
              "    </tr>\n",
              "  </thead>\n",
              "  <tbody>\n",
              "    <tr>\n",
              "      <th>0</th>\n",
              "      <td>Office Supplies</td>\n",
              "      <td>2019-01-03</td>\n",
              "      <td>Consumer</td>\n",
              "      <td>15</td>\n",
              "    </tr>\n",
              "    <tr>\n",
              "      <th>1</th>\n",
              "      <td>Office Supplies</td>\n",
              "      <td>2019-01-04</td>\n",
              "      <td>Home Office</td>\n",
              "      <td>300</td>\n",
              "    </tr>\n",
              "    <tr>\n",
              "      <th>2</th>\n",
              "      <td>Office Supplies</td>\n",
              "      <td>2019-01-05</td>\n",
              "      <td>Consumer</td>\n",
              "      <td>21</td>\n",
              "    </tr>\n",
              "    <tr>\n",
              "      <th>3</th>\n",
              "      <td>Furniture</td>\n",
              "      <td>2019-01-06</td>\n",
              "      <td>Home Office</td>\n",
              "      <td>2316</td>\n",
              "    </tr>\n",
              "    <tr>\n",
              "      <th>4</th>\n",
              "      <td>Office Supplies</td>\n",
              "      <td>2019-01-06</td>\n",
              "      <td>Consumer</td>\n",
              "      <td>17</td>\n",
              "    </tr>\n",
              "  </tbody>\n",
              "</table>\n",
              "</div>\n",
              "    <div class=\"colab-df-buttons\">\n",
              "\n",
              "  <div class=\"colab-df-container\">\n",
              "    <button class=\"colab-df-convert\" onclick=\"convertToInteractive('df-55e6bb20-10b5-42a8-a22b-3b6f240d6872')\"\n",
              "            title=\"Convert this dataframe to an interactive table.\"\n",
              "            style=\"display:none;\">\n",
              "\n",
              "  <svg xmlns=\"http://www.w3.org/2000/svg\" height=\"24px\" viewBox=\"0 -960 960 960\">\n",
              "    <path d=\"M120-120v-720h720v720H120Zm60-500h600v-160H180v160Zm220 220h160v-160H400v160Zm0 220h160v-160H400v160ZM180-400h160v-160H180v160Zm440 0h160v-160H620v160ZM180-180h160v-160H180v160Zm440 0h160v-160H620v160Z\"/>\n",
              "  </svg>\n",
              "    </button>\n",
              "\n",
              "  <style>\n",
              "    .colab-df-container {\n",
              "      display:flex;\n",
              "      gap: 12px;\n",
              "    }\n",
              "\n",
              "    .colab-df-convert {\n",
              "      background-color: #E8F0FE;\n",
              "      border: none;\n",
              "      border-radius: 50%;\n",
              "      cursor: pointer;\n",
              "      display: none;\n",
              "      fill: #1967D2;\n",
              "      height: 32px;\n",
              "      padding: 0 0 0 0;\n",
              "      width: 32px;\n",
              "    }\n",
              "\n",
              "    .colab-df-convert:hover {\n",
              "      background-color: #E2EBFA;\n",
              "      box-shadow: 0px 1px 2px rgba(60, 64, 67, 0.3), 0px 1px 3px 1px rgba(60, 64, 67, 0.15);\n",
              "      fill: #174EA6;\n",
              "    }\n",
              "\n",
              "    .colab-df-buttons div {\n",
              "      margin-bottom: 4px;\n",
              "    }\n",
              "\n",
              "    [theme=dark] .colab-df-convert {\n",
              "      background-color: #3B4455;\n",
              "      fill: #D2E3FC;\n",
              "    }\n",
              "\n",
              "    [theme=dark] .colab-df-convert:hover {\n",
              "      background-color: #434B5C;\n",
              "      box-shadow: 0px 1px 3px 1px rgba(0, 0, 0, 0.15);\n",
              "      filter: drop-shadow(0px 1px 2px rgba(0, 0, 0, 0.3));\n",
              "      fill: #FFFFFF;\n",
              "    }\n",
              "  </style>\n",
              "\n",
              "    <script>\n",
              "      const buttonEl =\n",
              "        document.querySelector('#df-55e6bb20-10b5-42a8-a22b-3b6f240d6872 button.colab-df-convert');\n",
              "      buttonEl.style.display =\n",
              "        google.colab.kernel.accessAllowed ? 'block' : 'none';\n",
              "\n",
              "      async function convertToInteractive(key) {\n",
              "        const element = document.querySelector('#df-55e6bb20-10b5-42a8-a22b-3b6f240d6872');\n",
              "        const dataTable =\n",
              "          await google.colab.kernel.invokeFunction('convertToInteractive',\n",
              "                                                    [key], {});\n",
              "        if (!dataTable) return;\n",
              "\n",
              "        const docLinkHtml = 'Like what you see? Visit the ' +\n",
              "          '<a target=\"_blank\" href=https://colab.research.google.com/notebooks/data_table.ipynb>data table notebook</a>'\n",
              "          + ' to learn more about interactive tables.';\n",
              "        element.innerHTML = '';\n",
              "        dataTable['output_type'] = 'display_data';\n",
              "        await google.colab.output.renderOutput(dataTable, element);\n",
              "        const docLink = document.createElement('div');\n",
              "        docLink.innerHTML = docLinkHtml;\n",
              "        element.appendChild(docLink);\n",
              "      }\n",
              "    </script>\n",
              "  </div>\n",
              "\n",
              "\n",
              "<div id=\"df-4742d1e3-4c70-408a-8fc3-3218c640cde1\">\n",
              "  <button class=\"colab-df-quickchart\" onclick=\"quickchart('df-4742d1e3-4c70-408a-8fc3-3218c640cde1')\"\n",
              "            title=\"Suggest charts.\"\n",
              "            style=\"display:none;\">\n",
              "\n",
              "<svg xmlns=\"http://www.w3.org/2000/svg\" height=\"24px\"viewBox=\"0 0 24 24\"\n",
              "     width=\"24px\">\n",
              "    <g>\n",
              "        <path d=\"M19 3H5c-1.1 0-2 .9-2 2v14c0 1.1.9 2 2 2h14c1.1 0 2-.9 2-2V5c0-1.1-.9-2-2-2zM9 17H7v-7h2v7zm4 0h-2V7h2v10zm4 0h-2v-4h2v4z\"/>\n",
              "    </g>\n",
              "</svg>\n",
              "  </button>\n",
              "\n",
              "<style>\n",
              "  .colab-df-quickchart {\n",
              "      --bg-color: #E8F0FE;\n",
              "      --fill-color: #1967D2;\n",
              "      --hover-bg-color: #E2EBFA;\n",
              "      --hover-fill-color: #174EA6;\n",
              "      --disabled-fill-color: #AAA;\n",
              "      --disabled-bg-color: #DDD;\n",
              "  }\n",
              "\n",
              "  [theme=dark] .colab-df-quickchart {\n",
              "      --bg-color: #3B4455;\n",
              "      --fill-color: #D2E3FC;\n",
              "      --hover-bg-color: #434B5C;\n",
              "      --hover-fill-color: #FFFFFF;\n",
              "      --disabled-bg-color: #3B4455;\n",
              "      --disabled-fill-color: #666;\n",
              "  }\n",
              "\n",
              "  .colab-df-quickchart {\n",
              "    background-color: var(--bg-color);\n",
              "    border: none;\n",
              "    border-radius: 50%;\n",
              "    cursor: pointer;\n",
              "    display: none;\n",
              "    fill: var(--fill-color);\n",
              "    height: 32px;\n",
              "    padding: 0;\n",
              "    width: 32px;\n",
              "  }\n",
              "\n",
              "  .colab-df-quickchart:hover {\n",
              "    background-color: var(--hover-bg-color);\n",
              "    box-shadow: 0 1px 2px rgba(60, 64, 67, 0.3), 0 1px 3px 1px rgba(60, 64, 67, 0.15);\n",
              "    fill: var(--button-hover-fill-color);\n",
              "  }\n",
              "\n",
              "  .colab-df-quickchart-complete:disabled,\n",
              "  .colab-df-quickchart-complete:disabled:hover {\n",
              "    background-color: var(--disabled-bg-color);\n",
              "    fill: var(--disabled-fill-color);\n",
              "    box-shadow: none;\n",
              "  }\n",
              "\n",
              "  .colab-df-spinner {\n",
              "    border: 2px solid var(--fill-color);\n",
              "    border-color: transparent;\n",
              "    border-bottom-color: var(--fill-color);\n",
              "    animation:\n",
              "      spin 1s steps(1) infinite;\n",
              "  }\n",
              "\n",
              "  @keyframes spin {\n",
              "    0% {\n",
              "      border-color: transparent;\n",
              "      border-bottom-color: var(--fill-color);\n",
              "      border-left-color: var(--fill-color);\n",
              "    }\n",
              "    20% {\n",
              "      border-color: transparent;\n",
              "      border-left-color: var(--fill-color);\n",
              "      border-top-color: var(--fill-color);\n",
              "    }\n",
              "    30% {\n",
              "      border-color: transparent;\n",
              "      border-left-color: var(--fill-color);\n",
              "      border-top-color: var(--fill-color);\n",
              "      border-right-color: var(--fill-color);\n",
              "    }\n",
              "    40% {\n",
              "      border-color: transparent;\n",
              "      border-right-color: var(--fill-color);\n",
              "      border-top-color: var(--fill-color);\n",
              "    }\n",
              "    60% {\n",
              "      border-color: transparent;\n",
              "      border-right-color: var(--fill-color);\n",
              "    }\n",
              "    80% {\n",
              "      border-color: transparent;\n",
              "      border-right-color: var(--fill-color);\n",
              "      border-bottom-color: var(--fill-color);\n",
              "    }\n",
              "    90% {\n",
              "      border-color: transparent;\n",
              "      border-bottom-color: var(--fill-color);\n",
              "    }\n",
              "  }\n",
              "</style>\n",
              "\n",
              "  <script>\n",
              "    async function quickchart(key) {\n",
              "      const quickchartButtonEl =\n",
              "        document.querySelector('#' + key + ' button');\n",
              "      quickchartButtonEl.disabled = true;  // To prevent multiple clicks.\n",
              "      quickchartButtonEl.classList.add('colab-df-spinner');\n",
              "      try {\n",
              "        const charts = await google.colab.kernel.invokeFunction(\n",
              "            'suggestCharts', [key], {});\n",
              "      } catch (error) {\n",
              "        console.error('Error during call to suggestCharts:', error);\n",
              "      }\n",
              "      quickchartButtonEl.classList.remove('colab-df-spinner');\n",
              "      quickchartButtonEl.classList.add('colab-df-quickchart-complete');\n",
              "    }\n",
              "    (() => {\n",
              "      let quickchartButtonEl =\n",
              "        document.querySelector('#df-4742d1e3-4c70-408a-8fc3-3218c640cde1 button');\n",
              "      quickchartButtonEl.style.display =\n",
              "        google.colab.kernel.accessAllowed ? 'block' : 'none';\n",
              "    })();\n",
              "  </script>\n",
              "</div>\n",
              "    </div>\n",
              "  </div>\n"
            ]
          },
          "metadata": {}
        }
      ]
    },
    {
      "cell_type": "code",
      "source": [
        "target_df = spark.createDataFrame(target_df)\n",
        "display(target_df)"
      ],
      "metadata": {
        "colab": {
          "base_uri": "https://localhost:8080/",
          "height": 34
        },
        "id": "oWxZtef7faBc",
        "outputId": "d987b446-6a15-434f-cda5-1039cb248b70"
      },
      "execution_count": null,
      "outputs": [
        {
          "output_type": "display_data",
          "data": {
            "text/plain": [
              "DataFrame[Category: string, Order Date: timestamp, Segment: string, Sales Target: bigint]"
            ]
          },
          "metadata": {}
        }
      ]
    },
    {
      "cell_type": "markdown",
      "source": [
        "Join the two dataframes"
      ],
      "metadata": {
        "id": "nerjXM7QwiJQ"
      }
    },
    {
      "cell_type": "code",
      "source": [
        "sales_df = gs_sales_df.join(target_df, on=['Category', 'Order Date', 'Segment'], how='left')\n",
        "sales_df.show()"
      ],
      "metadata": {
        "colab": {
          "base_uri": "https://localhost:8080/"
        },
        "id": "qzFGHcPXwE6K",
        "outputId": "a33995e9-b7dc-45db-abae-899f1c7efa14"
      },
      "execution_count": null,
      "outputs": [
        {
          "output_type": "stream",
          "name": "stdout",
          "text": [
            "+---------------+-------------------+-----------+------+--------------+----------+-------------------+---------+--------------+-----------+----------------+--------------+-------------+--------------+-----------+-------+-----------------+---------------+------------+--------------------+------------------+--------+--------+-------------------+--------+------------+\n",
            "|       Category|         Order Date|    Segment|Row ID|      Order ID|Order_Week|          Ship Date|Ship_Week|     Ship Mode|Customer ID|   Customer Name|Country/Region|         City|State/Province|Postal Code| Region| Regional Manager|     Product ID|Sub-Category|        Product Name|             Sales|Quantity|Discount|             Profit|Returned|Sales Target|\n",
            "+---------------+-------------------+-----------+------+--------------+----------+-------------------+---------+--------------+-----------+----------------+--------------+-------------+--------------+-----------+-------+-----------------+---------------+------------+--------------------+------------------+--------+--------+-------------------+--------+------------+\n",
            "|      Furniture|2019-01-06 00:00:00|Home Office|     6|US-2019-167199|    2019-2|2019-01-10 00:00:00|   2019-2|Standard Class|   ME-17320|   Maria Etezadi| United States|    Henderson|      Kentucky|      42420|  South|      Fred Suzuki|FUR-CH-10004063|      Chairs|Global Deluxe Hig...|           2573.82|       9|     0.0|  746.4077999999997|     NaN|        2316|\n",
            "|      Furniture|2019-01-07 00:00:00|   Consumer|    15|US-2019-105417|    2019-2|2019-01-12 00:00:00|   2019-2|Standard Class|   VS-21820|Vivek Sundaresam| United States|   Huntsville|         Texas|      77340|Central|Roxanne Rodriguez|FUR-FU-10004864| Furnishings|Howard Miller 14-...| 76.72800000000001|       3|     0.6| -53.70959999999999|     NaN|          81|\n",
            "|      Furniture|2019-01-10 00:00:00|  Corporate|    19|US-2019-149020|    2019-2|2019-01-15 00:00:00|   2019-3|Standard Class|   AJ-10780|  Anthony Jacobs| United States|  Springfield|      Virginia|      22153|  South|      Fred Suzuki|FUR-FU-10000965| Furnishings|Howard Miller 11-...|             51.94|       1|     0.0|            21.2954|     NaN|          47|\n",
            "|      Furniture|2019-01-11 00:00:00|   Consumer|    21|US-2019-130092|    2019-2|2019-01-14 00:00:00|   2019-3|   First Class|   SV-20365|     Seth Vernon| United States|        Dover|      Delaware|      19901|   East|      Chuck Magee|FUR-FU-10000010| Furnishings|DAX Value U-Chann...|              9.94|       2|     0.0| 3.0813999999999995|     NaN|           9|\n",
            "|      Furniture|2021-06-30 00:00:00|   Consumer|  5128|US-2021-162355|   2021-27|2021-07-02 00:00:00|  2021-27|  Second Class|   PF-19165|      Philip Fox| United States|Sandy Springs|       Georgia|      30328|  South|      Fred Suzuki|FUR-BO-10004695|   Bookcases|O'Sullivan 2-Door...|           1266.86|       7|     0.0| 291.37779999999987|     NaN|        1267|\n",
            "|      Furniture|2021-07-02 00:00:00|  Corporate|  5139|US-2021-102813|   2021-27|2021-07-03 00:00:00|  2021-27|   First Class|   EA-14035|   Erin Ashbrook| United States|   Huntsville|         Texas|      77340|Central|Roxanne Rodriguez|FUR-CH-10000665|      Chairs|Global Airflow Le...|            528.43|       5|     0.3|                0.0|     NaN|         789|\n",
            "|      Furniture|2021-07-02 00:00:00|  Corporate|  5140|US-2021-149314|   2021-27|2021-07-07 00:00:00|  2021-28|  Second Class|   GB-14530|     George Bell| United States|  Los Angeles|    California|      90004|   West|  Sadie Pawthorne|FUR-CH-10002126|      Chairs|Hon Deluxe Fabric...|           195.184|       1|     0.2| 19.518400000000007|     NaN|         789|\n",
            "|Office Supplies|2019-01-03 00:00:00|   Consumer|     1|US-2019-103800|    2019-1|2019-01-07 00:00:00|   2019-2|Standard Class|   DP-13000|   Darren Powers| United States|      Houston|         Texas|      77095|Central|Roxanne Rodriguez|OFF-PA-10000174|       Paper|Message Book, Wir...|            16.448|       2|     0.2|  5.551199999999998|     NaN|          15|\n",
            "|Office Supplies|2019-01-04 00:00:00|Home Office|     2|US-2019-112326|    2019-1|2019-01-08 00:00:00|   2019-2|Standard Class|   PO-19195|   Phillina Ober| United States|   Naperville|      Illinois|      60540|Central|Roxanne Rodriguez|OFF-BI-10004094|     Binders|GBC Standard Plas...| 3.539999999999999|       2|     0.8|             -5.487|     NaN|         300|\n",
            "|Office Supplies|2019-01-04 00:00:00|Home Office|     3|US-2019-112326|    2019-1|2019-01-08 00:00:00|   2019-2|Standard Class|   PO-19195|   Phillina Ober| United States|   Naperville|           NaN|      60540|Central|Roxanne Rodriguez|OFF-LA-10003223|      Labels|           Avery 508|            11.784|       3|     0.2|  4.271699999999999|     NaN|         300|\n",
            "|Office Supplies|2019-01-04 00:00:00|Home Office|     4|US-2019-112326|    2019-1|2019-01-08 00:00:00|   2019-2|Standard Class|   PO-19195|   Phillina Ober| United States|   Naperville|      Illinois|      60540|Central|Roxanne Rodriguez|OFF-ST-10002743|     Storage|SAFCO Boltless St...|           272.736|       3|     0.2| -64.77480000000001|     NaN|         300|\n",
            "|Office Supplies|2019-01-05 00:00:00|   Consumer|     5|US-2019-141817|    2019-1|2019-01-12 00:00:00|   2019-2|Standard Class|   MB-18085|      Mick Brown| United States| Philadelphia|  Pennsylvania|      19143|   East|      Chuck Magee|OFF-AR-10003478|         Art|Avery Hi-Liter Ev...|            19.536|       3|     0.2|              4.884|     NaN|          21|\n",
            "|Office Supplies|2019-01-06 00:00:00|   Consumer|    12|US-2019-130813|    2019-2|2019-01-08 00:00:00|   2019-2|  Second Class|   LS-17230|Lycoris Saunders| United States|  Los Angeles|    California|      90049|   West|  Sadie Pawthorne|OFF-PA-10002005|       Paper|           Xerox 225|             19.44|       3|     0.0|             9.3312|     NaN|          17|\n",
            "|Office Supplies|2019-01-06 00:00:00|  Corporate|     8|US-2019-106054|    2019-2|2019-01-07 00:00:00|   2019-2|   First Class|   JO-15145|   Jack O'Briant| United States|       Athens|       Georgia|      30605|  South|              NaN|OFF-AR-10002399|         Art|Dixon Prang Water...|             12.78|       3|     0.0|             5.2398|     NaN|          14|\n",
            "|Office Supplies|2019-01-06 00:00:00|Home Office|     7|US-2019-167199|    2019-2|2019-01-10 00:00:00|   2019-2|Standard Class|   ME-17320|   Maria Etezadi| United States|    Henderson|      Kentucky|      42420|  South|      Fred Suzuki|OFF-AR-10001662|         Art|Rogers Handheld B...|              5.48|       2|     0.0| 1.4796000000000005|     NaN|         699|\n",
            "|Office Supplies|2019-01-06 00:00:00|Home Office|     9|US-2019-167199|    2019-2|2019-01-10 00:00:00|   2019-2|Standard Class|   ME-17320|   Maria Etezadi| United States|    Henderson|      Kentucky|      42420|  South|      Fred Suzuki|OFF-BI-10004632|     Binders|Ibico Hi-Tech Man...|            609.98|       2|     0.0|            274.491|     NaN|         699|\n",
            "|Office Supplies|2019-01-06 00:00:00|Home Office|    10|US-2019-167199|    2019-2|2019-01-10 00:00:00|   2019-2|Standard Class|   ME-17320|   Maria Etezadi| United States|    Henderson|      Kentucky|      42420|  South|      Fred Suzuki|OFF-FA-10001883|   Fasteners|Alliance Super-Si...|             31.12|       4|     0.0| 0.3111999999999995|     NaN|         699|\n",
            "|Office Supplies|2019-01-06 00:00:00|Home Office|    11|US-2019-167199|    2019-2|2019-01-10 00:00:00|   2019-2|Standard Class|   ME-17320|             NaN| United States|    Henderson|      Kentucky|      42420|  South|      Fred Suzuki|OFF-PA-10000955|       Paper|Southworth 25% Co...|              6.54|       1|     0.0|             3.0084|     NaN|         699|\n",
            "|Office Supplies|2019-01-07 00:00:00|   Consumer|    16|US-2019-105417|    2019-2|2019-01-12 00:00:00|   2019-2|Standard Class|   VS-21820|Vivek Sundaresam| United States|   Huntsville|         Texas|      77340|Central|Roxanne Rodriguez|OFF-BI-10003708|     Binders|Acco Four Pocket ...|10.429999999999998|       7|     0.8|-18.252500000000005|     NaN|          11|\n",
            "|Office Supplies|2019-01-09 00:00:00|   Consumer|    17|US-2019-135405|    2019-2|2019-01-13 00:00:00|   2019-3|Standard Class|   MS-17830|   Melanie Seite| United States|       Laredo|         Texas|      78041|Central|Roxanne Rodriguez|OFF-AR-10004078|         Art|          Newell 312|             9.344|       2|     0.2| 1.1679999999999997|     NaN|           9|\n",
            "+---------------+-------------------+-----------+------+--------------+----------+-------------------+---------+--------------+-----------+----------------+--------------+-------------+--------------+-----------+-------+-----------------+---------------+------------+--------------------+------------------+--------+--------+-------------------+--------+------------+\n",
            "only showing top 20 rows\n",
            "\n"
          ]
        }
      ]
    },
    {
      "cell_type": "code",
      "source": [
        "sales_df.count()"
      ],
      "metadata": {
        "colab": {
          "base_uri": "https://localhost:8080/"
        },
        "id": "KIjv-DJgwW9t",
        "outputId": "30ef83e3-f1c0-40e0-9b0e-4595e0e36022"
      },
      "execution_count": null,
      "outputs": [
        {
          "output_type": "execute_result",
          "data": {
            "text/plain": [
              "10200"
            ]
          },
          "metadata": {},
          "execution_count": 13
        }
      ]
    },
    {
      "cell_type": "code",
      "source": [
        "#check the duplicates\n",
        "print(sales_df.count())\n",
        "sales_df = sales_df.dropDuplicates()\n",
        "print(sales_df.count())"
      ],
      "metadata": {
        "colab": {
          "base_uri": "https://localhost:8080/"
        },
        "id": "-G2eABraxFL7",
        "outputId": "00de2af8-718c-496c-e8d6-66fc94a0f65c"
      },
      "execution_count": null,
      "outputs": [
        {
          "output_type": "stream",
          "name": "stdout",
          "text": [
            "10200\n",
            "10200\n"
          ]
        }
      ]
    },
    {
      "cell_type": "markdown",
      "source": [
        "**Schema Verification**"
      ],
      "metadata": {
        "id": "dgh2kWS8T-Tg"
      }
    },
    {
      "cell_type": "code",
      "source": [
        "sales_df.printSchema()"
      ],
      "metadata": {
        "colab": {
          "base_uri": "https://localhost:8080/"
        },
        "id": "zaZTrAWYM7tN",
        "outputId": "1189220a-9aed-4bc0-fa34-8ec9d877fb21"
      },
      "execution_count": null,
      "outputs": [
        {
          "output_type": "stream",
          "name": "stdout",
          "text": [
            "root\n",
            " |-- Category: string (nullable = true)\n",
            " |-- Order Date: timestamp (nullable = true)\n",
            " |-- Segment: string (nullable = true)\n",
            " |-- Row ID: long (nullable = true)\n",
            " |-- Order ID: string (nullable = true)\n",
            " |-- Order_Week: string (nullable = true)\n",
            " |-- Ship Date: timestamp (nullable = true)\n",
            " |-- Ship_Week: string (nullable = true)\n",
            " |-- Ship Mode: string (nullable = true)\n",
            " |-- Customer ID: string (nullable = true)\n",
            " |-- Customer Name: string (nullable = true)\n",
            " |-- Country/Region: string (nullable = true)\n",
            " |-- City: string (nullable = true)\n",
            " |-- State/Province: string (nullable = true)\n",
            " |-- Postal Code: string (nullable = true)\n",
            " |-- Region: string (nullable = true)\n",
            " |-- Regional Manager: string (nullable = true)\n",
            " |-- Product ID: string (nullable = true)\n",
            " |-- Sub-Category: string (nullable = true)\n",
            " |-- Product Name: string (nullable = true)\n",
            " |-- Sales: double (nullable = true)\n",
            " |-- Quantity: long (nullable = true)\n",
            " |-- Discount: double (nullable = true)\n",
            " |-- Profit: double (nullable = true)\n",
            " |-- Returned: string (nullable = true)\n",
            " |-- Sales Target: long (nullable = true)\n",
            "\n"
          ]
        }
      ]
    },
    {
      "cell_type": "code",
      "source": [
        "from pyspark.sql.functions import to_date\n",
        "\n",
        "sales_df = sales_df.withColumn(\"Row ID\",sales_df['Row ID'].cast(\"Integer\"))\n",
        "sales_df = sales_df.withColumn(\"Quantity\",sales_df['Quantity'].cast(\"Integer\"))\n",
        "sales_df = sales_df.withColumn(\"Sales target\",sales_df['Sales target'].cast(\"Integer\"))\n",
        "sales_df = sales_df.withColumn(\"Order Date\", to_date(sales_df[\"Order Date\"]))\n",
        "sales_df = sales_df.withColumn(\"Ship Date\", to_date(sales_df[\"Ship Date\"]))"
      ],
      "metadata": {
        "id": "aTpZZbe7Quar"
      },
      "execution_count": null,
      "outputs": []
    },
    {
      "cell_type": "code",
      "source": [
        "sales_df.printSchema()"
      ],
      "metadata": {
        "colab": {
          "base_uri": "https://localhost:8080/"
        },
        "id": "WSNDmY7Jcklb",
        "outputId": "84f73d12-82bf-4481-d50c-0dbc92e15169"
      },
      "execution_count": null,
      "outputs": [
        {
          "output_type": "stream",
          "name": "stdout",
          "text": [
            "root\n",
            " |-- Category: string (nullable = true)\n",
            " |-- Order Date: date (nullable = true)\n",
            " |-- Segment: string (nullable = true)\n",
            " |-- Row ID: integer (nullable = true)\n",
            " |-- Order ID: string (nullable = true)\n",
            " |-- Order_Week: string (nullable = true)\n",
            " |-- Ship Date: date (nullable = true)\n",
            " |-- Ship_Week: string (nullable = true)\n",
            " |-- Ship Mode: string (nullable = true)\n",
            " |-- Customer ID: string (nullable = true)\n",
            " |-- Customer Name: string (nullable = true)\n",
            " |-- Country/Region: string (nullable = true)\n",
            " |-- City: string (nullable = true)\n",
            " |-- State/Province: string (nullable = true)\n",
            " |-- Postal Code: string (nullable = true)\n",
            " |-- Region: string (nullable = true)\n",
            " |-- Regional Manager: string (nullable = true)\n",
            " |-- Product ID: string (nullable = true)\n",
            " |-- Sub-Category: string (nullable = true)\n",
            " |-- Product Name: string (nullable = true)\n",
            " |-- Sales: double (nullable = true)\n",
            " |-- Quantity: integer (nullable = true)\n",
            " |-- Discount: double (nullable = true)\n",
            " |-- Profit: double (nullable = true)\n",
            " |-- Returned: string (nullable = true)\n",
            " |-- Sales target: integer (nullable = true)\n",
            "\n"
          ]
        }
      ]
    },
    {
      "cell_type": "markdown",
      "source": [
        "**Creating the fact and dimension tables**\n"
      ],
      "metadata": {
        "id": "3vw7fHaRqpD9"
      }
    },
    {
      "cell_type": "code",
      "source": [
        "from pyspark.sql import SparkSession\n",
        "from pyspark.sql.functions import col, to_timestamp\n",
        "from pyspark.sql.types import StructType, StructField, IntegerType, StringType, TimestampType, DoubleType, DateType\n",
        "\n",
        "# Schema for Customer\n",
        "dim_customer_schema = StructType([\n",
        "    StructField(\"Customer ID\", StringType(), True, metadata={\"primaryKey\": True}),\n",
        "    StructField(\"Customer Name\", StringType(), True),\n",
        "    StructField(\"Segment\", StringType(), True),\n",
        "])\n",
        "\n",
        "dim_customer_df = sales_df.select(\n",
        "    col(\"Customer ID\"),\n",
        "    col(\"Customer Name\"),\n",
        "    col(\"Segment\")\n",
        ")"
      ],
      "metadata": {
        "id": "2-vNfDRPlD_2"
      },
      "execution_count": null,
      "outputs": []
    },
    {
      "cell_type": "code",
      "source": [
        "from pyspark.sql.functions import monotonically_increasing_id\n",
        "\n",
        "# Schema for Country\n",
        "dim_country_schema = StructType([\n",
        "    StructField(\"Country/Region\", StringType(), True),\n",
        "    StructField(\"CountryID\", IntegerType(), True, metadata={\"primaryKey\": True}),\n",
        "    StructField(\"City\", StringType(), True),\n",
        "    StructField(\"State/Province\", StringType(), True),\n",
        "    StructField(\"Postal Code\", StringType(), True),\n",
        "    StructField(\"Region\", StringType(), True),\n",
        "    StructField(\"Regional manager\", StringType(), True),\n",
        "])\n",
        "\n",
        "dim_country_df = sales_df.select(\n",
        "    col(\"Country/Region\"),\n",
        "    col(\"City\"),\n",
        "    col(\"State/Province\"),\n",
        "    col(\"Postal Code\"),\n",
        "    col(\"Region\"),\n",
        "    col(\"Regional Manager\")\n",
        ").distinct().withColumn(\"CountryID\", monotonically_increasing_id() + 1)"
      ],
      "metadata": {
        "id": "ozEYuSUJ3hLA"
      },
      "execution_count": null,
      "outputs": []
    },
    {
      "cell_type": "code",
      "source": [
        "# Schema for Ship Mode\n",
        "dim_ship_mode_schema = StructType([\n",
        "    StructField(\"Ship Mode\", StringType(), True, metadata={\"primaryKey\": True}),\n",
        "    StructField(\"ShipID\", IntegerType(), True),\n",
        "])\n",
        "\n",
        "dim_ship_mode_df = sales_df.select(\n",
        "    col(\"Ship Mode\")\n",
        ").distinct().withColumn(\"ShipID\", monotonically_increasing_id() + 1)"
      ],
      "metadata": {
        "id": "5MnpqWzS5KPF"
      },
      "execution_count": null,
      "outputs": []
    },
    {
      "cell_type": "code",
      "source": [
        "# Schema for Product\n",
        "dim_product_schema = StructType([\n",
        "    StructField(\"Product ID\", StringType(), True, metadata={\"primaryKey\": True}),\n",
        "    StructField(\"Category\", StringType(), True),\n",
        "    StructField(\"Sub-Category\", StringType(), True),\n",
        "    StructField(\"Product Name\", StringType(), True),\n",
        "])\n",
        "\n",
        "dim_product_df = sales_df.select(\n",
        "    col(\"Product ID\"),\n",
        "    col(\"Category\"),\n",
        "    col(\"Sub-Category\"),\n",
        "    col(\"Product Name\")\n",
        ")"
      ],
      "metadata": {
        "id": "Ttdfx6Kk5gij"
      },
      "execution_count": null,
      "outputs": []
    },
    {
      "cell_type": "code",
      "source": [
        "from pyspark.sql.functions import col, date_format, weekofyear, month, year\n",
        "\n",
        "# Schema for Calender\n",
        "dim_calendar_schema = StructType([\n",
        "    StructField(\"Date\", DateType(), True, metadata={\"primaryKey\": True}),\n",
        "    StructField(\"DayName\", StringType(), True),\n",
        "    StructField(\"WeekNumber\", IntegerType(), True),\n",
        "    StructField(\"MonthNumber\", IntegerType(), True),\n",
        "    StructField(\"MonthName\", StringType(), True),\n",
        "    StructField(\"Year\", IntegerType(), True),\n",
        "])\n",
        "\n",
        "# Select the unique Order Date and Ship Date values from the original DataFrame\n",
        "order_dates_df = sales_df.select(col(\"Order Date\").alias(\"Date\")).distinct()\n",
        "ship_dates_df = sales_df.select(col(\"Ship Date\").alias(\"Date\")).distinct()\n",
        "\n",
        "#get a unique list of dates\n",
        "unique_dates_df = order_dates_df.union(ship_dates_df)\n",
        "\n",
        "dim_calendar_df = unique_dates_df.withColumn(\"DayName\", date_format(col(\"Date\"), \"EEEE\"))\n",
        "dim_calendar_df = dim_calendar_df.withColumn(\"WeekNumber\", weekofyear(col(\"Date\")))\n",
        "dim_calendar_df = dim_calendar_df.withColumn(\"MonthNumber\", month(col(\"Date\")))\n",
        "dim_calendar_df = dim_calendar_df.withColumn(\"MonthName\", date_format(col(\"Date\"), \"MMMM\"))\n",
        "dim_calendar_df = dim_calendar_df.withColumn(\"Year\", year(col(\"Date\")))"
      ],
      "metadata": {
        "id": "1jpsWdm9CtiJ"
      },
      "execution_count": null,
      "outputs": []
    },
    {
      "cell_type": "code",
      "source": [
        "# Define the fact table schema\n",
        "fact_schema = StructType([\n",
        "    StructField(\"Row ID\", IntegerType(), True, metadata={\"primaryKey\": True}),\n",
        "    StructField(\"Order ID\", StringType(), True),\n",
        "    StructField(\"Order Date\", TimestampType(), True, metadata={\"foreignKey\": True}),\n",
        "    StructField(\"Ship Date\", TimestampType(), True, metadata={\"foreignKey\": True}),\n",
        "    StructField(\"Customer ID\", StringType(), True, metadata={\"foreignKey\": True}),\n",
        "    StructField(\"CountryID\", IntegerType(), True, metadata={\"foreignKey\": True}),\n",
        "    StructField(\"Product ID\", StringType(), True, metadata={\"foreignKey\": True}),\n",
        "    StructField(\"Sales\", DoubleType(), True),\n",
        "    StructField(\"Quantity\", IntegerType(), True),\n",
        "    StructField(\"Discount\", DoubleType(), True),\n",
        "    StructField(\"Profit\", DoubleType(), True),\n",
        "    StructField(\"Returned\", StringType(), True),\n",
        "    StructField(\"Sales target\", IntegerType(), True),\n",
        "    StructField(\"ShipID\", IntegerType(), True, metadata={\"foreignKey\": True}),\n",
        "])\n",
        "\n",
        "fact_df = sales_df.join(\n",
        "    dim_country_df.select(\"Country/Region\", \"CountryID\"),\n",
        "    sales_df[\"Country/Region\"] == dim_country_df[\"Country/Region\"],\n",
        "    \"left\"\n",
        ").join(\n",
        "    dim_ship_mode_df.select(\"Ship Mode\", \"ShipID\"),\n",
        "    sales_df[\"Ship Mode\"] == dim_ship_mode_df[\"Ship Mode\"],\n",
        "    \"left\"\n",
        ").select(\n",
        "    col(\"Row ID\"),\n",
        "    col(\"Order ID\"),\n",
        "    col(\"Order Date\"),\n",
        "    col(\"Ship Date\"),\n",
        "    col(\"Customer ID\"),\n",
        "    col(\"CountryID\"),\n",
        "    col(\"Product ID\"),\n",
        "    col(\"Sales\"),\n",
        "    col(\"Quantity\"),\n",
        "    col(\"Discount\"),\n",
        "    col(\"Profit\"),\n",
        "    col(\"Returned\"),\n",
        "    col(\"Sales target\"),\n",
        "    col(\"ShipID\")\n",
        ")"
      ],
      "metadata": {
        "id": "sbhg6g2MGXTs"
      },
      "execution_count": null,
      "outputs": []
    },
    {
      "cell_type": "code",
      "source": [
        "print(\"Customer\")\n",
        "dim_customer_df.printSchema()\n",
        "dim_customer_df.show(20)\n",
        "\n",
        "print(\"Country\")\n",
        "dim_country_df.printSchema()\n",
        "dim_country_df.show(20)\n",
        "\n",
        "print(\"Ship Mode\")\n",
        "dim_ship_mode_df.printSchema()\n",
        "dim_ship_mode_df.show(20)\n",
        "\n",
        "print(\"Product\")\n",
        "dim_product_df.printSchema()\n",
        "dim_product_df.show(20)\n",
        "\n",
        "print(\"Calender\")\n",
        "dim_calendar_df.printSchema()\n",
        "dim_calendar_df.show(20)\n",
        "\n",
        "print(\"fact\")\n",
        "fact_df.show(20)"
      ],
      "metadata": {
        "colab": {
          "base_uri": "https://localhost:8080/"
        },
        "id": "d5AUi2XPCuH6",
        "outputId": "e9cfeab4-b235-4d98-c969-ea3e61ac4258"
      },
      "execution_count": null,
      "outputs": [
        {
          "output_type": "stream",
          "name": "stdout",
          "text": [
            "Customer\n",
            "root\n",
            " |-- Customer ID: string (nullable = true)\n",
            " |-- Customer Name: string (nullable = true)\n",
            " |-- Segment: string (nullable = true)\n",
            "\n",
            "+-----------+-------------------+-----------+\n",
            "|Customer ID|      Customer Name|    Segment|\n",
            "+-----------+-------------------+-----------+\n",
            "|   CS-12250|    Chris Selesnick|  Corporate|\n",
            "|   CS-12250|    Chris Selesnick|  Corporate|\n",
            "|   CS-12250|    Chris Selesnick|  Corporate|\n",
            "|   CS-12250|    Chris Selesnick|  Corporate|\n",
            "|   MS-17365|Maribeth Schnelling|   Consumer|\n",
            "|   LC-17140|       Logan Currie|   Consumer|\n",
            "|   CC-12220|       Chris Cortes|   Consumer|\n",
            "|   RP-19270|       Rachel Payne|  Corporate|\n",
            "|   AH-10030|      Aaron Hawkins|  Corporate|\n",
            "|   NL-18310|     Nancy Lomonaco|Home Office|\n",
            "|   BP-11095|       Bart Pistole|  Corporate|\n",
            "|   BP-11095|       Bart Pistole|  Corporate|\n",
            "|   SP-20620|   Stefania Perrino|  Corporate|\n",
            "|   SP-20620|   Stefania Perrino|  Corporate|\n",
            "|   RL-19615|          Rob Lucas|   Consumer|\n",
            "|   RL-19615|          Rob Lucas|   Consumer|\n",
            "|   PJ-19015|    Pauline Johnson|   Consumer|\n",
            "|   HW-14935|    Helen Wasserman|  Corporate|\n",
            "|   SS-20140|   Saphhira Shifley|  Corporate|\n",
            "|   HW-14935|    Helen Wasserman|  Corporate|\n",
            "+-----------+-------------------+-----------+\n",
            "only showing top 20 rows\n",
            "\n",
            "Country\n",
            "root\n",
            " |-- Country/Region: string (nullable = true)\n",
            " |-- City: string (nullable = true)\n",
            " |-- State/Province: string (nullable = true)\n",
            " |-- Postal Code: string (nullable = true)\n",
            " |-- Region: string (nullable = true)\n",
            " |-- Regional Manager: string (nullable = true)\n",
            " |-- CountryID: long (nullable = false)\n",
            "\n",
            "+--------------+----------------+--------------+-----------+-------+-----------------+---------+\n",
            "|Country/Region|            City|State/Province|Postal Code| Region| Regional Manager|CountryID|\n",
            "+--------------+----------------+--------------+-----------+-------+-----------------+---------+\n",
            "| United States|       Roseville|    California|      95661|   West|  Sadie Pawthorne|        1|\n",
            "|        Canada|         Toronto|       Ontario|        M2N|   East|      Chuck Magee|        2|\n",
            "| United States|      Sacramento|    California|      95823|   West|  Sadie Pawthorne|        3|\n",
            "| United States|         Detroit|      Michigan|      48227|Central|Roxanne Rodriguez|        4|\n",
            "| United States|          Tucson|       Arizona|      85705|   West|  Sadie Pawthorne|        5|\n",
            "| United States|Rancho Cucamonga|    California|      91730|   West|  Sadie Pawthorne|        6|\n",
            "| United States|        Moorhead|     Minnesota|      56560|Central|Roxanne Rodriguez|        7|\n",
            "| United States|           Miami|       Florida|      33180|  South|      Fred Suzuki|        8|\n",
            "| United States|        Richmond|      Kentucky|      40475|  South|      Fred Suzuki|        9|\n",
            "| United States|         Yucaipa|    California|      92399|   West|  Sadie Pawthorne|       10|\n",
            "| United States|          Dallas|         Texas|      75220|Central|Roxanne Rodriguez|       11|\n",
            "| United States|        Hamilton|          Ohio|      45011|   East|      Chuck Magee|       12|\n",
            "| United States|          Austin|         Texas|      78745|Central|Roxanne Rodriguez|       13|\n",
            "| United States|   New York City|           NaN|      10024|   East|      Chuck Magee|       14|\n",
            "| United States|   Oklahoma City|      Oklahoma|      73120|Central|Roxanne Rodriguez|       15|\n",
            "| United States|         Baytown|         Texas|      77520|Central|Roxanne Rodriguez|       16|\n",
            "| United States|        Redlands|    California|      92374|   West|  Sadie Pawthorne|       17|\n",
            "| United States|            York|  Pennsylvania|      17403|   East|      Chuck Magee|       18|\n",
            "| United States|     Los Angeles|    California|      90036|   West|  Sadie Pawthorne|       19|\n",
            "| United States|         Hialeah|       Florida|      33012|  South|      Fred Suzuki|       20|\n",
            "+--------------+----------------+--------------+-----------+-------+-----------------+---------+\n",
            "only showing top 20 rows\n",
            "\n",
            "Ship Mode\n",
            "root\n",
            " |-- Ship Mode: string (nullable = true)\n",
            " |-- ShipID: long (nullable = false)\n",
            "\n",
            "+--------------+------+\n",
            "|     Ship Mode|ShipID|\n",
            "+--------------+------+\n",
            "|   First Class|     1|\n",
            "|      Same Day|     2|\n",
            "|  Second Class|     3|\n",
            "|Standard Class|     4|\n",
            "+--------------+------+\n",
            "\n",
            "Product\n",
            "root\n",
            " |-- Product ID: string (nullable = true)\n",
            " |-- Category: string (nullable = true)\n",
            " |-- Sub-Category: string (nullable = true)\n",
            " |-- Product Name: string (nullable = true)\n",
            "\n",
            "+---------------+---------------+------------+--------------------+\n",
            "|     Product ID|       Category|Sub-Category|        Product Name|\n",
            "+---------------+---------------+------------+--------------------+\n",
            "|OFF-BI-10004187|Office Supplies|     Binders|  3-ring staple pack|\n",
            "|OFF-EN-10001532|Office Supplies|   Envelopes|Brown Kraft Recyc...|\n",
            "|OFF-EN-10001990|Office Supplies|   Envelopes|     Staple envelope|\n",
            "|OFF-ST-10000025|Office Supplies|     Storage|Fellowes Stor/Dra...|\n",
            "|OFF-LA-10003923|Office Supplies|      Labels|Alphabetical Labe...|\n",
            "|OFF-PA-10000788|Office Supplies|       Paper|           Xerox 210|\n",
            "|OFF-PA-10001622|Office Supplies|       Paper|Ampad Poly Cover ...|\n",
            "|TEC-PH-10001305|     Technology|      Phones|Panasonic KX TS20...|\n",
            "|OFF-BI-10002353|Office Supplies|     Binders|GBC VeloBind Cove...|\n",
            "|TEC-PH-10003092|     Technology|      Phones|       Motorola L804|\n",
            "|OFF-FA-10004248|Office Supplies|   Fasteners|Advantus T-Pin Pa...|\n",
            "|OFF-LA-10001934|Office Supplies|      Labels|           Avery 516|\n",
            "|OFF-BI-10002764|Office Supplies|     Binders|Recycled Pressboa...|\n",
            "|OFF-PA-10004041|Office Supplies|       Paper|It's Hot Message ...|\n",
            "|OFF-AR-10003190|Office Supplies|         Art|           Newell 32|\n",
            "|OFF-BI-10003314|Office Supplies|     Binders|Tuff Stuff Recycl...|\n",
            "|OFF-BI-10004182|Office Supplies|     Binders|     Economy Binders|\n",
            "|OFF-AR-10000127|Office Supplies|         Art|          Newell 321|\n",
            "|OFF-AR-10002067|Office Supplies|         Art|          Newell 334|\n",
            "|OFF-PA-10003172|Office Supplies|       Paper|          Xerox 1996|\n",
            "+---------------+---------------+------------+--------------------+\n",
            "only showing top 20 rows\n",
            "\n",
            "Calender\n",
            "root\n",
            " |-- Date: date (nullable = true)\n",
            " |-- DayName: string (nullable = true)\n",
            " |-- WeekNumber: integer (nullable = true)\n",
            " |-- MonthNumber: integer (nullable = true)\n",
            " |-- MonthName: string (nullable = true)\n",
            " |-- Year: integer (nullable = true)\n",
            "\n",
            "+----------+---------+----------+-----------+---------+----+\n",
            "|      Date|  DayName|WeekNumber|MonthNumber|MonthName|Year|\n",
            "+----------+---------+----------+-----------+---------+----+\n",
            "|2019-05-08|Wednesday|        19|          5|      May|2019|\n",
            "|2019-06-04|  Tuesday|        23|          6|     June|2019|\n",
            "|2020-08-24|   Monday|        35|          8|   August|2020|\n",
            "|2019-09-22|   Sunday|        38|          9|September|2019|\n",
            "|2019-11-01|   Friday|        44|         11| November|2019|\n",
            "|2019-11-18|   Monday|        47|         11| November|2019|\n",
            "|2020-01-21|  Tuesday|         4|          1|  January|2020|\n",
            "|2020-07-24|   Friday|        30|          7|     July|2020|\n",
            "|2020-08-05|Wednesday|        32|          8|   August|2020|\n",
            "|2020-11-29|   Sunday|        48|         11| November|2020|\n",
            "|2019-11-21| Thursday|        47|         11| November|2019|\n",
            "|2020-04-30| Thursday|        18|          4|    April|2020|\n",
            "|2020-08-28|   Friday|        35|          8|   August|2020|\n",
            "|2020-08-29| Saturday|        35|          8|   August|2020|\n",
            "|2019-05-27|   Monday|        22|          5|      May|2019|\n",
            "|2020-10-04|   Sunday|        40|         10|  October|2020|\n",
            "|2021-05-12|Wednesday|        19|          5|      May|2021|\n",
            "|2019-02-23| Saturday|         8|          2| February|2019|\n",
            "|2020-03-07| Saturday|        10|          3|    March|2020|\n",
            "|2020-03-13|   Friday|        11|          3|    March|2020|\n",
            "+----------+---------+----------+-----------+---------+----+\n",
            "only showing top 20 rows\n",
            "\n",
            "fact\n",
            "+------+--------------+----------+----------+-----------+---------+---------------+-----+--------+--------+------------------+--------+------------+------+\n",
            "|Row ID|      Order ID|Order Date| Ship Date|Customer ID|CountryID|     Product ID|Sales|Quantity|Discount|            Profit|Returned|Sales target|ShipID|\n",
            "+------+--------------+----------+----------+-----------+---------+---------------+-----+--------+--------+------------------+--------+------------+------+\n",
            "|    26|US-2019-162775|2019-01-13|2019-01-15|   CS-12250|      696|OFF-BI-10004187| 5.64|       3|     0.0|2.7071999999999994|     NaN|         570|     3|\n",
            "|    26|US-2019-162775|2019-01-13|2019-01-15|   CS-12250|      695|OFF-BI-10004187| 5.64|       3|     0.0|2.7071999999999994|     NaN|         570|     3|\n",
            "|    26|US-2019-162775|2019-01-13|2019-01-15|   CS-12250|      693|OFF-BI-10004187| 5.64|       3|     0.0|2.7071999999999994|     NaN|         570|     3|\n",
            "|    26|US-2019-162775|2019-01-13|2019-01-15|   CS-12250|      692|OFF-BI-10004187| 5.64|       3|     0.0|2.7071999999999994|     NaN|         570|     3|\n",
            "|    26|US-2019-162775|2019-01-13|2019-01-15|   CS-12250|      691|OFF-BI-10004187| 5.64|       3|     0.0|2.7071999999999994|     NaN|         570|     3|\n",
            "|    26|US-2019-162775|2019-01-13|2019-01-15|   CS-12250|      690|OFF-BI-10004187| 5.64|       3|     0.0|2.7071999999999994|     NaN|         570|     3|\n",
            "|    26|US-2019-162775|2019-01-13|2019-01-15|   CS-12250|      689|OFF-BI-10004187| 5.64|       3|     0.0|2.7071999999999994|     NaN|         570|     3|\n",
            "|    26|US-2019-162775|2019-01-13|2019-01-15|   CS-12250|      688|OFF-BI-10004187| 5.64|       3|     0.0|2.7071999999999994|     NaN|         570|     3|\n",
            "|    26|US-2019-162775|2019-01-13|2019-01-15|   CS-12250|      687|OFF-BI-10004187| 5.64|       3|     0.0|2.7071999999999994|     NaN|         570|     3|\n",
            "|    26|US-2019-162775|2019-01-13|2019-01-15|   CS-12250|      686|OFF-BI-10004187| 5.64|       3|     0.0|2.7071999999999994|     NaN|         570|     3|\n",
            "|    26|US-2019-162775|2019-01-13|2019-01-15|   CS-12250|      685|OFF-BI-10004187| 5.64|       3|     0.0|2.7071999999999994|     NaN|         570|     3|\n",
            "|    26|US-2019-162775|2019-01-13|2019-01-15|   CS-12250|      684|OFF-BI-10004187| 5.64|       3|     0.0|2.7071999999999994|     NaN|         570|     3|\n",
            "|    26|US-2019-162775|2019-01-13|2019-01-15|   CS-12250|      683|OFF-BI-10004187| 5.64|       3|     0.0|2.7071999999999994|     NaN|         570|     3|\n",
            "|    26|US-2019-162775|2019-01-13|2019-01-15|   CS-12250|      682|OFF-BI-10004187| 5.64|       3|     0.0|2.7071999999999994|     NaN|         570|     3|\n",
            "|    26|US-2019-162775|2019-01-13|2019-01-15|   CS-12250|      681|OFF-BI-10004187| 5.64|       3|     0.0|2.7071999999999994|     NaN|         570|     3|\n",
            "|    26|US-2019-162775|2019-01-13|2019-01-15|   CS-12250|      680|OFF-BI-10004187| 5.64|       3|     0.0|2.7071999999999994|     NaN|         570|     3|\n",
            "|    26|US-2019-162775|2019-01-13|2019-01-15|   CS-12250|      679|OFF-BI-10004187| 5.64|       3|     0.0|2.7071999999999994|     NaN|         570|     3|\n",
            "|    26|US-2019-162775|2019-01-13|2019-01-15|   CS-12250|      678|OFF-BI-10004187| 5.64|       3|     0.0|2.7071999999999994|     NaN|         570|     3|\n",
            "|    26|US-2019-162775|2019-01-13|2019-01-15|   CS-12250|      677|OFF-BI-10004187| 5.64|       3|     0.0|2.7071999999999994|     NaN|         570|     3|\n",
            "|    26|US-2019-162775|2019-01-13|2019-01-15|   CS-12250|      676|OFF-BI-10004187| 5.64|       3|     0.0|2.7071999999999994|     NaN|         570|     3|\n",
            "+------+--------------+----------+----------+-----------+---------+---------------+-----+--------+--------+------------------+--------+------------+------+\n",
            "only showing top 20 rows\n",
            "\n"
          ]
        }
      ]
    },
    {
      "cell_type": "markdown",
      "source": [
        "Removing Duplicates"
      ],
      "metadata": {
        "id": "r8UdZMXq0pvB"
      }
    },
    {
      "cell_type": "code",
      "source": [
        "print(dim_customer_df.count())\n",
        "print(dim_ship_mode_df.count())\n",
        "print(dim_product_df.count())\n",
        "print(dim_country_df.count())\n",
        "\n",
        "dim_customer_df = dim_customer_df.dropDuplicates()\n",
        "dim_ship_mode_df = dim_ship_mode_df.dropDuplicates()\n",
        "dim_product_df = dim_product_df.dropDuplicates()\n",
        "dim_country_df = dim_country_df.dropDuplicates()\n",
        "\n",
        "print(dim_customer_df.count())\n",
        "print(dim_ship_mode_df.count())\n",
        "print(dim_product_df.count())\n",
        "print(dim_country_df.count())"
      ],
      "metadata": {
        "colab": {
          "base_uri": "https://localhost:8080/"
        },
        "id": "HUcohoOazhEC",
        "outputId": "4dfd22da-0e8c-4887-9014-3cb6d1d78c17"
      },
      "execution_count": null,
      "outputs": [
        {
          "output_type": "stream",
          "name": "stdout",
          "text": [
            "10200\n",
            "4\n",
            "10200\n",
            "696\n",
            "826\n",
            "4\n",
            "1917\n",
            "696\n"
          ]
        }
      ]
    },
    {
      "cell_type": "markdown",
      "source": [
        "**Augment/Enrich the data**"
      ],
      "metadata": {
        "id": "KG8DSN9y-hfR"
      }
    },
    {
      "cell_type": "markdown",
      "source": [
        "Calculating the unit product price"
      ],
      "metadata": {
        "id": "KbLoV_pu-cdd"
      }
    },
    {
      "cell_type": "code",
      "source": [
        "sales_df = sales_df.withColumn(\"Product Price\", (col(\"Sales\") / (1 - col(\"Discount\"))) / col(\"Quantity\"))\n",
        "sales_df.show(5)"
      ],
      "metadata": {
        "colab": {
          "base_uri": "https://localhost:8080/"
        },
        "id": "QPTOwh-R-nFw",
        "outputId": "6ddc219c-365b-402b-b898-f900a8280d27"
      },
      "execution_count": null,
      "outputs": [
        {
          "output_type": "stream",
          "name": "stdout",
          "text": [
            "+---------------+----------+---------+------+--------------+----------+----------+---------+--------------+-----------+-------------------+--------------+------------+--------------+-----------+-------+-----------------+---------------+------------+--------------------+------------------+--------+--------+------------------+--------+------------+-------------+\n",
            "|       Category|Order Date|  Segment|Row ID|      Order ID|Order_Week| Ship Date|Ship_Week|     Ship Mode|Customer ID|      Customer Name|Country/Region|        City|State/Province|Postal Code| Region| Regional Manager|     Product ID|Sub-Category|        Product Name|             Sales|Quantity|Discount|            Profit|Returned|Sales target|Product Price|\n",
            "+---------------+----------+---------+------+--------------+----------+----------+---------+--------------+-----------+-------------------+--------------+------------+--------------+-----------+-------+-----------------+---------------+------------+--------------------+------------------+--------+--------+------------------+--------+------------+-------------+\n",
            "|Office Supplies|2019-01-13|Corporate|    26|US-2019-162775|    2019-3|2019-01-15|   2019-3|  Second Class|   CS-12250|    Chris Selesnick| United States|Bossier City|     Louisiana|      71111|  South|      Fred Suzuki|OFF-BI-10004187|     Binders|  3-ring staple pack|              5.64|       3|     0.0|2.7071999999999994|     NaN|         570|         1.88|\n",
            "|Office Supplies|2019-01-13|Corporate|    27|US-2019-162775|    2019-3|2019-01-15|   2019-3|  Second Class|   CS-12250|    Chris Selesnick| United States|Bossier City|     Louisiana|      71111|  South|      Fred Suzuki|OFF-EN-10001532|   Envelopes|Brown Kraft Recyc...|             50.94|       3|     0.0|             25.47|     NaN|         570|        16.98|\n",
            "|Office Supplies|2019-01-13|Corporate|    28|US-2019-162775|    2019-3|2019-01-15|   2019-3|  Second Class|   CS-12250|    Chris Selesnick| United States|Bossier City|     Louisiana|      71111|  South|      Fred Suzuki|OFF-EN-10001990|   Envelopes|     Staple envelope|             11.36|       2|     0.0| 5.339199999999999|     NaN|         570|         5.68|\n",
            "|Office Supplies|2019-01-13|Corporate|    30|US-2019-162775|    2019-3|2019-01-15|   2019-3|  Second Class|   CS-12250|    Chris Selesnick| United States|Bossier City|     Louisiana|      71111|  South|      Fred Suzuki|OFF-ST-10000025|     Storage|Fellowes Stor/Dra...|            572.58|       6|     0.0|34.354799999999955|     NaN|         570|        95.43|\n",
            "|Office Supplies|2019-09-09| Consumer|  1070|US-2019-144407|   2019-37|2019-09-15|  2019-38|Standard Class|   MS-17365|Maribeth Schnelling| United States|     Detroit|      Michigan|      48227|Central|Roxanne Rodriguez|OFF-LA-10003923|      Labels|Alphabetical Labe...|103.60000000000001|       7|     0.0|51.800000000000004|     NaN|         124|         14.8|\n",
            "+---------------+----------+---------+------+--------------+----------+----------+---------+--------------+-----------+-------------------+--------------+------------+--------------+-----------+-------+-----------------+---------------+------------+--------------------+------------------+--------+--------+------------------+--------+------------+-------------+\n",
            "only showing top 5 rows\n",
            "\n"
          ]
        }
      ]
    },
    {
      "cell_type": "markdown",
      "source": [
        "Calculating the quantity requared for target sales"
      ],
      "metadata": {
        "id": "epBLFCHquZB-"
      }
    },
    {
      "cell_type": "code",
      "source": [
        "sales_df = sales_df.withColumn(\"Quantity Required\", col(\"Sales target\") / (col(\"Product Price\") - (col(\"Product Price\")*col(\"Discount\"))))\n",
        "sales_df.show(5)"
      ],
      "metadata": {
        "colab": {
          "base_uri": "https://localhost:8080/"
        },
        "id": "eEkezIpiq3Nt",
        "outputId": "98c698bd-4992-4960-93a0-55f63b8c7750"
      },
      "execution_count": null,
      "outputs": [
        {
          "output_type": "stream",
          "name": "stdout",
          "text": [
            "+---------------+----------+---------+------+--------------+----------+----------+---------+--------------+-----------+-------------------+--------------+------------+--------------+-----------+-------+-----------------+---------------+------------+--------------------+------------------+--------+--------+------------------+--------+------------+-------------+------------------+\n",
            "|       Category|Order Date|  Segment|Row ID|      Order ID|Order_Week| Ship Date|Ship_Week|     Ship Mode|Customer ID|      Customer Name|Country/Region|        City|State/Province|Postal Code| Region| Regional Manager|     Product ID|Sub-Category|        Product Name|             Sales|Quantity|Discount|            Profit|Returned|Sales target|Product Price| Quantity Required|\n",
            "+---------------+----------+---------+------+--------------+----------+----------+---------+--------------+-----------+-------------------+--------------+------------+--------------+-----------+-------+-----------------+---------------+------------+--------------------+------------------+--------+--------+------------------+--------+------------+-------------+------------------+\n",
            "|Office Supplies|2019-01-13|Corporate|    26|US-2019-162775|    2019-3|2019-01-15|   2019-3|  Second Class|   CS-12250|    Chris Selesnick| United States|Bossier City|     Louisiana|      71111|  South|      Fred Suzuki|OFF-BI-10004187|     Binders|  3-ring staple pack|              5.64|       3|     0.0|2.7071999999999994|     NaN|         570|         1.88|303.19148936170217|\n",
            "|Office Supplies|2019-01-13|Corporate|    27|US-2019-162775|    2019-3|2019-01-15|   2019-3|  Second Class|   CS-12250|    Chris Selesnick| United States|Bossier City|     Louisiana|      71111|  South|      Fred Suzuki|OFF-EN-10001532|   Envelopes|Brown Kraft Recyc...|             50.94|       3|     0.0|             25.47|     NaN|         570|        16.98| 33.56890459363957|\n",
            "|Office Supplies|2019-01-13|Corporate|    28|US-2019-162775|    2019-3|2019-01-15|   2019-3|  Second Class|   CS-12250|    Chris Selesnick| United States|Bossier City|     Louisiana|      71111|  South|      Fred Suzuki|OFF-EN-10001990|   Envelopes|     Staple envelope|             11.36|       2|     0.0| 5.339199999999999|     NaN|         570|         5.68|100.35211267605634|\n",
            "|Office Supplies|2019-01-13|Corporate|    30|US-2019-162775|    2019-3|2019-01-15|   2019-3|  Second Class|   CS-12250|    Chris Selesnick| United States|Bossier City|     Louisiana|      71111|  South|      Fred Suzuki|OFF-ST-10000025|     Storage|Fellowes Stor/Dra...|            572.58|       6|     0.0|34.354799999999955|     NaN|         570|        95.43| 5.972964476579691|\n",
            "|Office Supplies|2019-09-09| Consumer|  1070|US-2019-144407|   2019-37|2019-09-15|  2019-38|Standard Class|   MS-17365|Maribeth Schnelling| United States|     Detroit|      Michigan|      48227|Central|Roxanne Rodriguez|OFF-LA-10003923|      Labels|Alphabetical Labe...|103.60000000000001|       7|     0.0|51.800000000000004|     NaN|         124|         14.8| 8.378378378378377|\n",
            "+---------------+----------+---------+------+--------------+----------+----------+---------+--------------+-----------+-------------------+--------------+------------+--------------+-----------+-------+-----------------+---------------+------------+--------------------+------------------+--------+--------+------------------+--------+------------+-------------+------------------+\n",
            "only showing top 5 rows\n",
            "\n"
          ]
        }
      ]
    },
    {
      "cell_type": "markdown",
      "source": [
        "**Handling Missing Values**"
      ],
      "metadata": {
        "id": "9ZmWCnkpQrRe"
      }
    },
    {
      "cell_type": "code",
      "source": [
        "# for i in sales_df.columns:\n",
        "#   count = sales_df.filter(col(i).isNull() | (col(i) == \"NaN\")).count()\n",
        "#   print(f\"{i}: {count}\")\n",
        "\n",
        "from pyspark.sql.functions import count, when, col\n",
        "\n",
        "def missing_values_cal():\n",
        "  nulls = sales_df.select([count(when(col(i).isNull() | (col(i) == \"NaN\"), i)).alias(i) for i in sales_df.columns])\n",
        "  nulls.show()"
      ],
      "metadata": {
        "id": "BUTaiPogWgHs"
      },
      "execution_count": null,
      "outputs": []
    },
    {
      "cell_type": "code",
      "source": [
        "missing_values_cal()"
      ],
      "metadata": {
        "colab": {
          "base_uri": "https://localhost:8080/"
        },
        "id": "CKY318p7-fvh",
        "outputId": "b68df504-e26b-4af9-a018-2d54be275a05"
      },
      "execution_count": null,
      "outputs": [
        {
          "output_type": "stream",
          "name": "stdout",
          "text": [
            "+--------+----------+-------+------+--------+----------+---------+---------+---------+-----------+-------------+--------------+----+--------------+-----------+------+----------------+----------+------------+------------+-----+--------+--------+------+--------+------------+-------------+-----------------+\n",
            "|Category|Order Date|Segment|Row ID|Order ID|Order_Week|Ship Date|Ship_Week|Ship Mode|Customer ID|Customer Name|Country/Region|City|State/Province|Postal Code|Region|Regional Manager|Product ID|Sub-Category|Product Name|Sales|Quantity|Discount|Profit|Returned|Sales target|Product Price|Quantity Required|\n",
            "+--------+----------+-------+------+--------+----------+---------+---------+---------+-----------+-------------+--------------+----+--------------+-----------+------+----------------+----------+------------+------------+-----+--------+--------+------+--------+------------+-------------+-----------------+\n",
            "|      24|         0|      0|     0|       0|         0|        0|        0|        0|          0|           23|             0|   0|            28|          0|     0|              17|         0|           0|           0|    0|       0|       0|     0|    9400|          88|            0|               88|\n",
            "+--------+----------+-------+------+--------+----------+---------+---------+---------+-----------+-------------+--------------+----+--------------+-----------+------+----------------+----------+------------+------------+-----+--------+--------+------+--------+------------+-------------+-----------------+\n",
            "\n"
          ]
        }
      ]
    },
    {
      "cell_type": "markdown",
      "source": [
        "Handling missing values in Customer Column mapping with Customer ID"
      ],
      "metadata": {
        "id": "2dZVtpu1RIxj"
      }
    },
    {
      "cell_type": "code",
      "source": [
        "from pyspark.sql.functions import first\n",
        "\n",
        "#By selecting the first non-null value of Customer Name\n",
        "customer_name_fill = (\n",
        "    sales_df\n",
        "    .groupBy('Customer ID')\n",
        "    .agg(first(col('Customer Name')).alias('CustomerName'))\n",
        "    .na.drop()\n",
        ")\n",
        "\n",
        "sales_df = sales_df.join(customer_name_fill, on='Customer ID', how='left')\n",
        "sales_df = sales_df.drop('Customer Name')\n",
        "sales_df = sales_df.withColumnRenamed('CustomerName', 'Customer Name')"
      ],
      "metadata": {
        "id": "zIiVFdjw9_NQ"
      },
      "execution_count": null,
      "outputs": []
    },
    {
      "cell_type": "code",
      "source": [
        "sales_df.show(5)"
      ],
      "metadata": {
        "colab": {
          "base_uri": "https://localhost:8080/"
        },
        "id": "BCG2Ym5oEyOi",
        "outputId": "ae397e2d-5086-4eef-9b01-d5e08e0dec96"
      },
      "execution_count": null,
      "outputs": [
        {
          "output_type": "stream",
          "name": "stdout",
          "text": [
            "+-----------+---------------+----------+---------+------+--------------+----------+----------+---------+--------------+--------------+------------+--------------+-----------+-------+-----------------+---------------+------------+--------------------+------------------+--------+--------+------------------+--------+------------+-------------+------------------+-------------------+\n",
            "|Customer ID|       Category|Order Date|  Segment|Row ID|      Order ID|Order_Week| Ship Date|Ship_Week|     Ship Mode|Country/Region|        City|State/Province|Postal Code| Region| Regional Manager|     Product ID|Sub-Category|        Product Name|             Sales|Quantity|Discount|            Profit|Returned|Sales target|Product Price| Quantity Required|      Customer Name|\n",
            "+-----------+---------------+----------+---------+------+--------------+----------+----------+---------+--------------+--------------+------------+--------------+-----------+-------+-----------------+---------------+------------+--------------------+------------------+--------+--------+------------------+--------+------------+-------------+------------------+-------------------+\n",
            "|   LC-17140|Office Supplies|2019-09-09| Consumer|  1071|US-2019-102869|   2019-37|2019-09-14|  2019-37|  Second Class| United States|Philadelphia|  Pennsylvania|      19140|   East|      Chuck Magee|OFF-PA-10000788|       Paper|           Xerox 210|15.552000000000003|       3|     0.2|            5.4432|     NaN|         124|         6.48|23.919753086419753|       Logan Currie|\n",
            "|   MS-17365|Office Supplies|2019-09-09| Consumer|  1070|US-2019-144407|   2019-37|2019-09-15|  2019-38|Standard Class| United States|     Detroit|      Michigan|      48227|Central|Roxanne Rodriguez|OFF-LA-10003923|      Labels|Alphabetical Labe...|103.60000000000001|       7|     0.0|51.800000000000004|     NaN|         124|         14.8| 8.378378378378377|Maribeth Schnelling|\n",
            "|   CS-12250|Office Supplies|2019-01-13|Corporate|    26|US-2019-162775|    2019-3|2019-01-15|   2019-3|  Second Class| United States|Bossier City|     Louisiana|      71111|  South|      Fred Suzuki|OFF-BI-10004187|     Binders|  3-ring staple pack|              5.64|       3|     0.0|2.7071999999999994|     NaN|         570|         1.88|303.19148936170217|    Chris Selesnick|\n",
            "|   CS-12250|Office Supplies|2019-01-13|Corporate|    27|US-2019-162775|    2019-3|2019-01-15|   2019-3|  Second Class| United States|Bossier City|     Louisiana|      71111|  South|      Fred Suzuki|OFF-EN-10001532|   Envelopes|Brown Kraft Recyc...|             50.94|       3|     0.0|             25.47|     NaN|         570|        16.98| 33.56890459363957|    Chris Selesnick|\n",
            "|   CS-12250|Office Supplies|2019-01-13|Corporate|    28|US-2019-162775|    2019-3|2019-01-15|   2019-3|  Second Class| United States|Bossier City|     Louisiana|      71111|  South|      Fred Suzuki|OFF-EN-10001990|   Envelopes|     Staple envelope|             11.36|       2|     0.0| 5.339199999999999|     NaN|         570|         5.68|100.35211267605634|    Chris Selesnick|\n",
            "+-----------+---------------+----------+---------+------+--------------+----------+----------+---------+--------------+--------------+------------+--------------+-----------+-------+-----------------+---------------+------------+--------------------+------------------+--------+--------+------------------+--------+------------+-------------+------------------+-------------------+\n",
            "only showing top 5 rows\n",
            "\n"
          ]
        }
      ]
    },
    {
      "cell_type": "code",
      "source": [
        "missing_values_cal()"
      ],
      "metadata": {
        "colab": {
          "base_uri": "https://localhost:8080/"
        },
        "id": "ETnryBKIE_1e",
        "outputId": "c7c12b07-35f3-47dc-e226-cc1f1b05d4c4"
      },
      "execution_count": null,
      "outputs": [
        {
          "output_type": "stream",
          "name": "stdout",
          "text": [
            "+-----------+--------+----------+-------+------+--------+----------+---------+---------+---------+--------------+----+--------------+-----------+------+----------------+----------+------------+------------+-----+--------+--------+------+--------+------------+-------------+-----------------+-------------+\n",
            "|Customer ID|Category|Order Date|Segment|Row ID|Order ID|Order_Week|Ship Date|Ship_Week|Ship Mode|Country/Region|City|State/Province|Postal Code|Region|Regional Manager|Product ID|Sub-Category|Product Name|Sales|Quantity|Discount|Profit|Returned|Sales target|Product Price|Quantity Required|Customer Name|\n",
            "+-----------+--------+----------+-------+------+--------+----------+---------+---------+---------+--------------+----+--------------+-----------+------+----------------+----------+------------+------------+-----+--------+--------+------+--------+------------+-------------+-----------------+-------------+\n",
            "|          0|      24|         0|      0|     0|       0|         0|        0|        0|        0|             0|   0|            28|          0|     0|              17|         0|           0|           0|    0|       0|       0|     0|    9400|          88|            0|               88|            0|\n",
            "+-----------+--------+----------+-------+------+--------+----------+---------+---------+---------+--------------+----+--------------+-----------+------+----------------+----------+------------+------------+-----+--------+--------+------+--------+------------+-------------+-----------------+-------------+\n",
            "\n"
          ]
        }
      ]
    },
    {
      "cell_type": "code",
      "source": [
        "sales_df.createOrReplaceTempView(\"sales_view\")"
      ],
      "metadata": {
        "id": "oftZ5dOzFoNH"
      },
      "execution_count": null,
      "outputs": []
    },
    {
      "cell_type": "code",
      "source": [
        "query = \"\"\"\n",
        "SELECT `Customer ID`, `Customer Name`\n",
        "FROM sales_view\n",
        "WHERE isnan(`Customer Name`)\n",
        "\"\"\"\n",
        "\n",
        "result = spark.sql(query)\n",
        "result.show()"
      ],
      "metadata": {
        "colab": {
          "base_uri": "https://localhost:8080/"
        },
        "id": "pwZxe8msE3Vt",
        "outputId": "d4296098-fb4d-4fcc-c85d-bf1cd3db8a56"
      },
      "execution_count": null,
      "outputs": [
        {
          "output_type": "stream",
          "name": "stdout",
          "text": [
            "+-----------+-------------+\n",
            "|Customer ID|Customer Name|\n",
            "+-----------+-------------+\n",
            "+-----------+-------------+\n",
            "\n"
          ]
        }
      ]
    },
    {
      "cell_type": "markdown",
      "source": [
        "Handling missing values in Returned Column"
      ],
      "metadata": {
        "id": "TR0_XjYdRDfl"
      }
    },
    {
      "cell_type": "code",
      "source": [
        "sales_df = sales_df.withColumn(\"Returned\", when(sales_df[\"Returned\"] == 'NaN', \"Pending\").otherwise(sales_df[\"Returned\"]))\n",
        "sales_df.show(5)"
      ],
      "metadata": {
        "colab": {
          "base_uri": "https://localhost:8080/"
        },
        "id": "sXvuMijR4lwR",
        "outputId": "38c944c2-b91e-4e44-d551-eef7b9510cb0"
      },
      "execution_count": null,
      "outputs": [
        {
          "output_type": "stream",
          "name": "stdout",
          "text": [
            "+-----------+---------------+----------+---------+------+--------------+----------+----------+---------+--------------+--------------+------------+--------------+-----------+-------+-----------------+---------------+------------+--------------------+------------------+--------+--------+------------------+--------+------------+-------------+------------------+-------------------+\n",
            "|Customer ID|       Category|Order Date|  Segment|Row ID|      Order ID|Order_Week| Ship Date|Ship_Week|     Ship Mode|Country/Region|        City|State/Province|Postal Code| Region| Regional Manager|     Product ID|Sub-Category|        Product Name|             Sales|Quantity|Discount|            Profit|Returned|Sales target|Product Price| Quantity Required|      Customer Name|\n",
            "+-----------+---------------+----------+---------+------+--------------+----------+----------+---------+--------------+--------------+------------+--------------+-----------+-------+-----------------+---------------+------------+--------------------+------------------+--------+--------+------------------+--------+------------+-------------+------------------+-------------------+\n",
            "|   LC-17140|Office Supplies|2019-09-09| Consumer|  1071|US-2019-102869|   2019-37|2019-09-14|  2019-37|  Second Class| United States|Philadelphia|  Pennsylvania|      19140|   East|      Chuck Magee|OFF-PA-10000788|       Paper|           Xerox 210|15.552000000000003|       3|     0.2|            5.4432| Pending|         124|         6.48|23.919753086419753|       Logan Currie|\n",
            "|   MS-17365|Office Supplies|2019-09-09| Consumer|  1070|US-2019-144407|   2019-37|2019-09-15|  2019-38|Standard Class| United States|     Detroit|      Michigan|      48227|Central|Roxanne Rodriguez|OFF-LA-10003923|      Labels|Alphabetical Labe...|103.60000000000001|       7|     0.0|51.800000000000004| Pending|         124|         14.8| 8.378378378378377|Maribeth Schnelling|\n",
            "|   CS-12250|Office Supplies|2019-01-13|Corporate|    26|US-2019-162775|    2019-3|2019-01-15|   2019-3|  Second Class| United States|Bossier City|     Louisiana|      71111|  South|      Fred Suzuki|OFF-BI-10004187|     Binders|  3-ring staple pack|              5.64|       3|     0.0|2.7071999999999994| Pending|         570|         1.88|303.19148936170217|    Chris Selesnick|\n",
            "|   CS-12250|Office Supplies|2019-01-13|Corporate|    27|US-2019-162775|    2019-3|2019-01-15|   2019-3|  Second Class| United States|Bossier City|     Louisiana|      71111|  South|      Fred Suzuki|OFF-EN-10001532|   Envelopes|Brown Kraft Recyc...|             50.94|       3|     0.0|             25.47| Pending|         570|        16.98| 33.56890459363957|    Chris Selesnick|\n",
            "|   CS-12250|Office Supplies|2019-01-13|Corporate|    28|US-2019-162775|    2019-3|2019-01-15|   2019-3|  Second Class| United States|Bossier City|     Louisiana|      71111|  South|      Fred Suzuki|OFF-EN-10001990|   Envelopes|     Staple envelope|             11.36|       2|     0.0| 5.339199999999999| Pending|         570|         5.68|100.35211267605634|    Chris Selesnick|\n",
            "+-----------+---------------+----------+---------+------+--------------+----------+----------+---------+--------------+--------------+------------+--------------+-----------+-------+-----------------+---------------+------------+--------------------+------------------+--------+--------+------------------+--------+------------+-------------+------------------+-------------------+\n",
            "only showing top 5 rows\n",
            "\n"
          ]
        }
      ]
    },
    {
      "cell_type": "code",
      "source": [
        "missing_values_cal()"
      ],
      "metadata": {
        "colab": {
          "base_uri": "https://localhost:8080/"
        },
        "id": "ZEsWZR0WMwBW",
        "outputId": "b562fb9a-b29b-4d83-a9b0-cb6b215e4876"
      },
      "execution_count": null,
      "outputs": [
        {
          "output_type": "stream",
          "name": "stdout",
          "text": [
            "+-----------+--------+----------+-------+------+--------+----------+---------+---------+---------+--------------+----+--------------+-----------+------+----------------+----------+------------+------------+-----+--------+--------+------+--------+------------+-------------+-----------------+-------------+\n",
            "|Customer ID|Category|Order Date|Segment|Row ID|Order ID|Order_Week|Ship Date|Ship_Week|Ship Mode|Country/Region|City|State/Province|Postal Code|Region|Regional Manager|Product ID|Sub-Category|Product Name|Sales|Quantity|Discount|Profit|Returned|Sales target|Product Price|Quantity Required|Customer Name|\n",
            "+-----------+--------+----------+-------+------+--------+----------+---------+---------+---------+--------------+----+--------------+-----------+------+----------------+----------+------------+------------+-----+--------+--------+------+--------+------------+-------------+-----------------+-------------+\n",
            "|          0|      24|         0|      0|     0|       0|         0|        0|        0|        0|             0|   0|            28|          0|     0|              17|         0|           0|           0|    0|       0|       0|     0|       0|          88|            0|               88|            0|\n",
            "+-----------+--------+----------+-------+------+--------+----------+---------+---------+---------+--------------+----+--------------+-----------+------+----------------+----------+------------+------------+-----+--------+--------+------+--------+------------+-------------+-----------------+-------------+\n",
            "\n"
          ]
        }
      ]
    },
    {
      "cell_type": "markdown",
      "source": [
        "Handling missing values in Regional Manager column mapping with Region"
      ],
      "metadata": {
        "id": "RstKvSTuRRIX"
      }
    },
    {
      "cell_type": "code",
      "source": [
        "regional_manager_fill = (\n",
        "    sales_df\n",
        "    .groupBy('Region')\n",
        "    .agg(first(col('Regional Manager')).alias('RegionalManager'))\n",
        "    .na.drop()\n",
        ")\n",
        "\n",
        "sales_df = sales_df.join(regional_manager_fill, on='Region', how='left')\n",
        "sales_df = sales_df.drop('Regional Manager')\n",
        "sales_df = sales_df.withColumnRenamed('RegionalManager', 'Regional Manager')\n",
        "\n",
        "sales_df.show(5)"
      ],
      "metadata": {
        "colab": {
          "base_uri": "https://localhost:8080/"
        },
        "id": "GuB5e8MUQd6h",
        "outputId": "c3f15440-8826-47d0-ad75-9e1e664defed"
      },
      "execution_count": null,
      "outputs": [
        {
          "output_type": "stream",
          "name": "stdout",
          "text": [
            "+-------+-----------+---------------+----------+---------+------+--------------+----------+----------+---------+--------------+--------------+------------+--------------+-----------+---------------+------------+--------------------+------------------+--------+--------+------------------+--------+------------+-------------+------------------+-------------------+-----------------+\n",
            "| Region|Customer ID|       Category|Order Date|  Segment|Row ID|      Order ID|Order_Week| Ship Date|Ship_Week|     Ship Mode|Country/Region|        City|State/Province|Postal Code|     Product ID|Sub-Category|        Product Name|             Sales|Quantity|Discount|            Profit|Returned|Sales target|Product Price| Quantity Required|      Customer Name| Regional Manager|\n",
            "+-------+-----------+---------------+----------+---------+------+--------------+----------+----------+---------+--------------+--------------+------------+--------------+-----------+---------------+------------+--------------------+------------------+--------+--------+------------------+--------+------------+-------------+------------------+-------------------+-----------------+\n",
            "|  South|   CS-12250|Office Supplies|2019-01-13|Corporate|    26|US-2019-162775|    2019-3|2019-01-15|   2019-3|  Second Class| United States|Bossier City|     Louisiana|      71111|OFF-BI-10004187|     Binders|  3-ring staple pack|              5.64|       3|     0.0|2.7071999999999994| Pending|         570|         1.88|303.19148936170217|    Chris Selesnick|      Fred Suzuki|\n",
            "|  South|   CS-12250|Office Supplies|2019-01-13|Corporate|    27|US-2019-162775|    2019-3|2019-01-15|   2019-3|  Second Class| United States|Bossier City|     Louisiana|      71111|OFF-EN-10001532|   Envelopes|Brown Kraft Recyc...|             50.94|       3|     0.0|             25.47| Pending|         570|        16.98| 33.56890459363957|    Chris Selesnick|      Fred Suzuki|\n",
            "|  South|   CS-12250|Office Supplies|2019-01-13|Corporate|    28|US-2019-162775|    2019-3|2019-01-15|   2019-3|  Second Class| United States|Bossier City|     Louisiana|      71111|OFF-EN-10001990|   Envelopes|     Staple envelope|             11.36|       2|     0.0| 5.339199999999999| Pending|         570|         5.68|100.35211267605634|    Chris Selesnick|      Fred Suzuki|\n",
            "|  South|   CS-12250|Office Supplies|2019-01-13|Corporate|    30|US-2019-162775|    2019-3|2019-01-15|   2019-3|  Second Class| United States|Bossier City|     Louisiana|      71111|OFF-ST-10000025|     Storage|Fellowes Stor/Dra...|            572.58|       6|     0.0|34.354799999999955| Pending|         570|        95.43| 5.972964476579691|    Chris Selesnick|      Fred Suzuki|\n",
            "|Central|   MS-17365|Office Supplies|2019-09-09| Consumer|  1070|US-2019-144407|   2019-37|2019-09-15|  2019-38|Standard Class| United States|     Detroit|      Michigan|      48227|OFF-LA-10003923|      Labels|Alphabetical Labe...|103.60000000000001|       7|     0.0|51.800000000000004| Pending|         124|         14.8| 8.378378378378377|Maribeth Schnelling|Roxanne Rodriguez|\n",
            "+-------+-----------+---------------+----------+---------+------+--------------+----------+----------+---------+--------------+--------------+------------+--------------+-----------+---------------+------------+--------------------+------------------+--------+--------+------------------+--------+------------+-------------+------------------+-------------------+-----------------+\n",
            "only showing top 5 rows\n",
            "\n"
          ]
        }
      ]
    },
    {
      "cell_type": "code",
      "source": [
        "missing_values_cal()"
      ],
      "metadata": {
        "colab": {
          "base_uri": "https://localhost:8080/"
        },
        "id": "BWfbFR1eR1Sl",
        "outputId": "92a5cbf5-dfaa-4c52-ebf7-d39d65440451"
      },
      "execution_count": null,
      "outputs": [
        {
          "output_type": "stream",
          "name": "stdout",
          "text": [
            "+------+-----------+--------+----------+-------+------+--------+----------+---------+---------+---------+--------------+----+--------------+-----------+----------+------------+------------+-----+--------+--------+------+--------+------------+-------------+-----------------+-------------+----------------+\n",
            "|Region|Customer ID|Category|Order Date|Segment|Row ID|Order ID|Order_Week|Ship Date|Ship_Week|Ship Mode|Country/Region|City|State/Province|Postal Code|Product ID|Sub-Category|Product Name|Sales|Quantity|Discount|Profit|Returned|Sales target|Product Price|Quantity Required|Customer Name|Regional Manager|\n",
            "+------+-----------+--------+----------+-------+------+--------+----------+---------+---------+---------+--------------+----+--------------+-----------+----------+------------+------------+-----+--------+--------+------+--------+------------+-------------+-----------------+-------------+----------------+\n",
            "|     0|          0|      24|         0|      0|     0|       0|         0|        0|        0|        0|             0|   0|            28|          0|         0|           0|           0|    0|       0|       0|     0|       0|          88|            0|               88|            0|               0|\n",
            "+------+-----------+--------+----------+-------+------+--------+----------+---------+---------+---------+--------------+----+--------------+-----------+----------+------------+------------+-----+--------+--------+------+--------+------------+-------------+-----------------+-------------+----------------+\n",
            "\n"
          ]
        }
      ]
    },
    {
      "cell_type": "markdown",
      "source": [
        "Handling missing values in State/Province column mapping with Postal Code"
      ],
      "metadata": {
        "id": "lvKlziy5SSPQ"
      }
    },
    {
      "cell_type": "code",
      "source": [
        "state_fill = (\n",
        "    sales_df\n",
        "    .groupBy('Postal Code')\n",
        "    .agg(first(col('State/Province')).alias('StateProvince'))\n",
        "    .na.drop()\n",
        ")\n",
        "\n",
        "sales_df = sales_df.join(state_fill, on='Postal Code', how='left')\n",
        "sales_df = sales_df.drop('State/Province')\n",
        "sales_df = sales_df.withColumnRenamed('StateProvince', 'State/Province')\n",
        "\n",
        "sales_df.show(5)"
      ],
      "metadata": {
        "colab": {
          "base_uri": "https://localhost:8080/"
        },
        "id": "RYm-x3nyR8JL",
        "outputId": "16adad19-ec7f-4537-a6fd-1c192f12192a"
      },
      "execution_count": null,
      "outputs": [
        {
          "output_type": "stream",
          "name": "stdout",
          "text": [
            "+-----------+-------+-----------+---------------+----------+---------+------+--------------+----------+----------+---------+--------------+--------------+------------+---------------+------------+--------------------+------------------+--------+--------+------------------+--------+------------+-------------+------------------+-------------------+-----------------+--------------+\n",
            "|Postal Code| Region|Customer ID|       Category|Order Date|  Segment|Row ID|      Order ID|Order_Week| Ship Date|Ship_Week|     Ship Mode|Country/Region|        City|     Product ID|Sub-Category|        Product Name|             Sales|Quantity|Discount|            Profit|Returned|Sales target|Product Price| Quantity Required|      Customer Name| Regional Manager|State/Province|\n",
            "+-----------+-------+-----------+---------------+----------+---------+------+--------------+----------+----------+---------+--------------+--------------+------------+---------------+------------+--------------------+------------------+--------+--------+------------------+--------+------------+-------------+------------------+-------------------+-----------------+--------------+\n",
            "|      48227|Central|   MS-17365|Office Supplies|2019-09-09| Consumer|  1070|US-2019-144407|   2019-37|2019-09-15|  2019-38|Standard Class| United States|     Detroit|OFF-LA-10003923|      Labels|Alphabetical Labe...|103.60000000000001|       7|     0.0|51.800000000000004| Pending|         124|         14.8| 8.378378378378377|Maribeth Schnelling|Roxanne Rodriguez|      Michigan|\n",
            "|      19140|   East|   LC-17140|Office Supplies|2019-09-09| Consumer|  1071|US-2019-102869|   2019-37|2019-09-14|  2019-37|  Second Class| United States|Philadelphia|OFF-PA-10000788|       Paper|           Xerox 210|15.552000000000003|       3|     0.2|            5.4432| Pending|         124|         6.48|23.919753086419753|       Logan Currie|      Chuck Magee|  Pennsylvania|\n",
            "|      71111|  South|   CS-12250|Office Supplies|2019-01-13|Corporate|    26|US-2019-162775|    2019-3|2019-01-15|   2019-3|  Second Class| United States|Bossier City|OFF-BI-10004187|     Binders|  3-ring staple pack|              5.64|       3|     0.0|2.7071999999999994| Pending|         570|         1.88|303.19148936170217|    Chris Selesnick|      Fred Suzuki|     Louisiana|\n",
            "|      71111|  South|   CS-12250|Office Supplies|2019-01-13|Corporate|    27|US-2019-162775|    2019-3|2019-01-15|   2019-3|  Second Class| United States|Bossier City|OFF-EN-10001532|   Envelopes|Brown Kraft Recyc...|             50.94|       3|     0.0|             25.47| Pending|         570|        16.98| 33.56890459363957|    Chris Selesnick|      Fred Suzuki|     Louisiana|\n",
            "|      71111|  South|   CS-12250|Office Supplies|2019-01-13|Corporate|    28|US-2019-162775|    2019-3|2019-01-15|   2019-3|  Second Class| United States|Bossier City|OFF-EN-10001990|   Envelopes|     Staple envelope|             11.36|       2|     0.0| 5.339199999999999| Pending|         570|         5.68|100.35211267605634|    Chris Selesnick|      Fred Suzuki|     Louisiana|\n",
            "+-----------+-------+-----------+---------------+----------+---------+------+--------------+----------+----------+---------+--------------+--------------+------------+---------------+------------+--------------------+------------------+--------+--------+------------------+--------+------------+-------------+------------------+-------------------+-----------------+--------------+\n",
            "only showing top 5 rows\n",
            "\n"
          ]
        }
      ]
    },
    {
      "cell_type": "code",
      "source": [
        "missing_values_cal()"
      ],
      "metadata": {
        "colab": {
          "base_uri": "https://localhost:8080/"
        },
        "id": "z9Z-jroATj4W",
        "outputId": "ff5c7afe-89f5-4f2d-cddd-324c4745c1f5"
      },
      "execution_count": null,
      "outputs": [
        {
          "output_type": "stream",
          "name": "stdout",
          "text": [
            "+-----------+------+-----------+--------+----------+-------+------+--------+----------+---------+---------+---------+--------------+----+----------+------------+------------+-----+--------+--------+------+--------+------------+-------------+-----------------+-------------+----------------+--------------+\n",
            "|Postal Code|Region|Customer ID|Category|Order Date|Segment|Row ID|Order ID|Order_Week|Ship Date|Ship_Week|Ship Mode|Country/Region|City|Product ID|Sub-Category|Product Name|Sales|Quantity|Discount|Profit|Returned|Sales target|Product Price|Quantity Required|Customer Name|Regional Manager|State/Province|\n",
            "+-----------+------+-----------+--------+----------+-------+------+--------+----------+---------+---------+---------+--------------+----+----------+------------+------------+-----+--------+--------+------+--------+------------+-------------+-----------------+-------------+----------------+--------------+\n",
            "|          0|     0|          0|      24|         0|      0|     0|       0|         0|        0|        0|        0|             0|   0|         0|           0|           0|    0|       0|       0|     0|       0|          88|            0|               88|            0|               0|             0|\n",
            "+-----------+------+-----------+--------+----------+-------+------+--------+----------+---------+---------+---------+--------------+----+----------+------------+------------+-----+--------+--------+------+--------+------------+-------------+-----------------+-------------+----------------+--------------+\n",
            "\n"
          ]
        }
      ]
    },
    {
      "cell_type": "markdown",
      "source": [
        "Handling missing values in Category column mapping with Product ID"
      ],
      "metadata": {
        "id": "oznWzEyHUdJl"
      }
    },
    {
      "cell_type": "code",
      "source": [
        "distinct_product_id = sales_df.select(\"Product ID\").distinct()\n",
        "distinct_product_id.show()"
      ],
      "metadata": {
        "colab": {
          "base_uri": "https://localhost:8080/"
        },
        "id": "XBK7cFq3Tpla",
        "outputId": "6f1bbd30-d62a-45b6-a481-8a76d7ebc8b7"
      },
      "execution_count": null,
      "outputs": [
        {
          "output_type": "stream",
          "name": "stdout",
          "text": [
            "+---------------+\n",
            "|     Product ID|\n",
            "+---------------+\n",
            "|FUR-FU-10000409|\n",
            "|OFF-AR-10003504|\n",
            "|OFF-AP-10002495|\n",
            "|FUR-CH-10003833|\n",
            "|OFF-EN-10002600|\n",
            "|OFF-PA-10002615|\n",
            "|TEC-MA-10001047|\n",
            "|FUR-CH-10000863|\n",
            "|FUR-TA-10004086|\n",
            "|OFF-PA-10001457|\n",
            "|OFF-PA-10000575|\n",
            "|OFF-LA-10004008|\n",
            "|OFF-BI-10001636|\n",
            "|OFF-PA-10001639|\n",
            "|OFF-AR-10003876|\n",
            "|OFF-ST-10003641|\n",
            "|FUR-TA-10000849|\n",
            "|OFF-PA-10004243|\n",
            "|OFF-BI-10001575|\n",
            "|OFF-AP-10001303|\n",
            "+---------------+\n",
            "only showing top 20 rows\n",
            "\n"
          ]
        }
      ]
    },
    {
      "cell_type": "code",
      "source": [
        "sales_df = sales_df.withColumn(\"Product Category\", sales_df[\"Product ID\"].substr(1, 3))"
      ],
      "metadata": {
        "id": "2-DELtnxVBxu"
      },
      "execution_count": null,
      "outputs": []
    },
    {
      "cell_type": "code",
      "source": [
        "sales_df.show(5)"
      ],
      "metadata": {
        "colab": {
          "base_uri": "https://localhost:8080/"
        },
        "id": "vmmM9-JFWgxo",
        "outputId": "96a14e1b-d6e7-46f0-a49b-6dff74c26912"
      },
      "execution_count": null,
      "outputs": [
        {
          "output_type": "stream",
          "name": "stdout",
          "text": [
            "+-----------+-------+-----------+---------------+----------+---------+------+--------------+----------+----------+---------+--------------+--------------+------------+---------------+------------+--------------------+------------------+--------+--------+------------------+--------+------------+-------------+------------------+-------------------+-----------------+--------------+----------------+\n",
            "|Postal Code| Region|Customer ID|       Category|Order Date|  Segment|Row ID|      Order ID|Order_Week| Ship Date|Ship_Week|     Ship Mode|Country/Region|        City|     Product ID|Sub-Category|        Product Name|             Sales|Quantity|Discount|            Profit|Returned|Sales target|Product Price| Quantity Required|      Customer Name| Regional Manager|State/Province|Product Category|\n",
            "+-----------+-------+-----------+---------------+----------+---------+------+--------------+----------+----------+---------+--------------+--------------+------------+---------------+------------+--------------------+------------------+--------+--------+------------------+--------+------------+-------------+------------------+-------------------+-----------------+--------------+----------------+\n",
            "|      48227|Central|   MS-17365|Office Supplies|2019-09-09| Consumer|  1070|US-2019-144407|   2019-37|2019-09-15|  2019-38|Standard Class| United States|     Detroit|OFF-LA-10003923|      Labels|Alphabetical Labe...|103.60000000000001|       7|     0.0|51.800000000000004| Pending|         124|         14.8| 8.378378378378377|Maribeth Schnelling|Roxanne Rodriguez|      Michigan|             OFF|\n",
            "|      19140|   East|   LC-17140|Office Supplies|2019-09-09| Consumer|  1071|US-2019-102869|   2019-37|2019-09-14|  2019-37|  Second Class| United States|Philadelphia|OFF-PA-10000788|       Paper|           Xerox 210|15.552000000000003|       3|     0.2|            5.4432| Pending|         124|         6.48|23.919753086419753|       Logan Currie|      Chuck Magee|  Pennsylvania|             OFF|\n",
            "|      71111|  South|   CS-12250|Office Supplies|2019-01-13|Corporate|    26|US-2019-162775|    2019-3|2019-01-15|   2019-3|  Second Class| United States|Bossier City|OFF-BI-10004187|     Binders|  3-ring staple pack|              5.64|       3|     0.0|2.7071999999999994| Pending|         570|         1.88|303.19148936170217|    Chris Selesnick|      Fred Suzuki|     Louisiana|             OFF|\n",
            "|      71111|  South|   CS-12250|Office Supplies|2019-01-13|Corporate|    27|US-2019-162775|    2019-3|2019-01-15|   2019-3|  Second Class| United States|Bossier City|OFF-EN-10001532|   Envelopes|Brown Kraft Recyc...|             50.94|       3|     0.0|             25.47| Pending|         570|        16.98| 33.56890459363957|    Chris Selesnick|      Fred Suzuki|     Louisiana|             OFF|\n",
            "|      71111|  South|   CS-12250|Office Supplies|2019-01-13|Corporate|    28|US-2019-162775|    2019-3|2019-01-15|   2019-3|  Second Class| United States|Bossier City|OFF-EN-10001990|   Envelopes|     Staple envelope|             11.36|       2|     0.0| 5.339199999999999| Pending|         570|         5.68|100.35211267605634|    Chris Selesnick|      Fred Suzuki|     Louisiana|             OFF|\n",
            "+-----------+-------+-----------+---------------+----------+---------+------+--------------+----------+----------+---------+--------------+--------------+------------+---------------+------------+--------------------+------------------+--------+--------+------------------+--------+------------+-------------+------------------+-------------------+-----------------+--------------+----------------+\n",
            "only showing top 5 rows\n",
            "\n"
          ]
        }
      ]
    },
    {
      "cell_type": "code",
      "source": [
        "distinct_product_category = sales_df.select(\"Product Category\").distinct()\n",
        "distinct_product_category.show()"
      ],
      "metadata": {
        "colab": {
          "base_uri": "https://localhost:8080/"
        },
        "id": "8LKLqnKjWjVW",
        "outputId": "d4e17b98-52ab-461f-a0e2-6049ac2ab303"
      },
      "execution_count": null,
      "outputs": [
        {
          "output_type": "stream",
          "name": "stdout",
          "text": [
            "+----------------+\n",
            "|Product Category|\n",
            "+----------------+\n",
            "|             OFF|\n",
            "|             TEC|\n",
            "|             FUR|\n",
            "+----------------+\n",
            "\n"
          ]
        }
      ]
    },
    {
      "cell_type": "markdown",
      "source": [
        "Add a seperate column having category type"
      ],
      "metadata": {
        "id": "Im0-T2noA6pP"
      }
    },
    {
      "cell_type": "code",
      "source": [
        "sales_df = sales_df.withColumn(\"Category\",\n",
        "                   when((sales_df[\"Category\"] == \"NaN\") & (sales_df[\"Product Category\"] == \"OFF\"), \"Office Supplies\")\n",
        "                   .when((sales_df[\"Category\"]== \"NaN\") & (sales_df[\"Product Category\"] == \"TEC\"), \"Technology\")\n",
        "                   .when((sales_df[\"Category\"]== \"NaN\") & (sales_df[\"Product Category\"] == \"FUR\"), \"Furniture\")\n",
        "                   .otherwise(sales_df[\"Category\"]))"
      ],
      "metadata": {
        "id": "muVbmUb3Wrg8"
      },
      "execution_count": null,
      "outputs": []
    },
    {
      "cell_type": "code",
      "source": [
        "missing_values_cal()"
      ],
      "metadata": {
        "colab": {
          "base_uri": "https://localhost:8080/"
        },
        "id": "s6vPm1YrY1Y4",
        "outputId": "6be70388-89e1-4313-a6a3-98d5bef76afa"
      },
      "execution_count": null,
      "outputs": [
        {
          "output_type": "stream",
          "name": "stdout",
          "text": [
            "+-----------+------+-----------+--------+----------+-------+------+--------+----------+---------+---------+---------+--------------+----+----------+------------+------------+-----+--------+--------+------+--------+------------+-------------+-----------------+-------------+----------------+--------------+----------------+\n",
            "|Postal Code|Region|Customer ID|Category|Order Date|Segment|Row ID|Order ID|Order_Week|Ship Date|Ship_Week|Ship Mode|Country/Region|City|Product ID|Sub-Category|Product Name|Sales|Quantity|Discount|Profit|Returned|Sales target|Product Price|Quantity Required|Customer Name|Regional Manager|State/Province|Product Category|\n",
            "+-----------+------+-----------+--------+----------+-------+------+--------+----------+---------+---------+---------+--------------+----+----------+------------+------------+-----+--------+--------+------+--------+------------+-------------+-----------------+-------------+----------------+--------------+----------------+\n",
            "|          0|     0|          0|       0|         0|      0|     0|       0|         0|        0|        0|        0|             0|   0|         0|           0|           0|    0|       0|       0|     0|       0|          88|            0|               88|            0|               0|             0|               0|\n",
            "+-----------+------+-----------+--------+----------+-------+------+--------+----------+---------+---------+---------+--------------+----+----------+------------+------------+-----+--------+--------+------+--------+------------+-------------+-----------------+-------------+----------------+--------------+----------------+\n",
            "\n"
          ]
        }
      ]
    },
    {
      "cell_type": "code",
      "source": [
        "sales_df.show(5)"
      ],
      "metadata": {
        "colab": {
          "base_uri": "https://localhost:8080/"
        },
        "id": "zQLst-KEnXt7",
        "outputId": "8543d0e2-ef5d-4db7-f3ff-87495cb65057"
      },
      "execution_count": null,
      "outputs": [
        {
          "output_type": "stream",
          "name": "stdout",
          "text": [
            "+-----------+-------+-----------+---------------+----------+---------+------+--------------+----------+----------+---------+--------------+--------------+----------+---------------+------------+--------------------+------------------+--------+--------+------------------+--------+------------+------------------+------------------+-------------+-----------------+--------------+----------------+\n",
            "|Postal Code| Region|Customer ID|       Category|Order Date|  Segment|Row ID|      Order ID|Order_Week| Ship Date|Ship_Week|     Ship Mode|Country/Region|      City|     Product ID|Sub-Category|        Product Name|             Sales|Quantity|Discount|            Profit|Returned|Sales target|     Product Price| Quantity Required|Customer Name| Regional Manager|State/Province|Product Category|\n",
            "+-----------+-------+-----------+---------------+----------+---------+------+--------------+----------+----------+---------+--------------+--------------+----------+---------------+------------+--------------------+------------------+--------+--------+------------------+--------+------------+------------------+------------------+-------------+-----------------+--------------+----------------+\n",
            "|      75007|Central|   EA-14035|Office Supplies|2021-06-20|Corporate|  5062|US-2021-108581|   2021-26|2021-06-26|  2021-26|Standard Class| United States|Carrollton|OFF-PA-10000809|       Paper|           Xerox 206|10.368000000000002|       2|     0.2|            3.6288| Pending|          52| 6.480000000000001|10.030864197530862|Erin Ashbrook|Roxanne Rodriguez|         Texas|             OFF|\n",
            "|      75007|Central|   DP-13000|      Furniture|2019-11-12| Consumer|  1565|US-2019-122609|   2019-46|2019-11-18|  2019-47|Standard Class| United States|Carrollton|FUR-FU-10004587| Furnishings|GE General Use Ha...|25.128000000000004|       3|     0.6|           -6.9102| Pending|         556|             20.94| 66.38013371537726|Darren Powers|Roxanne Rodriguez|         Texas|             FUR|\n",
            "|      75007|Central|   JK-15730|Office Supplies|2020-03-20| Consumer|  2263|US-2020-127607|   2020-12|2020-03-26|  2020-13|Standard Class| United States|Carrollton|OFF-BI-10001308|     Binders|GBC Standard Plas...|2.5119999999999996|       2|     0.8|-4.396000000000003| Pending|          48|              6.28|38.216560509554164|Joe Kamberova|Roxanne Rodriguez|         Texas|             OFF|\n",
            "|      75007|Central|   JK-15730|Office Supplies|2020-03-20| Consumer|  2267|US-2020-127607|   2020-12|2020-03-26|  2020-13|Standard Class| United States|Carrollton|OFF-FA-10003485|   Fasteners|             Staples|            18.864|       9|     0.2|            6.1308| Pending|          48|2.6199999999999997| 22.90076335877863|Joe Kamberova|Roxanne Rodriguez|         Texas|             OFF|\n",
            "|      75007|Central|   DP-13000|     Technology|2019-11-12| Consumer|  1573|US-2019-122609|   2019-46|2019-11-18|  2019-47|Standard Class| United States|Carrollton|TEC-AC-10002567| Accessories|Logitech G602 Wir...|           127.984|       2|     0.2|25.596799999999998| Pending|         115|             79.99| 1.797099637454682|Darren Powers|Roxanne Rodriguez|         Texas|             TEC|\n",
            "+-----------+-------+-----------+---------------+----------+---------+------+--------------+----------+----------+---------+--------------+--------------+----------+---------------+------------+--------------------+------------------+--------+--------+------------------+--------+------------+------------------+------------------+-------------+-----------------+--------------+----------------+\n",
            "only showing top 5 rows\n",
            "\n"
          ]
        }
      ]
    },
    {
      "cell_type": "markdown",
      "source": [
        "Handling missing values in the Sales target column by mean of sales target value"
      ],
      "metadata": {
        "id": "FVT5afupC6d1"
      }
    },
    {
      "cell_type": "code",
      "source": [
        "from pyspark.sql.functions import mean\n",
        "mean_sales_target = sales_df.select(mean(col('Sales target'))).collect()[0][0]\n",
        "sales_df = sales_df.withColumn('Sales target', when(col('Sales target').isNull(), mean_sales_target).otherwise(col('Sales target')))"
      ],
      "metadata": {
        "id": "b5jGIAKangmi"
      },
      "execution_count": null,
      "outputs": []
    },
    {
      "cell_type": "code",
      "source": [
        "missing_values_cal()"
      ],
      "metadata": {
        "colab": {
          "base_uri": "https://localhost:8080/"
        },
        "id": "o8CPQ_aj5mnL",
        "outputId": "50fe7afd-cd31-414b-c480-2852dabf4d06"
      },
      "execution_count": null,
      "outputs": [
        {
          "output_type": "stream",
          "name": "stdout",
          "text": [
            "+-----------+------+-----------+--------+----------+-------+------+--------+----------+---------+---------+---------+--------------+----+----------+------------+------------+-----+--------+--------+------+--------+------------+-------------+-----------------+-------------+----------------+--------------+----------------+\n",
            "|Postal Code|Region|Customer ID|Category|Order Date|Segment|Row ID|Order ID|Order_Week|Ship Date|Ship_Week|Ship Mode|Country/Region|City|Product ID|Sub-Category|Product Name|Sales|Quantity|Discount|Profit|Returned|Sales target|Product Price|Quantity Required|Customer Name|Regional Manager|State/Province|Product Category|\n",
            "+-----------+------+-----------+--------+----------+-------+------+--------+----------+---------+---------+---------+--------------+----+----------+------------+------------+-----+--------+--------+------+--------+------------+-------------+-----------------+-------------+----------------+--------------+----------------+\n",
            "|          0|     0|          0|       0|         0|      0|     0|       0|         0|        0|        0|        0|             0|   0|         0|           0|           0|    0|       0|       0|     0|       0|           0|            0|               88|            0|               0|             0|               0|\n",
            "+-----------+------+-----------+--------+----------+-------+------+--------+----------+---------+---------+---------+--------------+----+----------+------------+------------+-----+--------+--------+------+--------+------------+-------------+-----------------+-------------+----------------+--------------+----------------+\n",
            "\n"
          ]
        }
      ]
    },
    {
      "cell_type": "code",
      "source": [
        "mean_sales_target = sales_df.select(mean(col('Quantity Required'))).collect()[0][0]\n",
        "sales_df = sales_df.withColumn('Quantity Required', when(col('Quantity Required').isNull(), mean_sales_target).otherwise(col('Quantity Required')))"
      ],
      "metadata": {
        "id": "HIG0OaECykuG"
      },
      "execution_count": null,
      "outputs": []
    },
    {
      "cell_type": "code",
      "source": [
        "missing_values_cal()"
      ],
      "metadata": {
        "colab": {
          "base_uri": "https://localhost:8080/"
        },
        "id": "AfS1lU2aJ0-G",
        "outputId": "d49f4f07-6d7f-47fc-9908-712e882f1c73"
      },
      "execution_count": null,
      "outputs": [
        {
          "output_type": "stream",
          "name": "stdout",
          "text": [
            "+-----------+------+-----------+--------+----------+-------+------+--------+----------+---------+---------+---------+--------------+----+----------+------------+------------+-----+--------+--------+------+--------+------------+-------------+-----------------+-------------+----------------+--------------+----------------+\n",
            "|Postal Code|Region|Customer ID|Category|Order Date|Segment|Row ID|Order ID|Order_Week|Ship Date|Ship_Week|Ship Mode|Country/Region|City|Product ID|Sub-Category|Product Name|Sales|Quantity|Discount|Profit|Returned|Sales target|Product Price|Quantity Required|Customer Name|Regional Manager|State/Province|Product Category|\n",
            "+-----------+------+-----------+--------+----------+-------+------+--------+----------+---------+---------+---------+--------------+----+----------+------------+------------+-----+--------+--------+------+--------+------------+-------------+-----------------+-------------+----------------+--------------+----------------+\n",
            "|          0|     0|          0|       0|         0|      0|     0|       0|         0|        0|        0|        0|             0|   0|         0|           0|           0|    0|       0|       0|     0|       0|           0|            0|                0|            0|               0|             0|               0|\n",
            "+-----------+------+-----------+--------+----------+-------+------+--------+----------+---------+---------+---------+--------------+----+----------+------------+------------+-----+--------+--------+------+--------+------------+-------------+-----------------+-------------+----------------+--------------+----------------+\n",
            "\n"
          ]
        }
      ]
    },
    {
      "cell_type": "code",
      "source": [
        "query = \"\"\"\n",
        "SELECT *\n",
        "FROM sales_view\n",
        "WHERE `Order Date` = '2019-01-04'\n",
        "\"\"\"\n",
        "result = spark.sql(query)\n",
        "result.show()"
      ],
      "metadata": {
        "colab": {
          "base_uri": "https://localhost:8080/"
        },
        "id": "4dc5z4ga40AB",
        "outputId": "ae650f9c-1dd7-492f-f87a-02890afd3234"
      },
      "execution_count": null,
      "outputs": [
        {
          "output_type": "stream",
          "name": "stdout",
          "text": [
            "+-----------+---------------+----------+-----------+------+--------------+----------+----------+---------+--------------+--------------+----------+--------------+-----------+-------+-----------------+---------------+------------+--------------------+-----------------+--------+--------+------------------+--------+------------+------------------+------------------+-------------+\n",
            "|Customer ID|       Category|Order Date|    Segment|Row ID|      Order ID|Order_Week| Ship Date|Ship_Week|     Ship Mode|Country/Region|      City|State/Province|Postal Code| Region| Regional Manager|     Product ID|Sub-Category|        Product Name|            Sales|Quantity|Discount|            Profit|Returned|Sales target|     Product Price| Quantity Required|Customer Name|\n",
            "+-----------+---------------+----------+-----------+------+--------------+----------+----------+---------+--------------+--------------+----------+--------------+-----------+-------+-----------------+---------------+------------+--------------------+-----------------+--------+--------+------------------+--------+------------+------------------+------------------+-------------+\n",
            "|   PO-19195|Office Supplies|2019-01-04|Home Office|     2|US-2019-112326|    2019-1|2019-01-08|   2019-2|Standard Class| United States|Naperville|      Illinois|      60540|Central|Roxanne Rodriguez|OFF-BI-10004094|     Binders|GBC Standard Plas...|3.539999999999999|       2|     0.8|            -5.487|     NaN|         300|              8.85|169.49152542372886|Phillina Ober|\n",
            "|   PO-19195|Office Supplies|2019-01-04|Home Office|     3|US-2019-112326|    2019-1|2019-01-08|   2019-2|Standard Class| United States|Naperville|           NaN|      60540|Central|Roxanne Rodriguez|OFF-LA-10003223|      Labels|           Avery 508|           11.784|       3|     0.2| 4.271699999999999|     NaN|         300|              4.91| 76.37474541751527|Phillina Ober|\n",
            "|   PO-19195|Office Supplies|2019-01-04|Home Office|     4|US-2019-112326|    2019-1|2019-01-08|   2019-2|Standard Class| United States|Naperville|      Illinois|      60540|Central|Roxanne Rodriguez|OFF-ST-10002743|     Storage|SAFCO Boltless St...|          272.736|       3|     0.2|-64.77480000000001|     NaN|         300|113.63999999999999| 3.299894403379092|Phillina Ober|\n",
            "+-----------+---------------+----------+-----------+------+--------------+----------+----------+---------+--------------+--------------+----------+--------------+-----------+-------+-----------------+---------------+------------+--------------------+-----------------+--------+--------+------------------+--------+------------+------------------+------------------+-------------+\n",
            "\n"
          ]
        }
      ]
    },
    {
      "cell_type": "markdown",
      "source": [
        "Analysing the Data"
      ],
      "metadata": {
        "id": "hBVqmzxCyhvc"
      }
    },
    {
      "cell_type": "code",
      "source": [
        "sales_df.printSchema()"
      ],
      "metadata": {
        "colab": {
          "base_uri": "https://localhost:8080/"
        },
        "id": "vWMQV0ox6baQ",
        "outputId": "fb0917f2-8616-4473-8de8-551902e2ba91"
      },
      "execution_count": null,
      "outputs": [
        {
          "output_type": "stream",
          "name": "stdout",
          "text": [
            "root\n",
            " |-- Postal Code: string (nullable = true)\n",
            " |-- Region: string (nullable = true)\n",
            " |-- Customer ID: string (nullable = true)\n",
            " |-- Category: string (nullable = true)\n",
            " |-- Order Date: date (nullable = true)\n",
            " |-- Segment: string (nullable = true)\n",
            " |-- Row ID: integer (nullable = true)\n",
            " |-- Order ID: string (nullable = true)\n",
            " |-- Order_Week: string (nullable = true)\n",
            " |-- Ship Date: date (nullable = true)\n",
            " |-- Ship_Week: string (nullable = true)\n",
            " |-- Ship Mode: string (nullable = true)\n",
            " |-- Country/Region: string (nullable = true)\n",
            " |-- City: string (nullable = true)\n",
            " |-- Product ID: string (nullable = true)\n",
            " |-- Sub-Category: string (nullable = true)\n",
            " |-- Product Name: string (nullable = true)\n",
            " |-- Sales: double (nullable = true)\n",
            " |-- Quantity: integer (nullable = true)\n",
            " |-- Discount: double (nullable = true)\n",
            " |-- Profit: double (nullable = true)\n",
            " |-- Returned: string (nullable = true)\n",
            " |-- Sales target: double (nullable = true)\n",
            " |-- Product Price: double (nullable = true)\n",
            " |-- Quantity Required: double (nullable = true)\n",
            " |-- Customer Name: string (nullable = true)\n",
            " |-- Regional Manager: string (nullable = true)\n",
            " |-- State/Province: string (nullable = true)\n",
            " |-- Product Category: string (nullable = true)\n",
            "\n"
          ]
        }
      ]
    },
    {
      "cell_type": "code",
      "source": [
        "sales_df.describe().show()"
      ],
      "metadata": {
        "colab": {
          "base_uri": "https://localhost:8080/"
        },
        "id": "r_cXZZkZTEgO",
        "outputId": "2eb7b123-7039-4936-9bb5-a3b49304803c"
      },
      "execution_count": null,
      "outputs": [
        {
          "output_type": "stream",
          "name": "stdout",
          "text": [
            "+-------+------------------+-------+-----------+----------+-----------+-----------------+--------------+----------+---------+--------------+--------------+--------+---------------+------------+--------------------+-------------------+------------------+-------------------+------------------+--------+------------------+------------------+--------------------+------------------+----------------+--------------+----------------+\n",
            "|summary|       Postal Code| Region|Customer ID|  Category|    Segment|           Row ID|      Order ID|Order_Week|Ship_Week|     Ship Mode|Country/Region|    City|     Product ID|Sub-Category|        Product Name|              Sales|          Quantity|           Discount|            Profit|Returned|      Sales target|     Product Price|   Quantity Required|     Customer Name|Regional Manager|State/Province|Product Category|\n",
            "+-------+------------------+-------+-----------+----------+-----------+-----------------+--------------+----------+---------+--------------+--------------+--------+---------------+------------+--------------------+-------------------+------------------+-------------------+------------------+--------+------------------+------------------+--------------------+------------------+----------------+--------------+----------------+\n",
            "|  count|             10200|  10200|      10200|     10200|      10200|            10200|         10200|     10200|    10200|         10200|         10200|   10200|          10200|       10200|               10200|              10200|             10200|              10200|             10200|   10200|             10200|             10200|               10200|             10200|           10200|         10200|           10200|\n",
            "|   mean|        55195.5078|   null|       null|      null|       null|5095.785588235294|          null|      null|     null|          null|          null|    null|           null|        null|                null| 228.24717653921448|3.7916666666666665|0.15540294117647457|28.657187098039277|    null| 649.0640822784807| 75.18443980071143|   57.54757057298164|              null|            null|          null|            null|\n",
            "| stddev|32062.160151167245|   null|       null|      null|       null|2942.881530961313|          null|      null|     null|          null|          null|    null|           null|        null|                null|  619.8148979039086|2.2279256007033776|0.20620199100730913| 232.3984628787709|    null|1095.1535127279226|187.95543398921905|  165.76523754494275|              null|            null|          null|            null|\n",
            "|    min|             01040|Central|   AA-10315| Furniture|   Consumer|                1|CA-2019-100867|    2019-1|  2019-10|   First Class|        Canada|Aberdeen|FUR-BO-10000112| Accessories|\"While you Were O...|0.44399999999999995|                 1|                0.0|-6599.978000000001| Pending|               1.0|0.9899999999999999|0.024615573965953583|     Aaron Bergman|     Chuck Magee|       Alabama|             FUR|\n",
            "|    max|               V6Z|   West|   ZD-21925|Technology|Home Office|            10194|US-2022-169999|    2022-9|   2023-1|Standard Class| United States|    Yuma|TEC-PH-10004977|      Tables|netTALK DUO VoIP ...|           22638.48|                14|                0.8| 8399.975999999999|     Yes|           25729.0|           7546.16|    5608.58585858586|Zuschuss Donatelli| Sadie Pawthorne|       Wyoming|             TEC|\n",
            "+-------+------------------+-------+-----------+----------+-----------+-----------------+--------------+----------+---------+--------------+--------------+--------+---------------+------------+--------------------+-------------------+------------------+-------------------+------------------+--------+------------------+------------------+--------------------+------------------+----------------+--------------+----------------+\n",
            "\n"
          ]
        }
      ]
    },
    {
      "cell_type": "code",
      "source": [
        "import matplotlib.pyplot as plt\n",
        "\n",
        "sales_by_category = sales_df.groupBy('Product Category').sum('Sales').toPandas()\n",
        "\n",
        "plt.figure(figsize=(8, 4))\n",
        "plt.bar(sales_by_category['Product Category'], sales_by_category['sum(Sales)'])\n",
        "plt.xlabel('Product Category')\n",
        "plt.ylabel('Total Sales')\n",
        "plt.title('Total Sales by Product Category')\n",
        "plt.show()"
      ],
      "metadata": {
        "colab": {
          "base_uri": "https://localhost:8080/",
          "height": 410
        },
        "id": "qd9eoDfvDWqA",
        "outputId": "b2744287-e19e-4858-c6c3-21f6392af0be"
      },
      "execution_count": null,
      "outputs": [
        {
          "output_type": "display_data",
          "data": {
            "text/plain": [
              "<Figure size 800x400 with 1 Axes>"
            ],
            "image/png": "[encoded data removed]"
          },
          "metadata": {}
        }
      ]
    },
    {
      "cell_type": "markdown",
      "source": [
        "Most of the sales were obtained from the Technology category. Overall all the categories performes a higher total sales."
      ],
      "metadata": {
        "id": "RgA2JDF7YYyw"
      }
    },
    {
      "cell_type": "code",
      "source": [
        "profit_by_region = sales_df.groupBy('Region').sum('Profit').toPandas()\n",
        "\n",
        "plt.figure(figsize=(8, 4))\n",
        "plt.bar(profit_by_region['Region'], profit_by_region['sum(Profit)'])\n",
        "plt.xlabel('Region')\n",
        "plt.ylabel('Total Profit')\n",
        "plt.title('Total Profit by Region')\n",
        "\n",
        "plt.show()"
      ],
      "metadata": {
        "colab": {
          "base_uri": "https://localhost:8080/",
          "height": 410
        },
        "id": "Iqjfp7f2D8xq",
        "outputId": "74be4dd3-9a32-46b0-a2dd-1f6ecb4e06cf"
      },
      "execution_count": null,
      "outputs": [
        {
          "output_type": "display_data",
          "data": {
            "text/plain": [
              "<Figure size 800x400 with 1 Axes>"
            ],
            "image/png": "[encoded data removed]"
          },
          "metadata": {}
        }
      ]
    },
    {
      "cell_type": "markdown",
      "source": [
        "The maximum total profit was gained in the West region while the minimum profit was gained by Central Province. The East region also gained a significant total progit but less than the total profit gained by the West resion"
      ],
      "metadata": {
        "id": "qrpY0gM6X0-q"
      }
    },
    {
      "cell_type": "code",
      "source": [
        "import seaborn as sns\n",
        "\n",
        "returned_df = sales_df.filter(sales_df[\"Returned\"] == \"Yes\")\n",
        "pending_df = sales_df.filter(sales_df[\"Returned\"] == \"Pending\")\n",
        "\n",
        "return_counts = returned_df.groupBy(\"Product Category\").count().toPandas()\n",
        "pending_counts = pending_df.groupBy(\"Product Category\").count().toPandas()\n",
        "\n",
        "plt.figure(figsize=(8, 4))\n",
        "x = range(len(return_counts))\n",
        "bar_width = 0.2\n",
        "\n",
        "# Plot for Returned\n",
        "plt.bar(x, return_counts['count'], width=bar_width, label='Returned', color='royalblue')\n",
        "\n",
        "# Plot for Pending\n",
        "if not pending_counts.empty:\n",
        "    plt.bar([i + bar_width * 2 for i in x], pending_counts['count'], width=bar_width, label='Pending', color='green')\n",
        "\n",
        "plt.xlabel('Product Category')\n",
        "plt.ylabel('Count')\n",
        "plt.title('Product Returns by Category')\n",
        "plt.xticks([i + bar_width for i in x], return_counts['Product Category'], rotation=45)\n",
        "\n",
        "plt.legend()\n",
        "plt.show()"
      ],
      "metadata": {
        "colab": {
          "base_uri": "https://localhost:8080/",
          "height": 426
        },
        "id": "Iu7_q2kqEYJS",
        "outputId": "c801d9ee-a890-4c27-d41e-5130b296ae55"
      },
      "execution_count": null,
      "outputs": [
        {
          "output_type": "display_data",
          "data": {
            "text/plain": [
              "<Figure size 800x400 with 1 Axes>"
            ],
            "image/png": "[encoded data removed]"
          },
          "metadata": {}
        }
      ]
    },
    {
      "cell_type": "markdown",
      "source": [
        "Office supplies products were returned more than Technology and the Furniture category. But he sales obtained by Furniture less than the other categories. So the reason may be that the product quality of furnitures."
      ],
      "metadata": {
        "id": "lN8tU7qIdLIF"
      }
    },
    {
      "cell_type": "code",
      "source": [
        "distinct_product_category = sales_df.select(\"Returned\").distinct()\n",
        "distinct_product_category.show()"
      ],
      "metadata": {
        "colab": {
          "base_uri": "https://localhost:8080/"
        },
        "id": "39jzW5xCEmJK",
        "outputId": "1fd0af0e-be77-4aaf-c507-5278a07767ea"
      },
      "execution_count": null,
      "outputs": [
        {
          "output_type": "stream",
          "name": "stdout",
          "text": [
            "+--------+\n",
            "|Returned|\n",
            "+--------+\n",
            "|     Yes|\n",
            "| Pending|\n",
            "+--------+\n",
            "\n"
          ]
        }
      ]
    },
    {
      "cell_type": "code",
      "source": [
        "sales_by_category = sales_df.groupBy('Segment').sum('Sales').toPandas()\n",
        "\n",
        "plt.figure(figsize=(8, 4))\n",
        "plt.bar(sales_by_category['Segment'], sales_by_category['sum(Sales)'])\n",
        "plt.xlabel('Segment')\n",
        "plt.ylabel('Total Sales')\n",
        "plt.title('Total Sales by Segment')\n",
        "plt.show()"
      ],
      "metadata": {
        "colab": {
          "base_uri": "https://localhost:8080/",
          "height": 410
        },
        "id": "OCiyW5nVcMb2",
        "outputId": "cb1267a1-7595-43ca-a76a-c425dd3f06d0"
      },
      "execution_count": null,
      "outputs": [
        {
          "output_type": "display_data",
          "data": {
            "text/plain": [
              "<Figure size 800x400 with 1 Axes>"
            ],
            "image/png": "[encoded data removed]"
          },
          "metadata": {}
        }
      ]
    },
    {
      "cell_type": "markdown",
      "source": [
        "Consumer segment has a higher total values that Home office segment and corporate segment. the least profit may also obtained by the home office segment"
      ],
      "metadata": {
        "id": "-gqMrzvMhTdg"
      }
    },
    {
      "cell_type": "code",
      "source": [
        "profit_by_segment = sales_df.groupBy('Segment').sum('Profit').toPandas()\n",
        "\n",
        "plt.figure(figsize=(8, 4))\n",
        "plt.bar(profit_by_segment['Segment'], profit_by_segment['sum(Profit)'])\n",
        "plt.xlabel('Segment')\n",
        "plt.ylabel('Total Profit')\n",
        "plt.title('Total Profit by Segment')\n",
        "\n",
        "plt.show()"
      ],
      "metadata": {
        "colab": {
          "base_uri": "https://localhost:8080/",
          "height": 410
        },
        "id": "c-qp5nK1gxVk",
        "outputId": "f12c9bf4-8d63-4aba-c68d-cde2caab6898"
      },
      "execution_count": null,
      "outputs": [
        {
          "output_type": "display_data",
          "data": {
            "text/plain": [
              "<Figure size 800x400 with 1 Axes>"
            ],
            "image/png": "[encoded data removed]"
          },
          "metadata": {}
        }
      ]
    },
    {
      "cell_type": "markdown",
      "source": [
        "Consumer segment has a higher demand and achieved total profit more than home office segment and corporate segments"
      ],
      "metadata": {
        "id": "pJLNaZMcB09t"
      }
    },
    {
      "cell_type": "markdown",
      "source": [
        "Building the model"
      ],
      "metadata": {
        "id": "yeVoO9YzkpPr"
      }
    },
    {
      "cell_type": "code",
      "source": [
        "sales_df.show()"
      ],
      "metadata": {
        "colab": {
          "base_uri": "https://localhost:8080/"
        },
        "id": "I2f_v8xDhNwn",
        "outputId": "5c450687-9e74-4bb4-e834-ae760f1b65f9"
      },
      "execution_count": null,
      "outputs": [
        {
          "output_type": "stream",
          "name": "stdout",
          "text": [
            "+-----------+-------+-----------+---------------+----------+-----------+------+--------------+----------+----------+---------+--------------+--------------+----------------+---------------+------------+--------------------+------------------+--------+--------+-------------------+--------+------------+------------------+------------------+-------------------+-----------------+--------------+----------------+\n",
            "|Postal Code| Region|Customer ID|       Category|Order Date|    Segment|Row ID|      Order ID|Order_Week| Ship Date|Ship_Week|     Ship Mode|Country/Region|            City|     Product ID|Sub-Category|        Product Name|             Sales|Quantity|Discount|             Profit|Returned|Sales target|     Product Price| Quantity Required|      Customer Name| Regional Manager|State/Province|Product Category|\n",
            "+-----------+-------+-----------+---------------+----------+-----------+------+--------------+----------+----------+---------+--------------+--------------+----------------+---------------+------------+--------------------+------------------+--------+--------+-------------------+--------+------------+------------------+------------------+-------------------+-----------------+--------------+----------------+\n",
            "|      71111|  South|   CS-12250|Office Supplies|2019-01-13|  Corporate|    26|US-2019-162775|    2019-3|2019-01-15|   2019-3|  Second Class| United States|    Bossier City|OFF-BI-10004187|     Binders|  3-ring staple pack|              5.64|       3|     0.0| 2.7071999999999994| Pending|       570.0|              1.88|303.19148936170217|    Chris Selesnick|      Fred Suzuki|     Louisiana|             OFF|\n",
            "|      71111|  South|   CS-12250|Office Supplies|2019-01-13|  Corporate|    27|US-2019-162775|    2019-3|2019-01-15|   2019-3|  Second Class| United States|    Bossier City|OFF-EN-10001532|   Envelopes|Brown Kraft Recyc...|             50.94|       3|     0.0|              25.47| Pending|       570.0|             16.98| 33.56890459363957|    Chris Selesnick|      Fred Suzuki|     Louisiana|             OFF|\n",
            "|      71111|  South|   CS-12250|Office Supplies|2019-01-13|  Corporate|    28|US-2019-162775|    2019-3|2019-01-15|   2019-3|  Second Class| United States|    Bossier City|OFF-EN-10001990|   Envelopes|     Staple envelope|             11.36|       2|     0.0|  5.339199999999999| Pending|       570.0|              5.68|100.35211267605634|    Chris Selesnick|      Fred Suzuki|     Louisiana|             OFF|\n",
            "|      71111|  South|   CS-12250|Office Supplies|2019-01-13|  Corporate|    30|US-2019-162775|    2019-3|2019-01-15|   2019-3|  Second Class| United States|    Bossier City|OFF-ST-10000025|     Storage|Fellowes Stor/Dra...|            572.58|       6|     0.0| 34.354799999999955| Pending|       570.0|             95.43| 5.972964476579691|    Chris Selesnick|      Fred Suzuki|     Louisiana|             OFF|\n",
            "|      48227|Central|   MS-17365|Office Supplies|2019-09-09|   Consumer|  1070|US-2019-144407|   2019-37|2019-09-15|  2019-38|Standard Class| United States|         Detroit|OFF-LA-10003923|      Labels|Alphabetical Labe...|103.60000000000001|       7|     0.0| 51.800000000000004| Pending|       124.0|              14.8| 8.378378378378377|Maribeth Schnelling|Roxanne Rodriguez|      Michigan|             OFF|\n",
            "|      19140|   East|   LC-17140|Office Supplies|2019-09-09|   Consumer|  1071|US-2019-102869|   2019-37|2019-09-14|  2019-37|  Second Class| United States|    Philadelphia|OFF-PA-10000788|       Paper|           Xerox 210|15.552000000000003|       3|     0.2|             5.4432| Pending|       124.0|              6.48|23.919753086419753|       Logan Currie|      Chuck Magee|  Pennsylvania|             OFF|\n",
            "|      60653|Central|   CC-12220|Office Supplies|2019-09-09|   Consumer|  1073|US-2019-103527|   2019-37|2019-09-14|  2019-37|  Second Class| United States|         Chicago|OFF-PA-10001622|       Paper|Ampad Poly Cover ...|            10.896|       3|     0.2| 3.4049999999999994| Pending|       124.0|              4.54|34.140969162995596|       Chris Cortes|Roxanne Rodriguez|      Illinois|             OFF|\n",
            "|      94110|   West|   RP-19270|     Technology|2019-10-19|  Corporate|  1376|US-2019-155264|   2019-42|2019-10-22|  2019-43|  Second Class| United States|   San Francisco|TEC-PH-10001305|      Phones|Panasonic KX TS20...|117.57600000000002|       3|     0.2|  11.75760000000001| Pending|       128.0| 48.99000000000001|3.2659726474790767|       Rachel Payne|  Sadie Pawthorne|    California|             TEC|\n",
            "|      94109|   West|   AH-10030|Office Supplies|2019-10-25|  Corporate|  1401|US-2019-158400|   2019-43|2019-10-28|  2019-44|   First Class| United States|   San Francisco|OFF-BI-10002353|     Binders|GBC VeloBind Cove...|            49.408|       4|     0.2|             18.528| Pending|        42.0|             15.44| 3.400259067357513|      Aaron Hawkins|  Sadie Pawthorne|    California|             OFF|\n",
            "|      94110|   West|   NL-18310|     Technology|2019-10-31|Home Office|  1434|US-2019-120313|   2019-44|2019-11-02|  2019-44|  Second Class| United States|   San Francisco|TEC-PH-10003092|      Phones|       Motorola L804|            73.584|       2|     0.2|  8.278199999999998| Pending|        81.0|             45.99|2.2015655577299413|     Nancy Lomonaco|  Sadie Pawthorne|    California|             TEC|\n",
            "|      90008|   West|   BP-11095|Office Supplies|2019-12-19|  Corporate|  1900|US-2019-162992|   2019-51|2019-12-21|  2019-51|   First Class| United States|     Los Angeles|OFF-FA-10004248|   Fasteners|Advantus T-Pin Pa...|22.549999999999997|       5|     0.0|  8.794500000000001| Pending|        37.0|              4.51|   8.2039911308204|       Bart Pistole|  Sadie Pawthorne|    California|             OFF|\n",
            "|      90008|   West|   BP-11095|Office Supplies|2019-12-19|  Corporate|  1901|US-2019-162992|   2019-51|2019-12-21|  2019-51|   First Class| United States|     Los Angeles|OFF-LA-10001934|      Labels|           Avery 516|             14.62|       2|     0.0| 6.8713999999999995| Pending|        37.0|              7.31|  5.06155950752394|       Bart Pistole|  Sadie Pawthorne|    California|             OFF|\n",
            "|      80906|   West|   SP-20620|Office Supplies|2020-01-06|  Corporate|  2073|US-2020-149636|    2020-2|2020-01-12|   2020-3|Standard Class| United States|Colorado Springs|OFF-BI-10002764|     Binders|Recycled Pressboa...|1.9380000000000002|       2|     0.7|-1.3565999999999994|     Yes|        31.0|              3.23|31.991744066047463|   Stefania Perrino|  Sadie Pawthorne|      Colorado|             OFF|\n",
            "|      80906|   West|   SP-20620|Office Supplies|2020-01-06|  Corporate|  2074|US-2020-149636|    2020-2|2020-01-12|   2020-3|Standard Class| United States|Colorado Springs|OFF-PA-10004041|       Paper|It's Hot Message ...|29.600000000000005|       5|     0.2|  9.249999999999996|     Yes|        31.0| 7.400000000000001| 5.236486486486486|   Stefania Perrino|  Sadie Pawthorne|      Colorado|             OFF|\n",
            "|      60610|Central|   RL-19615|Office Supplies|2020-07-12|   Consumer|  2834|US-2020-126557|   2020-29|2020-07-17|  2020-29|  Second Class| United States|         Chicago|OFF-AR-10003190|         Art|           Newell 32| 6.911999999999999|       3|     0.2| 0.6912000000000003| Pending|         8.0|2.8799999999999994| 3.472222222222223|          Rob Lucas|Roxanne Rodriguez|      Illinois|             OFF|\n",
            "|      60610|Central|   RL-19615|Office Supplies|2020-07-12|   Consumer|  2835|US-2020-126557|   2020-29|2020-07-17|  2020-29|  Second Class| United States|         Chicago|OFF-BI-10003314|     Binders|Tuff Stuff Recycl...|1.9279999999999997|       2|     0.8|-2.9884000000000004| Pending|         8.0|              4.82| 8.298755186721992|          Rob Lucas|Roxanne Rodriguez|      Illinois|             OFF|\n",
            "|      10024|   East|   PJ-19015|Office Supplies|2020-07-18|   Consumer|  2862|US-2020-122973|   2020-29|2020-07-20|  2020-30|  Second Class| United States|   New York City|OFF-BI-10004182|     Binders|     Economy Binders|3.3280000000000003|       2|     0.2| 1.2064000000000001| Pending|         4.0|              2.08|2.4038461538461537|    Pauline Johnson|      Chuck Magee|      New York|             OFF|\n",
            "|      48205|Central|   HW-14935|Office Supplies|2020-09-27|  Corporate|  3346|US-2020-103072|   2020-40|2020-09-30|  2020-40|  Second Class| United States|         Detroit|OFF-AR-10000127|         Art|          Newell 321|              16.4|       5|     0.0| 4.7559999999999985| Pending|       150.0|              3.28| 45.73170731707317|    Helen Wasserman|Roxanne Rodriguez|      Michigan|             OFF|\n",
            "|      98103|   West|   SS-20140|Office Supplies|2020-09-27|  Corporate|  3347|US-2020-143616|   2020-40|2020-09-29|  2020-40|  Second Class| United States|         Seattle|OFF-AR-10002067|         Art|          Newell 334|              99.2|       5|     0.0|             25.792| Pending|       150.0|             19.84| 7.560483870967742|   Saphhira Shifley|  Sadie Pawthorne|    Washington|             OFF|\n",
            "|      48205|Central|   HW-14935|Office Supplies|2020-09-27|  Corporate|  3351|US-2020-103072|   2020-40|2020-09-30|  2020-40|  Second Class| United States|         Detroit|OFF-PA-10003172|       Paper|          Xerox 1996|             25.92|       4|     0.0| 12.441600000000001| Pending|       150.0|              6.48|23.148148148148145|    Helen Wasserman|Roxanne Rodriguez|      Michigan|             OFF|\n",
            "+-----------+-------+-----------+---------------+----------+-----------+------+--------------+----------+----------+---------+--------------+--------------+----------------+---------------+------------+--------------------+------------------+--------+--------+-------------------+--------+------------+------------------+------------------+-------------------+-----------------+--------------+----------------+\n",
            "only showing top 20 rows\n",
            "\n"
          ]
        }
      ]
    },
    {
      "cell_type": "code",
      "source": [
        "for i in sales_df.columns:\n",
        "  print(f\"{i} : {sales_df.select(i).distinct().count()}\")"
      ],
      "metadata": {
        "colab": {
          "base_uri": "https://localhost:8080/"
        },
        "id": "hr-g0qv1kzWN",
        "outputId": "4e7110f6-9d38-4959-df49-a160cd9b446e"
      },
      "execution_count": null,
      "outputs": [
        {
          "output_type": "stream",
          "name": "stdout",
          "text": [
            "Postal Code : 654\n",
            "Region : 4\n",
            "Customer ID : 804\n",
            "Category : 3\n",
            "Order Date : 1242\n",
            "Segment : 3\n",
            "Row ID : 10194\n",
            "Order ID : 5111\n",
            "Order_Week : 212\n",
            "Ship Date : 1338\n",
            "Ship_Week : 212\n",
            "Ship Mode : 4\n",
            "Country/Region : 2\n",
            "City : 542\n",
            "Product ID : 1862\n",
            "Sub-Category : 17\n",
            "Product Name : 1849\n",
            "Sales : 6161\n",
            "Quantity : 14\n",
            "Discount : 12\n",
            "Profit : 7597\n",
            "Returned : 2\n",
            "Sales target : 1342\n",
            "Product Price : 1775\n",
            "Quantity Required : 9831\n",
            "Customer Name : 800\n",
            "Regional Manager : 4\n",
            "State/Province : 59\n",
            "Product Category : 3\n"
          ]
        }
      ]
    },
    {
      "cell_type": "code",
      "source": [
        "#roundoff the values\n",
        "from pyspark.sql.functions import round\n",
        "sales_df = sales_df.withColumn(\"Profit\", round(sales_df[\"Profit\"], 3))\n",
        "sales_df = sales_df.withColumn(\"Sales\", round(sales_df[\"Sales\"], 3))\n",
        "sales_df = sales_df.withColumn(\"Product Price\", round(sales_df[\"Product Price\"], 3))\n",
        "sales_df = sales_df.withColumn(\"Quantity Required\", round(col(\"Quantity Required\"), 1).cast(\"integer\"))"
      ],
      "metadata": {
        "id": "S4aoStkEoKqn"
      },
      "execution_count": null,
      "outputs": []
    },
    {
      "cell_type": "code",
      "source": [
        "sales_df.show(5)"
      ],
      "metadata": {
        "colab": {
          "base_uri": "https://localhost:8080/"
        },
        "id": "OAff6kjt-_x6",
        "outputId": "eed64c4d-645b-4ce8-dc85-900c632b8ef1"
      },
      "execution_count": null,
      "outputs": [
        {
          "output_type": "stream",
          "name": "stdout",
          "text": [
            "+-----------+-------+-----------+---------------+----------+---------+------+--------------+----------+----------+---------+--------------+--------------+------------+---------------+------------+--------------------+------+--------+--------+------+--------+------------+-------------+-----------------+-------------------+-----------------+--------------+----------------+\n",
            "|Postal Code| Region|Customer ID|       Category|Order Date|  Segment|Row ID|      Order ID|Order_Week| Ship Date|Ship_Week|     Ship Mode|Country/Region|        City|     Product ID|Sub-Category|        Product Name| Sales|Quantity|Discount|Profit|Returned|Sales target|Product Price|Quantity Required|      Customer Name| Regional Manager|State/Province|Product Category|\n",
            "+-----------+-------+-----------+---------------+----------+---------+------+--------------+----------+----------+---------+--------------+--------------+------------+---------------+------------+--------------------+------+--------+--------+------+--------+------------+-------------+-----------------+-------------------+-----------------+--------------+----------------+\n",
            "|      71111|  South|   CS-12250|Office Supplies|2019-01-13|Corporate|    26|US-2019-162775|    2019-3|2019-01-15|   2019-3|  Second Class| United States|Bossier City|OFF-BI-10004187|     Binders|  3-ring staple pack|  5.64|       3|     0.0| 2.707| Pending|       570.0|         1.88|              303|    Chris Selesnick|      Fred Suzuki|     Louisiana|             OFF|\n",
            "|      71111|  South|   CS-12250|Office Supplies|2019-01-13|Corporate|    27|US-2019-162775|    2019-3|2019-01-15|   2019-3|  Second Class| United States|Bossier City|OFF-EN-10001532|   Envelopes|Brown Kraft Recyc...| 50.94|       3|     0.0| 25.47| Pending|       570.0|        16.98|               33|    Chris Selesnick|      Fred Suzuki|     Louisiana|             OFF|\n",
            "|      71111|  South|   CS-12250|Office Supplies|2019-01-13|Corporate|    28|US-2019-162775|    2019-3|2019-01-15|   2019-3|  Second Class| United States|Bossier City|OFF-EN-10001990|   Envelopes|     Staple envelope| 11.36|       2|     0.0| 5.339| Pending|       570.0|         5.68|              100|    Chris Selesnick|      Fred Suzuki|     Louisiana|             OFF|\n",
            "|      71111|  South|   CS-12250|Office Supplies|2019-01-13|Corporate|    30|US-2019-162775|    2019-3|2019-01-15|   2019-3|  Second Class| United States|Bossier City|OFF-ST-10000025|     Storage|Fellowes Stor/Dra...|572.58|       6|     0.0|34.355| Pending|       570.0|        95.43|                6|    Chris Selesnick|      Fred Suzuki|     Louisiana|             OFF|\n",
            "|      48227|Central|   MS-17365|Office Supplies|2019-09-09| Consumer|  1070|US-2019-144407|   2019-37|2019-09-15|  2019-38|Standard Class| United States|     Detroit|OFF-LA-10003923|      Labels|Alphabetical Labe...| 103.6|       7|     0.0|  51.8| Pending|       124.0|         14.8|                8|Maribeth Schnelling|Roxanne Rodriguez|      Michigan|             OFF|\n",
            "+-----------+-------+-----------+---------------+----------+---------+------+--------------+----------+----------+---------+--------------+--------------+------------+---------------+------------+--------------------+------+--------+--------+------+--------+------------+-------------+-----------------+-------------------+-----------------+--------------+----------------+\n",
            "only showing top 5 rows\n",
            "\n"
          ]
        }
      ]
    },
    {
      "cell_type": "code",
      "source": [
        "columns_to_drop = ['Row ID', 'Order ID', 'Product Name', 'Customer ID', 'Customer Name', 'Regional Manager','Postal Code', 'Order Date', 'Ship Date', 'Product ID']\n",
        "sales_df = sales_df.drop(*columns_to_drop)"
      ],
      "metadata": {
        "id": "VAraH8PDYrNE"
      },
      "execution_count": null,
      "outputs": []
    },
    {
      "cell_type": "code",
      "source": [],
      "metadata": {
        "id": "LPZzP2w9ldJz"
      },
      "execution_count": null,
      "outputs": []
    },
    {
      "cell_type": "code",
      "source": [
        "sales_df.show(5)"
      ],
      "metadata": {
        "colab": {
          "base_uri": "https://localhost:8080/"
        },
        "id": "-g0dlvjQZ7AF",
        "outputId": "80147677-234a-44bc-8525-b06cb5dd5cf3"
      },
      "execution_count": null,
      "outputs": [
        {
          "output_type": "stream",
          "name": "stdout",
          "text": [
            "+-------+---------------+---------+----------+---------+--------------+--------------+----------+------------+-------+--------+--------+------+--------+------------+-------------+-----------------+--------------+----------------+\n",
            "| Region|       Category|  Segment|Order_Week|Ship_Week|     Ship Mode|Country/Region|      City|Sub-Category|  Sales|Quantity|Discount|Profit|Returned|Sales target|Product Price|Quantity Required|State/Province|Product Category|\n",
            "+-------+---------------+---------+----------+---------+--------------+--------------+----------+------------+-------+--------+--------+------+--------+------------+-------------+-----------------+--------------+----------------+\n",
            "|Central|Office Supplies|Corporate|   2021-26|  2021-26|Standard Class| United States|Carrollton|       Paper| 10.368|       2|     0.2| 3.629| Pending|        52.0|         6.48|               10|         Texas|             OFF|\n",
            "|Central|      Furniture| Consumer|   2019-46|  2019-47|Standard Class| United States|Carrollton| Furnishings| 25.128|       3|     0.6| -6.91| Pending|       556.0|        20.94|               66|         Texas|             FUR|\n",
            "|Central|Office Supplies| Consumer|   2020-12|  2020-13|Standard Class| United States|Carrollton|     Binders|  2.512|       2|     0.8|-4.396| Pending|        48.0|         6.28|               38|         Texas|             OFF|\n",
            "|Central|Office Supplies| Consumer|   2020-12|  2020-13|Standard Class| United States|Carrollton|   Fasteners| 18.864|       9|     0.2| 6.131| Pending|        48.0|         2.62|               22|         Texas|             OFF|\n",
            "|Central|     Technology| Consumer|   2019-46|  2019-47|Standard Class| United States|Carrollton| Accessories|127.984|       2|     0.2|25.597| Pending|       115.0|        79.99|                1|         Texas|             TEC|\n",
            "+-------+---------------+---------+----------+---------+--------------+--------------+----------+------------+-------+--------+--------+------+--------+------------+-------------+-----------------+--------------+----------------+\n",
            "only showing top 5 rows\n",
            "\n"
          ]
        }
      ]
    },
    {
      "cell_type": "code",
      "source": [
        "from pyspark.sql.functions import split\n",
        "\n",
        "sales_df = sales_df.withColumn(\"Year\", split(col(\"Order_Week\"), \"-\")[0].cast(\"integer\"))\n",
        "sales_df = sales_df.withColumn(\"Order Week\", split(col(\"Order_Week\"), \"-\")[1].cast(\"integer\"))\n",
        "\n",
        "sales_df = sales_df.withColumn(\"Ship Week\", split(col(\"Ship_Week\"), \"-\")[1].cast(\"integer\"))\n",
        "\n",
        "sales_df = sales_df.drop('Order_Week')\n",
        "sales_df = sales_df.drop('Ship_Week')\n",
        "sales_df = sales_df.drop('City')\n",
        "sales_df = sales_df.drop('State/Province')\n",
        "sales_df.show(5)"
      ],
      "metadata": {
        "colab": {
          "base_uri": "https://localhost:8080/"
        },
        "id": "w9iAExyMimk6",
        "outputId": "1e19938c-3ad6-4837-fdd0-3ea40adc1f84"
      },
      "execution_count": null,
      "outputs": [
        {
          "output_type": "stream",
          "name": "stdout",
          "text": [
            "+-------+---------------+---------+--------------+--------------+------------+------+--------+--------+------+--------+------------+-------------+-----------------+----------------+----+----------+---------+\n",
            "| Region|       Category|  Segment|     Ship Mode|Country/Region|Sub-Category| Sales|Quantity|Discount|Profit|Returned|Sales target|Product Price|Quantity Required|Product Category|Year|Order Week|Ship Week|\n",
            "+-------+---------------+---------+--------------+--------------+------------+------+--------+--------+------+--------+------------+-------------+-----------------+----------------+----+----------+---------+\n",
            "|  South|Office Supplies|Corporate|  Second Class| United States|     Binders|  5.64|       3|     0.0| 2.707| Pending|       570.0|         1.88|              303|             OFF|2019|         3|        3|\n",
            "|  South|Office Supplies|Corporate|  Second Class| United States|   Envelopes| 50.94|       3|     0.0| 25.47| Pending|       570.0|        16.98|               33|             OFF|2019|         3|        3|\n",
            "|  South|Office Supplies|Corporate|  Second Class| United States|   Envelopes| 11.36|       2|     0.0| 5.339| Pending|       570.0|         5.68|              100|             OFF|2019|         3|        3|\n",
            "|  South|Office Supplies|Corporate|  Second Class| United States|     Storage|572.58|       6|     0.0|34.355| Pending|       570.0|        95.43|                6|             OFF|2019|         3|        3|\n",
            "|Central|Office Supplies| Consumer|Standard Class| United States|      Labels| 103.6|       7|     0.0|  51.8| Pending|       124.0|         14.8|                8|             OFF|2019|        37|       38|\n",
            "+-------+---------------+---------+--------------+--------------+------------+------+--------+--------+------+--------+------------+-------------+-----------------+----------------+----+----------+---------+\n",
            "only showing top 5 rows\n",
            "\n"
          ]
        }
      ]
    },
    {
      "cell_type": "code",
      "source": [
        "sales_df = sales_df.withColumn(\"Year\", col(\"Year\").cast(\"double\"))\n",
        "sales_df = sales_df.withColumn(\"Quantity\", col(\"Quantity\").cast(\"double\"))\n",
        "sales_df = sales_df.withColumn(\"Order Week\", col(\"Order Week\").cast(\"double\"))\n",
        "sales_df = sales_df.withColumn(\"Ship Week\", col(\"Ship Week\").cast(\"double\"))"
      ],
      "metadata": {
        "id": "eYPcq_p9mK7u"
      },
      "execution_count": null,
      "outputs": []
    },
    {
      "cell_type": "code",
      "source": [
        "columns_to_drop = ['Order ID', 'Product Name', 'Customer ID', 'Customer Name', 'Regional Manager','Postal Code', 'Order Date', 'Ship Date', 'Product ID']\n",
        "sales_df = sales_df.drop(*columns_to_drop)"
      ],
      "metadata": {
        "id": "zUqe4-bBmZ9P"
      },
      "execution_count": null,
      "outputs": []
    },
    {
      "cell_type": "code",
      "source": [
        "sales_df.printSchema()"
      ],
      "metadata": {
        "colab": {
          "base_uri": "https://localhost:8080/"
        },
        "id": "KUg1g_jijiVg",
        "outputId": "e17094f6-af68-4d6d-eb99-fc5567be7c65"
      },
      "execution_count": null,
      "outputs": [
        {
          "output_type": "stream",
          "name": "stdout",
          "text": [
            "root\n",
            " |-- Region: string (nullable = true)\n",
            " |-- Category: string (nullable = true)\n",
            " |-- Segment: string (nullable = true)\n",
            " |-- Ship Mode: string (nullable = true)\n",
            " |-- Country/Region: string (nullable = true)\n",
            " |-- Sub-Category: string (nullable = true)\n",
            " |-- Sales: double (nullable = true)\n",
            " |-- Quantity: double (nullable = true)\n",
            " |-- Discount: double (nullable = true)\n",
            " |-- Profit: double (nullable = true)\n",
            " |-- Returned: string (nullable = true)\n",
            " |-- Sales target: double (nullable = true)\n",
            " |-- Product Price: double (nullable = true)\n",
            " |-- Quantity Required: integer (nullable = true)\n",
            " |-- Product Category: string (nullable = true)\n",
            " |-- Year: double (nullable = true)\n",
            " |-- Order Week: double (nullable = true)\n",
            " |-- Ship Week: double (nullable = true)\n",
            "\n"
          ]
        }
      ]
    },
    {
      "cell_type": "code",
      "source": [
        "missing_values_cal()"
      ],
      "metadata": {
        "colab": {
          "base_uri": "https://localhost:8080/"
        },
        "id": "XABBQI0Oh9uD",
        "outputId": "f2b5b504-ca31-494d-b11c-d1a56d29def1"
      },
      "execution_count": null,
      "outputs": [
        {
          "output_type": "stream",
          "name": "stdout",
          "text": [
            "+------+--------+-------+---------+--------------+------------+-----+--------+--------+------+--------+------------+-------------+-----------------+----------------+----+----------+---------+\n",
            "|Region|Category|Segment|Ship Mode|Country/Region|Sub-Category|Sales|Quantity|Discount|Profit|Returned|Sales target|Product Price|Quantity Required|Product Category|Year|Order Week|Ship Week|\n",
            "+------+--------+-------+---------+--------------+------------+-----+--------+--------+------+--------+------------+-------------+-----------------+----------------+----+----------+---------+\n",
            "|     0|       0|      0|        0|             0|           0|    0|       0|       0|     0|       0|           0|            0|                0|               0|   0|         0|        0|\n",
            "+------+--------+-------+---------+--------------+------------+-----+--------+--------+------+--------+------------+-------------+-----------------+----------------+----+----------+---------+\n",
            "\n"
          ]
        }
      ]
    },
    {
      "cell_type": "code",
      "source": [],
      "metadata": {
        "id": "NNVvUWe9NWpH"
      },
      "execution_count": null,
      "outputs": []
    },
    {
      "cell_type": "markdown",
      "source": [
        "Defining the categorical columns and te numerical columns"
      ],
      "metadata": {
        "id": "L7BGIVBUDAT3"
      }
    },
    {
      "cell_type": "code",
      "source": [
        "catCols = [x for (x, dataType) in sales_df.dtypes if dataType == \"string\"]\n",
        "numCols = [\n",
        "    x for (x, dataType) in sales_df.dtypes if ((x != \"Quantity Required\") & (dataType == \"double\" or dataType == \"integer\"))\n",
        "]"
      ],
      "metadata": {
        "id": "zk70bs6QbQy8"
      },
      "execution_count": null,
      "outputs": []
    },
    {
      "cell_type": "code",
      "source": [
        "print(catCols)\n",
        "print(numCols)"
      ],
      "metadata": {
        "colab": {
          "base_uri": "https://localhost:8080/"
        },
        "id": "yof8UQPqhShD",
        "outputId": "bdacc7e7-7e4d-40cc-ee65-92903019a00f"
      },
      "execution_count": null,
      "outputs": [
        {
          "output_type": "stream",
          "name": "stdout",
          "text": [
            "['Region', 'Category', 'Segment', 'Ship Mode', 'Country/Region', 'Sub-Category', 'Returned', 'Product Category']\n",
            "['Sales', 'Quantity', 'Discount', 'Profit', 'Sales target', 'Product Price', 'Year', 'Order Week', 'Ship Week']\n"
          ]
        }
      ]
    },
    {
      "cell_type": "code",
      "source": [
        "from pyspark.ml.feature import(\n",
        "    OneHotEncoder,\n",
        "    StringIndexer\n",
        ")"
      ],
      "metadata": {
        "id": "L4sKgusnnBoN"
      },
      "execution_count": null,
      "outputs": []
    },
    {
      "cell_type": "markdown",
      "source": [
        "Indexing categorical string columns into unique numerical indices"
      ],
      "metadata": {
        "id": "vvvBYZelEX3l"
      }
    },
    {
      "cell_type": "code",
      "source": [
        "string_indexer = [\n",
        "    StringIndexer(inputCol=x, outputCol=x + \"_StringIndexer\", handleInvalid=\"skip\")\n",
        "    for x in catCols\n",
        "]"
      ],
      "metadata": {
        "id": "-zc5ZlR-nI_X"
      },
      "execution_count": null,
      "outputs": []
    },
    {
      "cell_type": "code",
      "source": [
        "string_indexer"
      ],
      "metadata": {
        "colab": {
          "base_uri": "https://localhost:8080/"
        },
        "id": "Pis7Ny_qnMfm",
        "outputId": "f8d0bcc7-7850-4f53-a3e9-2abae4d66749"
      },
      "execution_count": null,
      "outputs": [
        {
          "output_type": "execute_result",
          "data": {
            "text/plain": [
              "[StringIndexer_b2dcb2c36374,\n",
              " StringIndexer_53bf37aba286,\n",
              " StringIndexer_363e7d652012,\n",
              " StringIndexer_f845f3389c5f,\n",
              " StringIndexer_e77503e203c7,\n",
              " StringIndexer_d91e1411d769,\n",
              " StringIndexer_0cb5101c0b8d,\n",
              " StringIndexer_05f0718d2748]"
            ]
          },
          "metadata": {},
          "execution_count": 76
        }
      ]
    },
    {
      "cell_type": "markdown",
      "source": [
        "Unique numerical indices convert into a binary format"
      ],
      "metadata": {
        "id": "cGgf2eU-GbQl"
      }
    },
    {
      "cell_type": "code",
      "source": [
        "one_hot_encoder = [\n",
        "    OneHotEncoder(\n",
        "        inputCols= [f\"{x}_StringIndexer\" for x in catCols],\n",
        "        outputCols=[f\"{x}_OneHotEncoder\" for x in catCols],\n",
        "    )\n",
        "]"
      ],
      "metadata": {
        "id": "MPkFhtJ2nWDn"
      },
      "execution_count": null,
      "outputs": []
    },
    {
      "cell_type": "code",
      "source": [
        "one_hot_encoder"
      ],
      "metadata": {
        "colab": {
          "base_uri": "https://localhost:8080/"
        },
        "id": "C3bq-2YmnaKg",
        "outputId": "80e13c34-214f-40c6-b78a-e71ed71c518a"
      },
      "execution_count": null,
      "outputs": [
        {
          "output_type": "execute_result",
          "data": {
            "text/plain": [
              "[OneHotEncoder_2a730940c0b7]"
            ]
          },
          "metadata": {},
          "execution_count": 78
        }
      ]
    },
    {
      "cell_type": "code",
      "source": [
        "from pyspark.ml.feature import VectorAssembler"
      ],
      "metadata": {
        "id": "O3MJUi_XncGH"
      },
      "execution_count": null,
      "outputs": []
    },
    {
      "cell_type": "markdown",
      "source": [
        "Combine multiple input columns into a single vector colum"
      ],
      "metadata": {
        "id": "skQWSgE3HTmp"
      }
    },
    {
      "cell_type": "code",
      "source": [
        "assemblerInput = [x for x in numCols]\n",
        "assemblerInput += [f\"{x}_OneHotEncoder\" for x in catCols]"
      ],
      "metadata": {
        "id": "F0ba49lSnei0"
      },
      "execution_count": null,
      "outputs": []
    },
    {
      "cell_type": "code",
      "source": [
        "assemblerInput"
      ],
      "metadata": {
        "colab": {
          "base_uri": "https://localhost:8080/"
        },
        "id": "Rl5oefEZnglN",
        "outputId": "e14882f7-ab1a-48af-f852-aa5066868f52"
      },
      "execution_count": null,
      "outputs": [
        {
          "output_type": "execute_result",
          "data": {
            "text/plain": [
              "['Sales',\n",
              " 'Quantity',\n",
              " 'Discount',\n",
              " 'Profit',\n",
              " 'Sales target',\n",
              " 'Product Price',\n",
              " 'Year',\n",
              " 'Order Week',\n",
              " 'Ship Week',\n",
              " 'Region_OneHotEncoder',\n",
              " 'Category_OneHotEncoder',\n",
              " 'Segment_OneHotEncoder',\n",
              " 'Ship Mode_OneHotEncoder',\n",
              " 'Country/Region_OneHotEncoder',\n",
              " 'Sub-Category_OneHotEncoder',\n",
              " 'Returned_OneHotEncoder',\n",
              " 'Product Category_OneHotEncoder']"
            ]
          },
          "metadata": {},
          "execution_count": 81
        }
      ]
    },
    {
      "cell_type": "code",
      "source": [
        "vector_assembler = VectorAssembler(\n",
        "inputCols = assemblerInput, outputCol = \"VectorAssembler_features\")"
      ],
      "metadata": {
        "id": "_kpW0mLaniQG"
      },
      "execution_count": null,
      "outputs": []
    },
    {
      "cell_type": "markdown",
      "source": [
        "defining stages in pipline"
      ],
      "metadata": {
        "id": "YlTHh6ZGHHve"
      }
    },
    {
      "cell_type": "code",
      "source": [
        "stages = []\n",
        "stages +=string_indexer\n",
        "stages += one_hot_encoder\n",
        "stages += [vector_assembler]"
      ],
      "metadata": {
        "id": "za6obv-wnl4-"
      },
      "execution_count": null,
      "outputs": []
    },
    {
      "cell_type": "code",
      "source": [
        "stages"
      ],
      "metadata": {
        "colab": {
          "base_uri": "https://localhost:8080/"
        },
        "id": "IfaoQnHenrNT",
        "outputId": "f9262ed2-70b2-4d5d-e25f-20e2d7adc192"
      },
      "execution_count": null,
      "outputs": [
        {
          "output_type": "execute_result",
          "data": {
            "text/plain": [
              "[StringIndexer_b2dcb2c36374,\n",
              " StringIndexer_53bf37aba286,\n",
              " StringIndexer_363e7d652012,\n",
              " StringIndexer_f845f3389c5f,\n",
              " StringIndexer_e77503e203c7,\n",
              " StringIndexer_d91e1411d769,\n",
              " StringIndexer_0cb5101c0b8d,\n",
              " StringIndexer_05f0718d2748,\n",
              " OneHotEncoder_2a730940c0b7,\n",
              " VectorAssembler_9738696ad822]"
            ]
          },
          "metadata": {},
          "execution_count": 84
        }
      ]
    },
    {
      "cell_type": "markdown",
      "source": [
        "Splitting the dataset for train and test"
      ],
      "metadata": {
        "id": "vSiCMAJ_Hf7K"
      }
    },
    {
      "cell_type": "code",
      "source": [
        "%%time\n",
        "from pyspark.ml import Pipeline\n",
        "\n",
        "pipeline =  Pipeline().setStages(stages)\n",
        "model = pipeline.fit(sales_df)\n",
        "\n",
        "pp_df = model.transform(sales_df)"
      ],
      "metadata": {
        "colab": {
          "base_uri": "https://localhost:8080/"
        },
        "id": "rh9_dMmVny_B",
        "outputId": "2980c52e-56b5-4ea4-e101-ec76b58bd3f5"
      },
      "execution_count": null,
      "outputs": [
        {
          "output_type": "stream",
          "name": "stdout",
          "text": [
            "CPU times: user 221 ms, sys: 26 ms, total: 247 ms\n",
            "Wall time: 17.8 s\n"
          ]
        }
      ]
    },
    {
      "cell_type": "code",
      "source": [
        "pp_df.select(\n",
        "    \"Category\", \"Segment\", \"Country/Region\", \"Product Category\", \"Discount\", \"Product Price\",\"Ship Week\",\"VectorAssembler_features\"\n",
        ").show(truncate=False)"
      ],
      "metadata": {
        "colab": {
          "base_uri": "https://localhost:8080/"
        },
        "id": "_V6MSRGeoP2V",
        "outputId": "aec93b78-83bd-4fce-dd9d-77ef4acc2476"
      },
      "execution_count": null,
      "outputs": [
        {
          "output_type": "stream",
          "name": "stdout",
          "text": [
            "+---------------+-----------+--------------+----------------+--------+-------------+---------+-----------------------------------------------------------------------------------------------------------------------------------+\n",
            "|Category       |Segment    |Country/Region|Product Category|Discount|Product Price|Ship Week|VectorAssembler_features                                                                                                           |\n",
            "+---------------+-----------+--------------+----------------+--------+-------------+---------+-----------------------------------------------------------------------------------------------------------------------------------+\n",
            "|Office Supplies|Corporate  |United States |OFF             |0.0     |1.88         |3.0      |(39,[0,1,3,4,5,6,7,8,12,15,17,19,20,36,37],[5.64,3.0,2.707,570.0,1.88,2019.0,3.0,3.0,1.0,1.0,1.0,1.0,1.0,1.0,1.0])                 |\n",
            "|Office Supplies|Corporate  |United States |OFF             |0.0     |16.98        |3.0      |(39,[0,1,3,4,5,6,7,8,12,15,17,19,31,36,37],[50.94,3.0,25.47,570.0,16.98,2019.0,3.0,3.0,1.0,1.0,1.0,1.0,1.0,1.0,1.0])               |\n",
            "|Office Supplies|Corporate  |United States |OFF             |0.0     |5.68         |3.0      |(39,[0,1,3,4,5,6,7,8,12,15,17,19,31,36,37],[11.36,2.0,5.339,570.0,5.68,2019.0,3.0,3.0,1.0,1.0,1.0,1.0,1.0,1.0,1.0])                |\n",
            "|Office Supplies|Corporate  |United States |OFF             |0.0     |95.43        |3.0      |(39,[0,1,3,4,5,6,7,8,12,15,17,19,24,36,37],[572.58,6.0,34.355,570.0,95.43,2019.0,3.0,3.0,1.0,1.0,1.0,1.0,1.0,1.0,1.0])             |\n",
            "|Office Supplies|Consumer   |United States |OFF             |0.0     |14.8         |38.0     |(39,[0,1,3,4,5,6,7,8,11,12,14,16,19,29,36,37],[103.6,7.0,51.8,124.0,14.8,2019.0,37.0,38.0,1.0,1.0,1.0,1.0,1.0,1.0,1.0,1.0])        |\n",
            "|Office Supplies|Consumer   |United States |OFF             |0.2     |6.48         |37.0     |(39,[0,1,2,3,4,5,6,7,8,10,12,14,17,19,21,36,37],[15.552,3.0,0.2,5.443,124.0,6.48,2019.0,37.0,37.0,1.0,1.0,1.0,1.0,1.0,1.0,1.0,1.0])|\n",
            "|Office Supplies|Consumer   |United States |OFF             |0.2     |4.54         |37.0     |(39,[0,1,2,3,4,5,6,7,8,11,12,14,17,19,21,36,37],[10.896,3.0,0.2,3.405,124.0,4.54,2019.0,37.0,37.0,1.0,1.0,1.0,1.0,1.0,1.0,1.0,1.0])|\n",
            "|Technology     |Corporate  |United States |TEC             |0.2     |48.99        |43.0     |(39,[0,1,2,3,4,5,6,7,8,9,15,17,19,23,36],[117.576,3.0,0.2,11.758,128.0,48.99,2019.0,42.0,43.0,1.0,1.0,1.0,1.0,1.0,1.0])            |\n",
            "|Office Supplies|Corporate  |United States |OFF             |0.2     |15.44        |44.0     |(39,[0,1,2,3,4,5,6,7,8,9,12,15,18,19,20,36,37],[49.408,4.0,0.2,18.528,42.0,15.44,2019.0,43.0,44.0,1.0,1.0,1.0,1.0,1.0,1.0,1.0,1.0])|\n",
            "|Technology     |Home Office|United States |TEC             |0.2     |45.99        |44.0     |(39,[0,1,2,3,4,5,6,7,8,9,17,19,23,36],[73.584,2.0,0.2,8.278,81.0,45.99,2019.0,44.0,44.0,1.0,1.0,1.0,1.0,1.0])                      |\n",
            "|Office Supplies|Corporate  |United States |OFF             |0.0     |4.51         |51.0     |(39,[0,1,3,4,5,6,7,8,9,12,15,18,19,33,36,37],[22.55,5.0,8.795,37.0,4.51,2019.0,51.0,51.0,1.0,1.0,1.0,1.0,1.0,1.0,1.0,1.0])         |\n",
            "|Office Supplies|Corporate  |United States |OFF             |0.0     |7.31         |51.0     |(39,[0,1,3,4,5,6,7,8,9,12,15,18,19,29,36,37],[14.62,2.0,6.871,37.0,7.31,2019.0,51.0,51.0,1.0,1.0,1.0,1.0,1.0,1.0,1.0,1.0])         |\n",
            "|Office Supplies|Corporate  |United States |OFF             |0.7     |3.23         |3.0      |(39,[0,1,2,3,4,5,6,7,8,9,12,15,16,19,20,37],[1.938,2.0,0.7,-1.357,31.0,3.23,2020.0,2.0,3.0,1.0,1.0,1.0,1.0,1.0,1.0,1.0])           |\n",
            "|Office Supplies|Corporate  |United States |OFF             |0.2     |7.4          |3.0      |(39,[0,1,2,3,4,5,6,7,8,9,12,15,16,19,21,37],[29.6,5.0,0.2,9.25,31.0,7.4,2020.0,2.0,3.0,1.0,1.0,1.0,1.0,1.0,1.0,1.0])               |\n",
            "|Office Supplies|Consumer   |United States |OFF             |0.2     |2.88         |29.0     |(39,[0,1,2,3,4,5,6,7,8,11,12,14,17,19,25,36,37],[6.912,3.0,0.2,0.691,8.0,2.88,2020.0,29.0,29.0,1.0,1.0,1.0,1.0,1.0,1.0,1.0,1.0])   |\n",
            "|Office Supplies|Consumer   |United States |OFF             |0.8     |4.82         |29.0     |(39,[0,1,2,3,4,5,6,7,8,11,12,14,17,19,20,36,37],[1.928,2.0,0.8,-2.988,8.0,4.82,2020.0,29.0,29.0,1.0,1.0,1.0,1.0,1.0,1.0,1.0,1.0])  |\n",
            "|Office Supplies|Consumer   |United States |OFF             |0.2     |2.08         |30.0     |(39,[0,1,2,3,4,5,6,7,8,10,12,14,17,19,20,36,37],[3.328,2.0,0.2,1.206,4.0,2.08,2020.0,29.0,30.0,1.0,1.0,1.0,1.0,1.0,1.0,1.0,1.0])   |\n",
            "|Office Supplies|Corporate  |United States |OFF             |0.0     |3.28         |40.0     |(39,[0,1,3,4,5,6,7,8,11,12,15,17,19,25,36,37],[16.4,5.0,4.756,150.0,3.28,2020.0,40.0,40.0,1.0,1.0,1.0,1.0,1.0,1.0,1.0,1.0])        |\n",
            "|Office Supplies|Corporate  |United States |OFF             |0.0     |19.84        |40.0     |(39,[0,1,3,4,5,6,7,8,9,12,15,17,19,25,36,37],[99.2,5.0,25.792,150.0,19.84,2020.0,40.0,40.0,1.0,1.0,1.0,1.0,1.0,1.0,1.0,1.0])       |\n",
            "|Office Supplies|Corporate  |United States |OFF             |0.0     |6.48         |40.0     |(39,[0,1,3,4,5,6,7,8,11,12,15,17,19,21,36,37],[25.92,4.0,12.442,150.0,6.48,2020.0,40.0,40.0,1.0,1.0,1.0,1.0,1.0,1.0,1.0,1.0])      |\n",
            "+---------------+-----------+--------------+----------------+--------+-------------+---------+-----------------------------------------------------------------------------------------------------------------------------------+\n",
            "only showing top 20 rows\n",
            "\n"
          ]
        }
      ]
    },
    {
      "cell_type": "code",
      "source": [
        "import pyspark.sql.functions as F\n",
        "import pyspark.sql.types as T\n",
        "\n",
        "data = pp_df.select(\n",
        "    F.col(\"VectorAssembler_features\").alias(\"features\"),\n",
        "    F.col(\"Quantity Required\").alias(\"Quantity value\")\n",
        ")"
      ],
      "metadata": {
        "id": "1QREI73DxrcE"
      },
      "execution_count": null,
      "outputs": []
    },
    {
      "cell_type": "code",
      "source": [
        "data.show(5, truncate=False)"
      ],
      "metadata": {
        "colab": {
          "base_uri": "https://localhost:8080/"
        },
        "id": "_KL9KaT3yJim",
        "outputId": "1ad611b9-0676-4698-dd6c-a306ceded3ac"
      },
      "execution_count": null,
      "outputs": [
        {
          "output_type": "stream",
          "name": "stdout",
          "text": [
            "+---------------------------------------------------------------------------------------------------------------------------+--------------+\n",
            "|features                                                                                                                   |Quantity value|\n",
            "+---------------------------------------------------------------------------------------------------------------------------+--------------+\n",
            "|(39,[0,1,3,4,5,6,7,8,12,15,17,19,20,36,37],[5.64,3.0,2.707,570.0,1.88,2019.0,3.0,3.0,1.0,1.0,1.0,1.0,1.0,1.0,1.0])         |303           |\n",
            "|(39,[0,1,3,4,5,6,7,8,12,15,17,19,31,36,37],[50.94,3.0,25.47,570.0,16.98,2019.0,3.0,3.0,1.0,1.0,1.0,1.0,1.0,1.0,1.0])       |33            |\n",
            "|(39,[0,1,3,4,5,6,7,8,12,15,17,19,31,36,37],[11.36,2.0,5.339,570.0,5.68,2019.0,3.0,3.0,1.0,1.0,1.0,1.0,1.0,1.0,1.0])        |100           |\n",
            "|(39,[0,1,3,4,5,6,7,8,12,15,17,19,24,36,37],[572.58,6.0,34.355,570.0,95.43,2019.0,3.0,3.0,1.0,1.0,1.0,1.0,1.0,1.0,1.0])     |6             |\n",
            "|(39,[0,1,3,4,5,6,7,8,11,12,14,16,19,29,36,37],[103.6,7.0,51.8,124.0,14.8,2019.0,37.0,38.0,1.0,1.0,1.0,1.0,1.0,1.0,1.0,1.0])|8             |\n",
            "+---------------------------------------------------------------------------------------------------------------------------+--------------+\n",
            "only showing top 5 rows\n",
            "\n"
          ]
        }
      ]
    },
    {
      "cell_type": "code",
      "source": [
        "train_dataset, test_dataset = data.randomSplit([0.7, 0.3])"
      ],
      "metadata": {
        "id": "kDhukWW8yRMG"
      },
      "execution_count": null,
      "outputs": []
    },
    {
      "cell_type": "code",
      "source": [
        "train_dataset.describe().show()"
      ],
      "metadata": {
        "id": "Qltnq-bEyVq1",
        "colab": {
          "base_uri": "https://localhost:8080/"
        },
        "outputId": "a0503334-1b7e-4819-bfa6-af61f286a41b"
      },
      "execution_count": null,
      "outputs": [
        {
          "output_type": "stream",
          "name": "stdout",
          "text": [
            "+-------+------------------+\n",
            "|summary|    Quantity value|\n",
            "+-------+------------------+\n",
            "|  count|              7094|\n",
            "|   mean|55.734564420637156|\n",
            "| stddev|155.61598161932244|\n",
            "|    min|                 0|\n",
            "|    max|              2915|\n",
            "+-------+------------------+\n",
            "\n"
          ]
        }
      ]
    },
    {
      "cell_type": "code",
      "source": [
        "test_dataset.describe().show()"
      ],
      "metadata": {
        "id": "EEN7gSenP-up",
        "colab": {
          "base_uri": "https://localhost:8080/"
        },
        "outputId": "db6b85b4-32f3-4404-af0d-b533646ce40c"
      },
      "execution_count": null,
      "outputs": [
        {
          "output_type": "stream",
          "name": "stdout",
          "text": [
            "+-------+------------------+\n",
            "|summary|    Quantity value|\n",
            "+-------+------------------+\n",
            "|  count|              3106|\n",
            "|   mean| 60.22858982614295|\n",
            "| stddev|186.88110672811146|\n",
            "|    min|                 0|\n",
            "|    max|              5608|\n",
            "+-------+------------------+\n",
            "\n"
          ]
        }
      ]
    },
    {
      "cell_type": "code",
      "source": [
        "from pyspark.ml.regression import LinearRegression"
      ],
      "metadata": {
        "id": "znS9Xga2RPpT"
      },
      "execution_count": null,
      "outputs": []
    },
    {
      "cell_type": "code",
      "source": [
        "LinReg = LinearRegression(featuresCol=\"features\", labelCol=\"Quantity value\")"
      ],
      "metadata": {
        "id": "GpucH8ekvewG"
      },
      "execution_count": null,
      "outputs": []
    },
    {
      "cell_type": "code",
      "source": [
        "model = LinReg.fit(train_dataset)"
      ],
      "metadata": {
        "id": "_HDxxi1Pvkmz"
      },
      "execution_count": null,
      "outputs": []
    },
    {
      "cell_type": "code",
      "source": [
        "pred = model.evaluate(test_dataset)"
      ],
      "metadata": {
        "id": "smYGIGGtvoCY"
      },
      "execution_count": null,
      "outputs": []
    },
    {
      "cell_type": "code",
      "source": [
        "coefficient = model.coefficients\n",
        "print (\"The coefficient of the model is : %a\" %coefficient)"
      ],
      "metadata": {
        "colab": {
          "base_uri": "https://localhost:8080/"
        },
        "id": "cPGk58mfvxE-",
        "outputId": "91915bee-a2ee-46f9-b0b9-a83534fa7911"
      },
      "execution_count": null,
      "outputs": [
        {
          "output_type": "stream",
          "name": "stdout",
          "text": [
            "The coefficient of the model is : DenseVector([-0.072, 0.521, 112.1204, 0.0083, 0.0753, -0.0647, 4.0857, 0.2265, 0.1108, -1.8416, -6.1401, -4.6844, 12.6323, -7.5417, 16.4731, 13.0554, 3.8095, 5.9449, 0.7788, -8.022, 7.1438, -8.4989, 15.7443, -26.5134, -40.4083, 51.6886, -17.9889, -21.2256, -19.1983, 19.5603, -28.6971, -0.2112, -22.6028, 106.1936, 6.2845, -54.9195, 2.5847, 12.6323, -7.5417])\n"
          ]
        }
      ]
    },
    {
      "cell_type": "code",
      "source": [],
      "metadata": {
        "id": "R7MApUbgyj3H"
      },
      "execution_count": null,
      "outputs": []
    }
  ]
}